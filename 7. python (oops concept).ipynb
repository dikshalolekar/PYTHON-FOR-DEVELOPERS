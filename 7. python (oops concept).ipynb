{
 "cells": [
  {
   "cell_type": "code",
   "execution_count": 10,
   "id": "d4b55b55",
   "metadata": {},
   "outputs": [
    {
     "name": "stdout",
     "output_type": "stream",
     "text": [
      "1\n",
      "2\n",
      "3\n",
      "4\n",
      "5\n"
     ]
    }
   ],
   "source": [
    "l = [1,2,3,4,5]\n",
    "for i in l:\n",
    "    print(i)"
   ]
  },
  {
   "cell_type": "code",
   "execution_count": 16,
   "id": "720bf059",
   "metadata": {},
   "outputs": [],
   "source": [
    "class car:\n",
    "    pass"
   ]
  },
  {
   "cell_type": "code",
   "execution_count": 29,
   "id": "59378a70",
   "metadata": {},
   "outputs": [],
   "source": [
    "class car:\n",
    "    def __init__(self, brand_name, fuletype, body_type):\n",
    "        self.brand_name = brand_name\n",
    "        self.fuletype = fuletype\n",
    "        self.body_type = body_type\n",
    "        \n",
    "    def desc_car(self):\n",
    "        print(self.brand_name, self.fuletype, self.body_type)"
   ]
  },
  {
   "cell_type": "code",
   "execution_count": 30,
   "id": "23d12667",
   "metadata": {},
   "outputs": [],
   "source": [
    "innova = car(\"toyota\", \"audi\", \"suv\")"
   ]
  },
  {
   "cell_type": "code",
   "execution_count": 31,
   "id": "d1b24ff9",
   "metadata": {},
   "outputs": [
    {
     "name": "stdout",
     "output_type": "stream",
     "text": [
      "toyota audi suv\n"
     ]
    }
   ],
   "source": [
    "innova.desc_car()"
   ]
  },
  {
   "cell_type": "code",
   "execution_count": 33,
   "id": "1edd5122",
   "metadata": {},
   "outputs": [
    {
     "data": {
      "text/plain": [
       "'toyota'"
      ]
     },
     "execution_count": 33,
     "metadata": {},
     "output_type": "execute_result"
    }
   ],
   "source": [
    "innova.brand_name"
   ]
  },
  {
   "cell_type": "code",
   "execution_count": 37,
   "id": "cee815d6",
   "metadata": {},
   "outputs": [],
   "source": [
    "innova = car(\"toyota\", \"audi\", \"suv\")\n",
    "nexon = car(\"toyota\", \"audi\", \"min_suv\")\n",
    "fortuner = car(\"toyota\", \"audi\", \"desiel\")"
   ]
  },
  {
   "cell_type": "code",
   "execution_count": 38,
   "id": "2cf8d379",
   "metadata": {},
   "outputs": [
    {
     "name": "stdout",
     "output_type": "stream",
     "text": [
      "toyota audi min_suv\n"
     ]
    }
   ],
   "source": [
    "nexon.desc_car()"
   ]
  },
  {
   "cell_type": "code",
   "execution_count": 39,
   "id": "0680add2",
   "metadata": {},
   "outputs": [
    {
     "name": "stdout",
     "output_type": "stream",
     "text": [
      "toyota audi desiel\n"
     ]
    }
   ],
   "source": [
    "fortuner.desc_car()"
   ]
  },
  {
   "cell_type": "code",
   "execution_count": 40,
   "id": "a1cf1bcb",
   "metadata": {},
   "outputs": [],
   "source": [
    "class car:\n",
    "    def __init__(self, body_type, engine, fuel_type):\n",
    "        self.body_type= body_type\n",
    "        self.engine= engine\n",
    "        self.fuel_type= fuel_type\n",
    "        \n",
    "    def test(self):\n",
    "        print(\"This is my first method in car class\")"
   ]
  },
  {
   "cell_type": "code",
   "execution_count": 41,
   "id": "649e12f6",
   "metadata": {},
   "outputs": [],
   "source": [
    "fortuner= car(\"suv\", \"bs4\", \"petrol\")"
   ]
  },
  {
   "cell_type": "code",
   "execution_count": 42,
   "id": "c9a2ff17",
   "metadata": {},
   "outputs": [],
   "source": [
    "nexon= car(\"suv\", \"bs8\", \"petrol\")"
   ]
  },
  {
   "cell_type": "code",
   "execution_count": 43,
   "id": "cb151a52",
   "metadata": {},
   "outputs": [
    {
     "data": {
      "text/plain": [
       "'suv'"
      ]
     },
     "execution_count": 43,
     "metadata": {},
     "output_type": "execute_result"
    }
   ],
   "source": [
    "fortuner.body_type"
   ]
  },
  {
   "cell_type": "code",
   "execution_count": 44,
   "id": "1191c425",
   "metadata": {},
   "outputs": [
    {
     "data": {
      "text/plain": [
       "'bs8'"
      ]
     },
     "execution_count": 44,
     "metadata": {},
     "output_type": "execute_result"
    }
   ],
   "source": [
    "nexon.engine"
   ]
  },
  {
   "cell_type": "code",
   "execution_count": 45,
   "id": "5587fc69",
   "metadata": {},
   "outputs": [
    {
     "data": {
      "text/plain": [
       "'petrol'"
      ]
     },
     "execution_count": 45,
     "metadata": {},
     "output_type": "execute_result"
    }
   ],
   "source": [
    "nexon.fuel_type"
   ]
  },
  {
   "cell_type": "code",
   "execution_count": 46,
   "id": "4d9325a5",
   "metadata": {},
   "outputs": [],
   "source": [
    "class car:\n",
    "    def test(sudh, a, b):\n",
    "        print(\"method of car class\")"
   ]
  },
  {
   "cell_type": "code",
   "execution_count": 48,
   "id": "d39f2ff4",
   "metadata": {},
   "outputs": [],
   "source": [
    "x = car()"
   ]
  },
  {
   "cell_type": "code",
   "execution_count": 49,
   "id": "d82606d2",
   "metadata": {},
   "outputs": [
    {
     "name": "stdout",
     "output_type": "stream",
     "text": [
      "<class '__main__.car'>\n"
     ]
    }
   ],
   "source": [
    "print(type(x))"
   ]
  },
  {
   "cell_type": "code",
   "execution_count": 50,
   "id": "13ff3d52",
   "metadata": {},
   "outputs": [
    {
     "name": "stdout",
     "output_type": "stream",
     "text": [
      "method of car class\n"
     ]
    }
   ],
   "source": [
    "x.test(6,\"hdgtdf\")"
   ]
  },
  {
   "cell_type": "code",
   "execution_count": 51,
   "id": "3ca484a6",
   "metadata": {},
   "outputs": [],
   "source": [
    "class list_parser:\n",
    "    def parser(self,a):\n",
    "        if type(a)==list:\n",
    "            for i in a:\n",
    "                print(i)"
   ]
  },
  {
   "cell_type": "code",
   "execution_count": 52,
   "id": "3c53a5ec",
   "metadata": {},
   "outputs": [
    {
     "name": "stdout",
     "output_type": "stream",
     "text": [
      "2\n",
      "3\n",
      "4\n",
      "5\n",
      "6\n",
      "7\n",
      "8\n"
     ]
    }
   ],
   "source": [
    "c = list_parser()\n",
    "c.parcer([2,3,4,5,6,7,8])"
   ]
  },
  {
   "cell_type": "code",
   "execution_count": 61,
   "id": "304315b8",
   "metadata": {},
   "outputs": [],
   "source": [
    "class list_parser:\n",
    "    def parser(self,a):\n",
    "        if type(a)==list:\n",
    "            for i in a:\n",
    "                print(i)\n",
    "                \n",
    "    def reverser_list(self,z):\n",
    "        if type(z)==list:\n",
    "            return z[::-1]\n",
    "        \n",
    "        "
   ]
  },
  {
   "cell_type": "code",
   "execution_count": 65,
   "id": "51753a4b",
   "metadata": {},
   "outputs": [
    {
     "data": {
      "text/plain": [
       "[8, 7, 6, 5, 4, 3, 2]"
      ]
     },
     "execution_count": 65,
     "metadata": {},
     "output_type": "execute_result"
    }
   ],
   "source": [
    "c = list_parser()\n",
    "c.reverser_list([2,3,4,5,6,7,8])"
   ]
  },
  {
   "cell_type": "code",
   "execution_count": 75,
   "id": "3c066d99",
   "metadata": {},
   "outputs": [],
   "source": [
    "class list_parser:\n",
    "    def __init__(self, l):\n",
    "        self.l=l\n",
    "    \n",
    "    def parser(self):\n",
    "        if type(self.l)==list:\n",
    "            for i in self.l:\n",
    "                print(i)\n",
    "                \n",
    "    def reverser_list(self):\n",
    "        if type(self.l)==list:\n",
    "            return self.l[::-1]\n",
    "        "
   ]
  },
  {
   "cell_type": "code",
   "execution_count": 76,
   "id": "44c59b10",
   "metadata": {},
   "outputs": [
    {
     "name": "stdout",
     "output_type": "stream",
     "text": [
      "2\n",
      "3\n",
      "4\n",
      "5\n",
      "6\n",
      "7\n",
      "8\n"
     ]
    }
   ],
   "source": [
    "c = list_parser([2,3,4,5,6,7,8])\n",
    "c.parser()"
   ]
  },
  {
   "cell_type": "code",
   "execution_count": 78,
   "id": "32e80edd",
   "metadata": {},
   "outputs": [
    {
     "data": {
      "text/plain": [
       "[8, 7, 6, 5, 4, 3, 2]"
      ]
     },
     "execution_count": 78,
     "metadata": {},
     "output_type": "execute_result"
    }
   ],
   "source": [
    "c.reverser_list()"
   ]
  },
  {
   "cell_type": "code",
   "execution_count": 93,
   "id": "2c514fe6",
   "metadata": {},
   "outputs": [],
   "source": [
    "class dict_parsing:\n",
    "    \n",
    "    def __init__(self,a):\n",
    "        self.a=a\n",
    "        \n",
    "    def getkeys(self):\n",
    "        if self.notdict():\n",
    "            return list(self.a.keys())\n",
    "    def getvalues(self):\n",
    "        if self.notdict():\n",
    "            return list(list.a.values())\n",
    "        \n",
    "    def notdict(self):\n",
    "        if type(self.a)!=dict:\n",
    "            raise Exception(self.a, \"Not a Dictionary\")\n",
    "            return l\n",
    "            \n",
    "    def userinput(self):\n",
    "        self.a = eval(input())\n",
    "        print(self.a.type(self.a))\n",
    "        print(self.getkeys())\n",
    "        print(self.getvalues())\n",
    "        \n",
    "    def insertion(self,k,v):\n",
    "        self.a[k]=v"
   ]
  },
  {
   "cell_type": "code",
   "execution_count": 94,
   "id": "1ca4e152",
   "metadata": {},
   "outputs": [],
   "source": [
    "d = dict_parsing({'k': \"Diksha\", 'k2': 7766})"
   ]
  },
  {
   "cell_type": "code",
   "execution_count": 96,
   "id": "0ad548ce",
   "metadata": {},
   "outputs": [],
   "source": [
    "d = dict_parsing({'k':7,'j':8})\n",
    "d.notdict()"
   ]
  },
  {
   "cell_type": "code",
   "execution_count": 97,
   "id": "0a7742af",
   "metadata": {},
   "outputs": [
    {
     "data": {
      "text/plain": [
       "<__main__.dict_parsing at 0x1b9da452be0>"
      ]
     },
     "execution_count": 97,
     "metadata": {},
     "output_type": "execute_result"
    }
   ],
   "source": [
    "d"
   ]
  },
  {
   "cell_type": "code",
   "execution_count": 98,
   "id": "1cbd8c4a",
   "metadata": {},
   "outputs": [
    {
     "name": "stdout",
     "output_type": "stream",
     "text": [
      " Volume in drive C has no label.\n",
      " Volume Serial Number is A469-692E\n",
      "\n",
      " Directory of C:\\Users\\admin\\Downloads\n",
      "\n",
      "17-02-2022  10:53 PM    <DIR>          .\n",
      "17-02-2022  10:53 PM    <DIR>          ..\n",
      "17-02-2022  04:16 PM    <DIR>          .ipynb_checkpoints\n",
      "12-06-2021  10:31 PM    <DIR>          .vs\n",
      "17-02-2022  04:21 PM    <DIR>          __pycache__\n",
      "06-09-2021  10:44 PM         1,149,093 0001.jpg\n",
      "06-09-2021  03:08 PM           747,188 0002.jpg\n",
      "14-02-2022  08:45 PM             5,695 1. Assignment .ipynb\n",
      "11-02-2022  03:00 PM            23,772 1. Python (Tuples, Set, Dict).ipynb\n",
      "27-11-2021  03:18 PM           670,617 10th Marksheet.pdf\n",
      "27-11-2021  03:24 PM           778,701 12th marksheet.pdf\n",
      "27-11-2021  03:31 PM         3,655,804 1-6 sem marksheet.pdf\n",
      "13-01-2022  10:45 PM         3,655,804 1-6+sem+marksheet.pdf\n",
      "23-11-2021  05:04 PM           985,576 18964478_00045815322_1 (1).pdf\n",
      "28-11-2021  10:01 PM           985,576 18964478_00045815322_1 (2).pdf\n",
      "17-01-2022  12:49 PM           985,576 18964478_00045815322_1 (3).pdf\n",
      "17-01-2022  12:49 PM           985,576 18964478_00045815322_1 (4).pdf\n",
      "17-01-2022  12:54 PM           985,576 18964478_00045815322_1 (5).pdf\n",
      "23-11-2021  05:04 PM           985,576 18964478_00045815322_1.pdf\n",
      "13-01-2022  10:35 PM        15,227,426 1ST SEM RESULT-combined.pdf\n",
      "13-02-2022  06:25 PM            27,039 2. python (if-else, loops).ipynb\n",
      "30-01-2022  10:03 PM            49,135 2665de75197d49f0b6d7e87a90a1ce38 (1).jpg\n",
      "30-01-2022  10:10 PM            93,830 2665de75197d49f0b6d7e87a90a1ce38 (2).jpg\n",
      "30-01-2022  10:01 PM            69,970 2665de75197d49f0b6d7e87a90a1ce38.jpg\n",
      "30-01-2022  10:00 PM           914,653 2665de75197d49f0b6d7e87a90a1ce38-0001.jpg\n",
      "14-02-2022  12:31 AM            22,662 3. python (loop, function).ipynb\n",
      "14-02-2022  02:08 PM            20,378 4. python (function) .ipynb\n",
      "14-02-2022  07:18 PM            20,378 4. python (function).ipynb\n",
      "14-02-2022  09:21 PM           248,830 5. python (Iterator Generator & File System).ipynb\n",
      "17-02-2022  05:20 PM            57,666 6. python (Exception Handling).ipynb\n",
      "17-02-2022  10:51 PM            10,940 7. python (oops concept).ipynb\n",
      "09-12-2021  01:27 PM           831,878 7th sem result.pdf\n",
      "30-01-2022  10:15 PM           101,419 8638b9746bac4616ae78d3b098e897a9.jpg\n",
      "30-01-2022  10:14 PM           416,503 8638b9746bac4616ae78d3b098e897a9-0001.jpg\n",
      "09-12-2021  01:28 PM           806,578 8th sem result.pdf\n",
      "30-01-2022  10:12 PM            93,571 a1f0484562ac44c890222df98ebe4fce.jpg\n",
      "30-01-2022  10:11 PM           437,175 a1f0484562ac44c890222df98ebe4fce-0001.jpg\n",
      "09-12-2021  01:50 PM           403,348 Adhar card Sakshi.pdf\n",
      "06-09-2021  02:08 PM           492,971 ADMISSION-FORM-II-mba.pdf\n",
      "06-09-2021  02:12 PM           691,121 ADMISSION-FORM-II-mba-images.zip\n",
      "09-12-2021  01:37 PM           402,050 Admit Card kits.pdf\n",
      "13-01-2022  11:05 PM            34,260 Affidavit (1).docx\n",
      "13-01-2022  11:05 PM            34,160 Affidavit (2).docx\n",
      "27-11-2021  04:16 PM            34,160 Affidavit.docx\n",
      "13-01-2022  11:10 PM            34,253 Affidavit+(1).docx\n",
      "14-10-2021  07:13 PM    <DIR>          anaconda\n",
      "12-06-2021  08:39 PM       978,607,576 android-studio-ide-202.7351085-windows.exe\n",
      "27-01-2022  04:32 PM       100,828,464 ARJUN K. (1).exe\n",
      "28-01-2022  11:44 AM       100,828,464 ARJUN K. (2).exe\n",
      "28-01-2022  01:50 PM       100,828,464 ARJUN K. (3).exe\n",
      "27-01-2022  04:11 PM       100,828,464 ARJUN K..exe\n",
      "26-07-2021  12:11 PM         1,279,864 ASG_1.1_Solution.xlsx\n",
      "09-12-2021  01:38 PM           243,265 Atm card Maharashtra.pdf\n",
      "09-12-2021  01:38 PM           267,840 Atm card UCO.pdf\n",
      "10-02-2022  11:28 PM            47,582 Basics of Python (4 Dec-5 Dec).ipynb\n",
      "09-12-2021  02:09 PM           591,118 Cast Certificate.pdf\n",
      "02-12-2021  07:39 PM           129,489 COC12004.pdf\n",
      "02-12-2021  07:45 PM    <DIR>          COC12004-images\n",
      "02-12-2021  07:43 PM           359,197 COC12004-images.zip\n",
      "06-02-2022  10:34 PM    <DIR>          Compressed\n",
      "14-12-2021  11:08 AM        53,221,290 Concept of Data Warehouse-merged (1).pdf\n",
      "14-12-2021  11:08 AM        53,221,290 Concept of Data Warehouse-merged.pdf\n",
      "09-06-2021  11:56 AM           207,767 Creating_Value_Through_People_Best_Human_Resource_.pdf\n",
      "17-02-2022  03:50 PM    <DIR>          Documents\n",
      "01-06-2021  04:33 PM               754 Documents - Shortcut.lnk\n",
      "09-12-2021  02:19 PM           167,680 DOMICILE CERTIFICATE.pdf\n",
      "27-12-2021  03:12 PM           291,228 educational documents.pdf\n",
      "09-12-2021  02:31 PM           567,588 Electricity Bill.pdf\n",
      "27-10-2021  04:12 PM         8,318,895 excelsheet1.pdf\n",
      "27-10-2021  04:13 PM        12,744,637 excelsheet2.pdf\n",
      "27-10-2021  04:14 PM        14,906,166 excelsheet3.pdf\n",
      "27-10-2021  04:14 PM         7,146,135 excelsheet4.pdf\n",
      "02-12-2021  06:56 PM           354,267 Final Report.docx\n",
      "09-12-2021  02:32 PM           354,134 Ghar Tax Slip.pdf\n",
      "04-12-2021  11:18 AM       115,236,016 GitHubDesktopSetup-x64.exe\n",
      "09-12-2021  01:58 PM           472,493 HSC RESULT 1.pdf\n",
      "09-12-2021  02:00 PM           463,807 HSC Result.pdf\n",
      "13-01-2022  10:43 PM         1,161,407 HSC.pdf\n",
      "06-06-2021  07:13 PM            87,198 ifortiscorporate-diksha lolekar.pdf\n",
      "07-06-2021  01:03 PM            94,359 ifortiscorporate-diksha lolekar-converted.docx\n",
      "29-05-2021  02:09 PM         5,980,224 Intel-Driver-and-Support-Assistant-Installer.exe\n",
      "06-06-2021  07:31 PM           138,560 Internship Offer Letter_Diksha Lolekar.pdf\n",
      "30-05-2021  01:06 AM           128,280 ladder diagram.jpeg\n",
      "30-05-2021  01:07 AM           273,748 Ladderpk.jpg\n",
      "27-11-2021  03:51 PM           123,879 Letter+of+Authorization+-+Background+Verification.pdf\n",
      "06-01-2022  01:19 PM       102,581,576 LockDownBrowserOEMSetup (1).exe\n",
      "06-01-2022  01:19 PM       102,581,576 LockDownBrowserOEMSetup (2).exe\n",
      "30-10-2021  12:44 PM       102,581,576 LockDownBrowserOEMSetup.exe\n",
      "28-11-2021  02:51 PM           383,584 Maharashtra+Bank+passbook.pdf\n",
      "12-02-2022  07:47 PM         2,847,877 Matplotlib.ipynb\n",
      "06-02-2022  10:34 PM    <DIR>          Music\n",
      "17-02-2022  05:20 PM                 0 my_module.py\n",
      "14-02-2022  08:19 PM         5,544,823 obpass (1).pdf\n",
      "14-02-2022  03:48 PM         5,544,823 obpass.pdf\n",
      "07-12-2021  04:15 PM             7,015 offlineaadhaar20211207041511019.zip\n",
      "07-12-2021  04:20 PM             7,016 offlineaadhaar20211207042015602.zip\n",
      "09-12-2021  01:15 PM           586,545 Oriental Life insurance papa.pdf\n",
      "09-12-2021  01:40 PM           611,223 PAN CARD.pdf\n",
      "13-01-2022  11:02 PM           381,465 PAN+CARD-+SAKSHI.pdf\n",
      "09-12-2021  02:45 PM           662,577 PASSPORT Diksha.pdf\n",
      "09-12-2021  02:45 PM           686,804 PASSPORT Sakshi.pdf\n",
      "13-01-2022  11:02 PM         1,089,660 PASSPORT-SAKSHI.pdf\n",
      "07-06-2021  09:10 PM            35,720 Pre Interrogation Assessment.docx\n",
      "15-02-2022  09:42 AM    <DIR>          Programs\n",
      "01-06-2021  08:03 PM         1,848,724 Project thesis grp 1.docx\n",
      "09-12-2021  02:29 PM           353,427 PROVISIONAL KITS.pdf\n",
      "04-02-2022  10:47 PM             5,689 Python for Business Analytics - I.py\n",
      "05-02-2022  10:38 PM            80,779 Python for Business Analytics - II.ipynb\n",
      "09-02-2022  11:56 PM            91,134 Python for Business Analytics - IV.ipynb\n",
      "07-02-2022  12:26 AM            98,393 Python for Business Analytics -III.ipynb\n",
      "09-02-2022  11:27 PM            91,134 Python for Business Analytics IV.ipynb\n",
      "05-02-2022  10:44 PM             6,639 PYTHON I.ipynb\n",
      "05-02-2022  10:44 PM            20,010 PYTHON II.ipynb\n",
      "05-02-2022  10:45 PM            55,179 PYTHON III.ipynb\n",
      "14-12-2021  11:07 AM           408,177 Question Bank DWDM.pdf\n",
      "09-12-2021  02:05 PM         1,295,740 RASHION CARD.pdf\n",
      "02-12-2021  11:43 PM           143,358 report.docx\n",
      "13-01-2022  10:59 PM         4,580,495 Result_merged.pdf\n",
      "20-09-2021  12:48 PM           275,016 SAB-Proctor-win78-2021 (2).exe\n",
      "30-01-2022  09:58 PM            29,795 sakshi_pic (1).jpg\n",
      "30-01-2022  09:57 PM            14,717 sakshi_pic.jpg\n",
      "13-01-2022  11:03 PM           100,628 SAKSHI+LETTER+OF+AUTHORIZATION.pdf\n",
      "15-12-2021  01:48 PM         3,208,704 SecureExamBrowserInstaller_1.4.2 (1).msi\n",
      "13-12-2021  06:45 PM         3,208,704 SecureExamBrowserInstaller_1.4.2.msi\n",
      "28-11-2021  04:20 PM           109,403 SIGN 1-120KB.jpg\n",
      "06-09-2021  03:07 PM            26,128 sing.jpg\n",
      "02-12-2021  08:04 PM           572,900 SIP Presentation ( Sakshi Darwade ).pptx\n",
      "23-09-2021  02:55 PM    <DIR>          sqldeveloper\n",
      "23-09-2021  02:44 PM       446,763,819 sqldeveloper-21.2.1.204.1703-x64.zip\n",
      "23-09-2021  02:37 PM       182,052,469 sqldeveloper64-3.2.20.09.87-no-jre.zip\n",
      "09-12-2021  02:02 PM           542,409 SSC RESULT 1.pdf\n",
      "13-01-2022  10:42 PM         1,223,202 SSC.pdf\n",
      "09-06-2021  02:04 PM            40,692 ST01-HR Management.docx\n",
      "27-10-2021  04:07 PM       245,476,976 TableauPublicDesktop-64bit-10-3-1.exe\n",
      "09-12-2021  02:27 PM           412,287 TC KITS.pdf\n",
      "16-02-2022  06:05 PM               737 test.log\n",
      "14-02-2022  10:38 PM                21 test.txt\n",
      "16-02-2022  03:24 PM                22 test1.txt\n",
      "17-02-2022  04:20 PM                 0 test2.py\n",
      "16-02-2022  06:15 PM                22 test4.txt\n",
      "16-02-2022  03:25 PM                22 test5.txt\n",
      "09-02-2022  11:27 PM            91,134 Unconfirmed 421153.crdownload\n",
      "09-12-2021  02:11 PM           376,161 Validity Certificate.pdf\n",
      "06-02-2022  10:34 PM    <DIR>          Video\n",
      "26-05-2021  09:29 PM               733 Videos - Shortcut.lnk\n",
      "09-12-2021  01:30 PM           725,918 Voter id.pdf\n",
      "12-06-2021  09:55 PM         1,466,736 vs_community__1542485950.1623514969.exe\n",
      "27-10-2021  03:44 PM           129,902 WhatsApp Image 2021-10-27 at 3.42.05 PM (1).jpeg\n",
      "27-10-2021  03:42 PM           129,902 WhatsApp Image 2021-10-27 at 3.42.05 PM.jpeg\n",
      "28-11-2021  04:09 PM           343,144 WhatsApp Image 2021-11-28 at 4.09.28 PM.jpeg\n",
      "28-11-2021  04:13 PM            37,345 WhatsApp Image 2021-11-28 at 4.13.16 PM.jpeg\n",
      "             138 File(s)  2,921,250,459 bytes\n",
      "              13 Dir(s)  18,589,118,464 bytes free\n"
     ]
    }
   ],
   "source": [
    "ls"
   ]
  },
  {
   "cell_type": "code",
   "execution_count": 101,
   "id": "5b4a35e3",
   "metadata": {},
   "outputs": [
    {
     "data": {
      "text/plain": [
       "<_io.TextIOWrapper name='mydict.py' mode='w' encoding='cp1252'>"
      ]
     },
     "execution_count": 101,
     "metadata": {},
     "output_type": "execute_result"
    }
   ],
   "source": [
    "open(\"mydict.py\", \"w\")"
   ]
  },
  {
   "cell_type": "code",
   "execution_count": 102,
   "id": "1dfea93e",
   "metadata": {},
   "outputs": [
    {
     "name": "stdout",
     "output_type": "stream",
     "text": [
      " Volume in drive C has no label.\n",
      " Volume Serial Number is A469-692E\n",
      "\n",
      " Directory of C:\\Users\\admin\\Downloads\n",
      "\n",
      "17-02-2022  11:03 PM    <DIR>          .\n",
      "17-02-2022  11:03 PM    <DIR>          ..\n",
      "17-02-2022  04:16 PM    <DIR>          .ipynb_checkpoints\n",
      "12-06-2021  10:31 PM    <DIR>          .vs\n",
      "17-02-2022  04:21 PM    <DIR>          __pycache__\n",
      "06-09-2021  10:44 PM         1,149,093 0001.jpg\n",
      "06-09-2021  03:08 PM           747,188 0002.jpg\n",
      "14-02-2022  08:45 PM             5,695 1. Assignment .ipynb\n",
      "11-02-2022  03:00 PM            23,772 1. Python (Tuples, Set, Dict).ipynb\n",
      "27-11-2021  03:18 PM           670,617 10th Marksheet.pdf\n",
      "27-11-2021  03:24 PM           778,701 12th marksheet.pdf\n",
      "27-11-2021  03:31 PM         3,655,804 1-6 sem marksheet.pdf\n",
      "13-01-2022  10:45 PM         3,655,804 1-6+sem+marksheet.pdf\n",
      "23-11-2021  05:04 PM           985,576 18964478_00045815322_1 (1).pdf\n",
      "28-11-2021  10:01 PM           985,576 18964478_00045815322_1 (2).pdf\n",
      "17-01-2022  12:49 PM           985,576 18964478_00045815322_1 (3).pdf\n",
      "17-01-2022  12:49 PM           985,576 18964478_00045815322_1 (4).pdf\n",
      "17-01-2022  12:54 PM           985,576 18964478_00045815322_1 (5).pdf\n",
      "23-11-2021  05:04 PM           985,576 18964478_00045815322_1.pdf\n",
      "13-01-2022  10:35 PM        15,227,426 1ST SEM RESULT-combined.pdf\n",
      "13-02-2022  06:25 PM            27,039 2. python (if-else, loops).ipynb\n",
      "30-01-2022  10:03 PM            49,135 2665de75197d49f0b6d7e87a90a1ce38 (1).jpg\n",
      "30-01-2022  10:10 PM            93,830 2665de75197d49f0b6d7e87a90a1ce38 (2).jpg\n",
      "30-01-2022  10:01 PM            69,970 2665de75197d49f0b6d7e87a90a1ce38.jpg\n",
      "30-01-2022  10:00 PM           914,653 2665de75197d49f0b6d7e87a90a1ce38-0001.jpg\n",
      "14-02-2022  12:31 AM            22,662 3. python (loop, function).ipynb\n",
      "14-02-2022  02:08 PM            20,378 4. python (function) .ipynb\n",
      "14-02-2022  07:18 PM            20,378 4. python (function).ipynb\n",
      "14-02-2022  09:21 PM           248,830 5. python (Iterator Generator & File System).ipynb\n",
      "17-02-2022  05:20 PM            57,666 6. python (Exception Handling).ipynb\n",
      "17-02-2022  11:03 PM            23,961 7. python (oops concept).ipynb\n",
      "09-12-2021  01:27 PM           831,878 7th sem result.pdf\n",
      "30-01-2022  10:15 PM           101,419 8638b9746bac4616ae78d3b098e897a9.jpg\n",
      "30-01-2022  10:14 PM           416,503 8638b9746bac4616ae78d3b098e897a9-0001.jpg\n",
      "09-12-2021  01:28 PM           806,578 8th sem result.pdf\n",
      "30-01-2022  10:12 PM            93,571 a1f0484562ac44c890222df98ebe4fce.jpg\n",
      "30-01-2022  10:11 PM           437,175 a1f0484562ac44c890222df98ebe4fce-0001.jpg\n",
      "09-12-2021  01:50 PM           403,348 Adhar card Sakshi.pdf\n",
      "06-09-2021  02:08 PM           492,971 ADMISSION-FORM-II-mba.pdf\n",
      "06-09-2021  02:12 PM           691,121 ADMISSION-FORM-II-mba-images.zip\n",
      "09-12-2021  01:37 PM           402,050 Admit Card kits.pdf\n",
      "13-01-2022  11:05 PM            34,260 Affidavit (1).docx\n",
      "13-01-2022  11:05 PM            34,160 Affidavit (2).docx\n",
      "27-11-2021  04:16 PM            34,160 Affidavit.docx\n",
      "13-01-2022  11:10 PM            34,253 Affidavit+(1).docx\n",
      "14-10-2021  07:13 PM    <DIR>          anaconda\n",
      "12-06-2021  08:39 PM       978,607,576 android-studio-ide-202.7351085-windows.exe\n",
      "27-01-2022  04:32 PM       100,828,464 ARJUN K. (1).exe\n",
      "28-01-2022  11:44 AM       100,828,464 ARJUN K. (2).exe\n",
      "28-01-2022  01:50 PM       100,828,464 ARJUN K. (3).exe\n",
      "27-01-2022  04:11 PM       100,828,464 ARJUN K..exe\n",
      "26-07-2021  12:11 PM         1,279,864 ASG_1.1_Solution.xlsx\n",
      "09-12-2021  01:38 PM           243,265 Atm card Maharashtra.pdf\n",
      "09-12-2021  01:38 PM           267,840 Atm card UCO.pdf\n",
      "10-02-2022  11:28 PM            47,582 Basics of Python (4 Dec-5 Dec).ipynb\n",
      "09-12-2021  02:09 PM           591,118 Cast Certificate.pdf\n",
      "02-12-2021  07:39 PM           129,489 COC12004.pdf\n",
      "02-12-2021  07:45 PM    <DIR>          COC12004-images\n",
      "02-12-2021  07:43 PM           359,197 COC12004-images.zip\n",
      "06-02-2022  10:34 PM    <DIR>          Compressed\n",
      "14-12-2021  11:08 AM        53,221,290 Concept of Data Warehouse-merged (1).pdf\n",
      "14-12-2021  11:08 AM        53,221,290 Concept of Data Warehouse-merged.pdf\n",
      "09-06-2021  11:56 AM           207,767 Creating_Value_Through_People_Best_Human_Resource_.pdf\n",
      "17-02-2022  03:50 PM    <DIR>          Documents\n",
      "01-06-2021  04:33 PM               754 Documents - Shortcut.lnk\n",
      "09-12-2021  02:19 PM           167,680 DOMICILE CERTIFICATE.pdf\n",
      "27-12-2021  03:12 PM           291,228 educational documents.pdf\n",
      "09-12-2021  02:31 PM           567,588 Electricity Bill.pdf\n",
      "27-10-2021  04:12 PM         8,318,895 excelsheet1.pdf\n",
      "27-10-2021  04:13 PM        12,744,637 excelsheet2.pdf\n",
      "27-10-2021  04:14 PM        14,906,166 excelsheet3.pdf\n",
      "27-10-2021  04:14 PM         7,146,135 excelsheet4.pdf\n",
      "02-12-2021  06:56 PM           354,267 Final Report.docx\n",
      "09-12-2021  02:32 PM           354,134 Ghar Tax Slip.pdf\n",
      "04-12-2021  11:18 AM       115,236,016 GitHubDesktopSetup-x64.exe\n",
      "09-12-2021  01:58 PM           472,493 HSC RESULT 1.pdf\n",
      "09-12-2021  02:00 PM           463,807 HSC Result.pdf\n",
      "13-01-2022  10:43 PM         1,161,407 HSC.pdf\n",
      "06-06-2021  07:13 PM            87,198 ifortiscorporate-diksha lolekar.pdf\n",
      "07-06-2021  01:03 PM            94,359 ifortiscorporate-diksha lolekar-converted.docx\n",
      "29-05-2021  02:09 PM         5,980,224 Intel-Driver-and-Support-Assistant-Installer.exe\n",
      "06-06-2021  07:31 PM           138,560 Internship Offer Letter_Diksha Lolekar.pdf\n",
      "30-05-2021  01:06 AM           128,280 ladder diagram.jpeg\n",
      "30-05-2021  01:07 AM           273,748 Ladderpk.jpg\n",
      "27-11-2021  03:51 PM           123,879 Letter+of+Authorization+-+Background+Verification.pdf\n",
      "06-01-2022  01:19 PM       102,581,576 LockDownBrowserOEMSetup (1).exe\n",
      "06-01-2022  01:19 PM       102,581,576 LockDownBrowserOEMSetup (2).exe\n",
      "30-10-2021  12:44 PM       102,581,576 LockDownBrowserOEMSetup.exe\n",
      "28-11-2021  02:51 PM           383,584 Maharashtra+Bank+passbook.pdf\n",
      "12-02-2022  07:47 PM         2,847,877 Matplotlib.ipynb\n",
      "06-02-2022  10:34 PM    <DIR>          Music\n",
      "17-02-2022  05:20 PM                 0 my_module.py\n",
      "17-02-2022  11:03 PM                 0 mydict.py\n",
      "14-02-2022  08:19 PM         5,544,823 obpass (1).pdf\n",
      "14-02-2022  03:48 PM         5,544,823 obpass.pdf\n",
      "07-12-2021  04:15 PM             7,015 offlineaadhaar20211207041511019.zip\n",
      "07-12-2021  04:20 PM             7,016 offlineaadhaar20211207042015602.zip\n",
      "09-12-2021  01:15 PM           586,545 Oriental Life insurance papa.pdf\n",
      "09-12-2021  01:40 PM           611,223 PAN CARD.pdf\n",
      "13-01-2022  11:02 PM           381,465 PAN+CARD-+SAKSHI.pdf\n",
      "09-12-2021  02:45 PM           662,577 PASSPORT Diksha.pdf\n",
      "09-12-2021  02:45 PM           686,804 PASSPORT Sakshi.pdf\n",
      "13-01-2022  11:02 PM         1,089,660 PASSPORT-SAKSHI.pdf\n",
      "07-06-2021  09:10 PM            35,720 Pre Interrogation Assessment.docx\n",
      "15-02-2022  09:42 AM    <DIR>          Programs\n",
      "01-06-2021  08:03 PM         1,848,724 Project thesis grp 1.docx\n",
      "09-12-2021  02:29 PM           353,427 PROVISIONAL KITS.pdf\n",
      "04-02-2022  10:47 PM             5,689 Python for Business Analytics - I.py\n",
      "05-02-2022  10:38 PM            80,779 Python for Business Analytics - II.ipynb\n",
      "09-02-2022  11:56 PM            91,134 Python for Business Analytics - IV.ipynb\n",
      "07-02-2022  12:26 AM            98,393 Python for Business Analytics -III.ipynb\n",
      "09-02-2022  11:27 PM            91,134 Python for Business Analytics IV.ipynb\n",
      "05-02-2022  10:44 PM             6,639 PYTHON I.ipynb\n",
      "05-02-2022  10:44 PM            20,010 PYTHON II.ipynb\n",
      "05-02-2022  10:45 PM            55,179 PYTHON III.ipynb\n",
      "14-12-2021  11:07 AM           408,177 Question Bank DWDM.pdf\n",
      "09-12-2021  02:05 PM         1,295,740 RASHION CARD.pdf\n",
      "02-12-2021  11:43 PM           143,358 report.docx\n",
      "13-01-2022  10:59 PM         4,580,495 Result_merged.pdf\n",
      "20-09-2021  12:48 PM           275,016 SAB-Proctor-win78-2021 (2).exe\n",
      "30-01-2022  09:58 PM            29,795 sakshi_pic (1).jpg\n",
      "30-01-2022  09:57 PM            14,717 sakshi_pic.jpg\n",
      "13-01-2022  11:03 PM           100,628 SAKSHI+LETTER+OF+AUTHORIZATION.pdf\n",
      "15-12-2021  01:48 PM         3,208,704 SecureExamBrowserInstaller_1.4.2 (1).msi\n",
      "13-12-2021  06:45 PM         3,208,704 SecureExamBrowserInstaller_1.4.2.msi\n",
      "28-11-2021  04:20 PM           109,403 SIGN 1-120KB.jpg\n",
      "06-09-2021  03:07 PM            26,128 sing.jpg\n",
      "02-12-2021  08:04 PM           572,900 SIP Presentation ( Sakshi Darwade ).pptx\n",
      "23-09-2021  02:55 PM    <DIR>          sqldeveloper\n",
      "23-09-2021  02:44 PM       446,763,819 sqldeveloper-21.2.1.204.1703-x64.zip\n",
      "23-09-2021  02:37 PM       182,052,469 sqldeveloper64-3.2.20.09.87-no-jre.zip\n",
      "09-12-2021  02:02 PM           542,409 SSC RESULT 1.pdf\n",
      "13-01-2022  10:42 PM         1,223,202 SSC.pdf\n",
      "09-06-2021  02:04 PM            40,692 ST01-HR Management.docx\n",
      "27-10-2021  04:07 PM       245,476,976 TableauPublicDesktop-64bit-10-3-1.exe\n",
      "09-12-2021  02:27 PM           412,287 TC KITS.pdf\n",
      "16-02-2022  06:05 PM               737 test.log\n",
      "14-02-2022  10:38 PM                21 test.txt\n",
      "16-02-2022  03:24 PM                22 test1.txt\n",
      "17-02-2022  04:20 PM                 0 test2.py\n",
      "16-02-2022  06:15 PM                22 test4.txt\n",
      "16-02-2022  03:25 PM                22 test5.txt\n",
      "09-02-2022  11:27 PM            91,134 Unconfirmed 421153.crdownload\n",
      "09-12-2021  02:11 PM           376,161 Validity Certificate.pdf\n",
      "06-02-2022  10:34 PM    <DIR>          Video\n",
      "26-05-2021  09:29 PM               733 Videos - Shortcut.lnk\n",
      "09-12-2021  01:30 PM           725,918 Voter id.pdf\n",
      "12-06-2021  09:55 PM         1,466,736 vs_community__1542485950.1623514969.exe\n",
      "27-10-2021  03:44 PM           129,902 WhatsApp Image 2021-10-27 at 3.42.05 PM (1).jpeg\n",
      "27-10-2021  03:42 PM           129,902 WhatsApp Image 2021-10-27 at 3.42.05 PM.jpeg\n",
      "28-11-2021  04:09 PM           343,144 WhatsApp Image 2021-11-28 at 4.09.28 PM.jpeg\n",
      "28-11-2021  04:13 PM            37,345 WhatsApp Image 2021-11-28 at 4.13.16 PM.jpeg\n",
      "             139 File(s)  2,921,263,480 bytes\n",
      "              13 Dir(s)  18,586,890,240 bytes free\n"
     ]
    }
   ],
   "source": [
    "ls"
   ]
  },
  {
   "cell_type": "code",
   "execution_count": 108,
   "id": "1c4a5e65",
   "metadata": {},
   "outputs": [],
   "source": [
    "import mydict\n"
   ]
  },
  {
   "cell_type": "code",
   "execution_count": 109,
   "id": "d673aa32",
   "metadata": {},
   "outputs": [
    {
     "ename": "ImportError",
     "evalue": "cannot import name 'dict_parsing' from 'mydict' (C:\\Users\\admin\\Downloads\\mydict.py)",
     "output_type": "error",
     "traceback": [
      "\u001b[1;31m---------------------------------------------------------------------------\u001b[0m",
      "\u001b[1;31mImportError\u001b[0m                               Traceback (most recent call last)",
      "\u001b[1;32m<ipython-input-109-e86fa65f2ec1>\u001b[0m in \u001b[0;36m<module>\u001b[1;34m\u001b[0m\n\u001b[1;32m----> 1\u001b[1;33m \u001b[1;32mfrom\u001b[0m \u001b[0mmydict\u001b[0m \u001b[1;32mimport\u001b[0m \u001b[0mdict_parsing\u001b[0m\u001b[1;33m\u001b[0m\u001b[1;33m\u001b[0m\u001b[0m\n\u001b[0m",
      "\u001b[1;31mImportError\u001b[0m: cannot import name 'dict_parsing' from 'mydict' (C:\\Users\\admin\\Downloads\\mydict.py)"
     ]
    }
   ],
   "source": [
    "from mydict import dict_parsing"
   ]
  },
  {
   "cell_type": "code",
   "execution_count": 105,
   "id": "84312c57",
   "metadata": {},
   "outputs": [
    {
     "ename": "AttributeError",
     "evalue": "module 'mydict' has no attribute 'dict_parsing'",
     "output_type": "error",
     "traceback": [
      "\u001b[1;31m---------------------------------------------------------------------------\u001b[0m",
      "\u001b[1;31mAttributeError\u001b[0m                            Traceback (most recent call last)",
      "\u001b[1;32m<ipython-input-105-0f0e83732a8c>\u001b[0m in \u001b[0;36m<module>\u001b[1;34m\u001b[0m\n\u001b[1;32m----> 1\u001b[1;33m \u001b[0md\u001b[0m \u001b[1;33m=\u001b[0m \u001b[0mmydict\u001b[0m\u001b[1;33m.\u001b[0m\u001b[0mdict_parsing\u001b[0m\u001b[1;33m(\u001b[0m\u001b[1;33m{\u001b[0m\u001b[1;34m'k'\u001b[0m\u001b[1;33m:\u001b[0m \u001b[1;34m\"Diksha\"\u001b[0m\u001b[1;33m,\u001b[0m \u001b[1;34m'j'\u001b[0m\u001b[1;33m:\u001b[0m \u001b[1;34m\"Lolekar\"\u001b[0m\u001b[1;33m}\u001b[0m\u001b[1;33m)\u001b[0m\u001b[1;33m\u001b[0m\u001b[1;33m\u001b[0m\u001b[0m\n\u001b[0m",
      "\u001b[1;31mAttributeError\u001b[0m: module 'mydict' has no attribute 'dict_parsing'"
     ]
    }
   ],
   "source": [
    "d = mydict.dict_parsing({'k': \"Diksha\", 'j': \"Lolekar\"})"
   ]
  },
  {
   "cell_type": "code",
   "execution_count": 115,
   "id": "f71074a0",
   "metadata": {},
   "outputs": [],
   "source": [
    "class xyz:\n",
    "    def __init__(self,a,b,c):\n",
    "        self.a=a\n",
    "        self.b=b\n",
    "        self.c=c\n",
    "    def test1(self):\n",
    "        print(\"This is my first test1 method of xyz class\")\n",
    "        \n",
    "    def test2(self):\n",
    "        print(\"This is my first test2 method of xyz class\")\n",
    "    \n",
    "    def test3(self):\n",
    "        print(\"This is my first test3 method of xyz class\")"
   ]
  },
  {
   "cell_type": "code",
   "execution_count": 116,
   "id": "3eb4db65",
   "metadata": {},
   "outputs": [],
   "source": [
    "class xyz1(xyz):\n",
    "    pass"
   ]
  },
  {
   "cell_type": "code",
   "execution_count": 117,
   "id": "d862f8ac",
   "metadata": {},
   "outputs": [],
   "source": [
    "p=xyz(2,3,4)"
   ]
  },
  {
   "cell_type": "code",
   "execution_count": 118,
   "id": "3a07ebab",
   "metadata": {},
   "outputs": [
    {
     "name": "stdout",
     "output_type": "stream",
     "text": [
      "This is my first test1 method of xyz class\n"
     ]
    }
   ],
   "source": [
    "p.test1()"
   ]
  },
  {
   "cell_type": "code",
   "execution_count": 121,
   "id": "5a61ed34",
   "metadata": {},
   "outputs": [],
   "source": [
    "q=xyz1(1,2,3)"
   ]
  },
  {
   "cell_type": "code",
   "execution_count": 122,
   "id": "b3a29517",
   "metadata": {},
   "outputs": [
    {
     "name": "stdout",
     "output_type": "stream",
     "text": [
      "This is my first test1 method of xyz class\n"
     ]
    }
   ],
   "source": [
    "q.test1()"
   ]
  },
  {
   "cell_type": "code",
   "execution_count": 123,
   "id": "09d98af4",
   "metadata": {},
   "outputs": [],
   "source": [
    "class xyz1(xyz):\n",
    "    def test(self):\n",
    "        print(\"This is a test meth available in xyz1\")"
   ]
  },
  {
   "cell_type": "code",
   "execution_count": 124,
   "id": "b264dfa6",
   "metadata": {},
   "outputs": [],
   "source": [
    "g=xyz1(2,3,4)"
   ]
  },
  {
   "cell_type": "code",
   "execution_count": 125,
   "id": "ac298ce6",
   "metadata": {},
   "outputs": [
    {
     "name": "stdout",
     "output_type": "stream",
     "text": [
      "This is a test meth available in xyz1\n"
     ]
    }
   ],
   "source": [
    "g.test()"
   ]
  },
  {
   "cell_type": "code",
   "execution_count": 160,
   "id": "c55d2f34",
   "metadata": {},
   "outputs": [
    {
     "ename": "IndentationError",
     "evalue": "unindent does not match any outer indentation level (<tokenize>, line 17)",
     "output_type": "error",
     "traceback": [
      "\u001b[1;36m  File \u001b[1;32m\"<tokenize>\"\u001b[1;36m, line \u001b[1;32m17\u001b[0m\n\u001b[1;33m    def test1(self) :\u001b[0m\n\u001b[1;37m    ^\u001b[0m\n\u001b[1;31mIndentationError\u001b[0m\u001b[1;31m:\u001b[0m unindent does not match any outer indentation level\n"
     ]
    }
   ],
   "source": [
    "class xyz:\n",
    "    def __init__(self, a, b, c):\n",
    "        self.a= a\n",
    "        self.b= b\n",
    "        self.c= c\n",
    "        \n",
    "    def test(self) :\n",
    "        print(\"This is a method of xyz class\")\n",
    "        \n",
    "class xyz1:\n",
    "    \n",
    "     def __init__(self, p,q,v):\n",
    "        self.p= p\n",
    "        self.q= q\n",
    "        self.v= v\n",
    "        \n",
    "    def test1(self) : \n",
    "        print(\"This is a method of xyz1 class\")\n",
    "        \n",
    "class child(xyz1,xyz):\n",
    "    pass"
   ]
  },
  {
   "cell_type": "code",
   "execution_count": 165,
   "id": "bc435005",
   "metadata": {},
   "outputs": [],
   "source": [
    "class xyz:\n",
    "    def __init__(self, a, b, c):\n",
    "        self.a= a\n",
    "        self.b= b\n",
    "        self.c= c\n",
    "        \n",
    "    def test(self) :\n",
    "        print(\"This is a method of xyz class\")\n",
    "        \n",
    "class xyz1:\n",
    "    \n",
    "     def __init__(self, p,q,v):\n",
    "        self.p= p\n",
    "        self.q= q\n",
    "        self.v= v\n",
    "        \n",
    "    \n",
    "        print(\"This is a method of xyz1 class\")\n",
    "        \n",
    "class child(xyz1,xyz):\n",
    "    def __init__(self,*args):\n",
    "        xyz.__init__(self,*args)\n",
    "        xyz1.__init__(self,*args)"
   ]
  },
  {
   "cell_type": "code",
   "execution_count": 166,
   "id": "e18dbcce",
   "metadata": {},
   "outputs": [
    {
     "name": "stdout",
     "output_type": "stream",
     "text": [
      "This is a method of xyz1 class\n"
     ]
    }
   ],
   "source": [
    "n = child(2,3,4)"
   ]
  },
  {
   "cell_type": "code",
   "execution_count": 168,
   "id": "5cc19c4a",
   "metadata": {},
   "outputs": [
    {
     "data": {
      "text/plain": [
       "2"
      ]
     },
     "execution_count": 168,
     "metadata": {},
     "output_type": "execute_result"
    }
   ],
   "source": [
    "n.p"
   ]
  },
  {
   "cell_type": "code",
   "execution_count": 181,
   "id": "8d69e412",
   "metadata": {},
   "outputs": [],
   "source": [
    "class xyz:\n",
    "    def __init__(self, a, b, c):\n",
    "        self.a= a\n",
    "        self.b= b\n",
    "        self.c= c\n",
    "        \n",
    "    def test(self) :\n",
    "        print(\"This is a method of xyz class\")\n",
    "        \n",
    "class xyz1(xyz):\n",
    "    \n",
    "     def test1(self):\n",
    "        print(\"This is a method of xyz1 class\")\n",
    "        \n",
    "class xyz2(xyz1):\n",
    "    def test2(self):\n",
    "         print(\"This is a method of xyz2 class\")\n",
    "        \n",
    "class xyz2(xyz2):\n",
    "    def test3(self):\n",
    "         print(\"This is a method of xyz3 class\")\n",
    "        "
   ]
  },
  {
   "cell_type": "code",
   "execution_count": 179,
   "id": "910267ab",
   "metadata": {},
   "outputs": [],
   "source": [
    "v= xyz2(3,4,5)"
   ]
  },
  {
   "cell_type": "code",
   "execution_count": 182,
   "id": "2918fff2",
   "metadata": {},
   "outputs": [],
   "source": [
    "class fileoperation:\n",
    "    def __init__(self,filepath):\n",
    "        self.filepath = filepath\n",
    "        \n",
    "    def read(self):\n",
    "        try:\n",
    "            \n",
    "            f= open(self, filepath,\"r+\")\n",
    "            print(f.read())\n",
    "        except Exception as e:\n",
    "            print(e)\n",
    "        f.close()\n",
    "        \n",
    "    def write(self,writings= \"\"):\n",
    "        try:\n",
    "            f= open(self.filepath,\"a\")\n",
    "        except Exception as e:\n",
    "            print(e)\n",
    "            f.write(writings)\n",
    "            f.close()\n",
    "            \n",
    "class child(fileoperation):\n",
    "    pass"
   ]
  },
  {
   "cell_type": "code",
   "execution_count": 184,
   "id": "149d994c",
   "metadata": {},
   "outputs": [
    {
     "data": {
      "text/plain": [
       "__main__.fileoperation"
      ]
     },
     "execution_count": 184,
     "metadata": {},
     "output_type": "execute_result"
    }
   ],
   "source": [
    "fileoperation"
   ]
  },
  {
   "cell_type": "code",
   "execution_count": 201,
   "id": "b1dff2ae",
   "metadata": {},
   "outputs": [],
   "source": [
    "class bonuscalculator:\n",
    "    def __init__(self, empid, emprating):\n",
    "        self.empid = empid\n",
    "        self.emprating = emprating\n",
    "        self.bonusforrartingA = \"70%\"\n",
    "        self.bonusforrartingB = \"60%\"\n",
    "        self.bonusforrartingC = \"40%\"\n",
    "        \n",
    "    def bonuscalculator(self):\n",
    "        if self.emprating ==\"A\":\n",
    "            bonus = self.__bonusforratingA\n",
    "            return bonus\n",
    "        elif self.emprating ==\"B\":\n",
    "            bonus = self.__bonusforratingB\n",
    "            return bonus\n",
    "        \n",
    "        else:\n",
    "            bonus = self.__bonusforratingC\n",
    "            return bonus  "
   ]
  },
  {
   "cell_type": "code",
   "execution_count": 202,
   "id": "6a06479c",
   "metadata": {},
   "outputs": [],
   "source": [
    "emp1 = bonuscalculator(101, 'A')\n",
    "emp2 = bonuscalculator(102, 'B')\n",
    "emp3 = bonuscalculator(103, 'C')"
   ]
  },
  {
   "cell_type": "code",
   "execution_count": 204,
   "id": "d0f87f5a",
   "metadata": {},
   "outputs": [
    {
     "data": {
      "text/plain": [
       "'70%'"
      ]
     },
     "execution_count": 204,
     "metadata": {},
     "output_type": "execute_result"
    }
   ],
   "source": [
    "emp1.bonusforrartingA"
   ]
  },
  {
   "cell_type": "code",
   "execution_count": 205,
   "id": "9048b969",
   "metadata": {},
   "outputs": [
    {
     "data": {
      "text/plain": [
       "'60%'"
      ]
     },
     "execution_count": 205,
     "metadata": {},
     "output_type": "execute_result"
    }
   ],
   "source": [
    "emp2.bonusforrartingB"
   ]
  },
  {
   "cell_type": "code",
   "execution_count": 206,
   "id": "4144180b",
   "metadata": {},
   "outputs": [
    {
     "data": {
      "text/plain": [
       "'40%'"
      ]
     },
     "execution_count": 206,
     "metadata": {},
     "output_type": "execute_result"
    }
   ],
   "source": [
    "emp3.bonusforrartingC"
   ]
  },
  {
   "cell_type": "code",
   "execution_count": 207,
   "id": "db8313e9",
   "metadata": {},
   "outputs": [],
   "source": [
    "emp1.empid = 104"
   ]
  },
  {
   "cell_type": "code",
   "execution_count": 208,
   "id": "a84f4351",
   "metadata": {},
   "outputs": [
    {
     "data": {
      "text/plain": [
       "104"
      ]
     },
     "execution_count": 208,
     "metadata": {},
     "output_type": "execute_result"
    }
   ],
   "source": [
    "emp1.empid"
   ]
  },
  {
   "cell_type": "code",
   "execution_count": 210,
   "id": "0896a203",
   "metadata": {},
   "outputs": [
    {
     "data": {
      "text/plain": [
       "<bound method bonuscalculator.bonuscalculator of <__main__.bonuscalculator object at 0x000001B9DAC0FBB0>>"
      ]
     },
     "execution_count": 210,
     "metadata": {},
     "output_type": "execute_result"
    }
   ],
   "source": [
    "emp1.bonuscalculator"
   ]
  }
 ],
 "metadata": {
  "kernelspec": {
   "display_name": "Python 3",
   "language": "python",
   "name": "python3"
  },
  "language_info": {
   "codemirror_mode": {
    "name": "ipython",
    "version": 3
   },
   "file_extension": ".py",
   "mimetype": "text/x-python",
   "name": "python",
   "nbconvert_exporter": "python",
   "pygments_lexer": "ipython3",
   "version": "3.8.8"
  }
 },
 "nbformat": 4,
 "nbformat_minor": 5
}
