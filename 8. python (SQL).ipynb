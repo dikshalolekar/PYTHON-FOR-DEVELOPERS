{
 "cells": [
  {
   "cell_type": "code",
   "execution_count": 4,
   "id": "b75c26e8",
   "metadata": {},
   "outputs": [],
   "source": [
    "def test(a,b):\n",
    "    return a+b"
   ]
  },
  {
   "cell_type": "code",
   "execution_count": 5,
   "id": "1e1878ab",
   "metadata": {},
   "outputs": [
    {
     "data": {
      "text/plain": [
       "7"
      ]
     },
     "execution_count": 5,
     "metadata": {},
     "output_type": "execute_result"
    }
   ],
   "source": [
    "test(3,4)"
   ]
  },
  {
   "cell_type": "code",
   "execution_count": 7,
   "id": "cd63316d",
   "metadata": {},
   "outputs": [
    {
     "data": {
      "text/plain": [
       "'Diksha Lolekar'"
      ]
     },
     "execution_count": 7,
     "metadata": {},
     "output_type": "execute_result"
    }
   ],
   "source": [
    "test(\"Diksha\",\" Lolekar\")"
   ]
  },
  {
   "cell_type": "code",
   "execution_count": 13,
   "id": "e9bdc0de",
   "metadata": {},
   "outputs": [],
   "source": [
    "class insta:\n",
    "    def share_stories(self):\n",
    "        print(\"This will share my insta story\")\n",
    "class facebook:\n",
    "    def share_stories(self):\n",
    "        print(\"This will share my facebook stories\")"
   ]
  },
  {
   "cell_type": "code",
   "execution_count": 9,
   "id": "2ad5b797",
   "metadata": {},
   "outputs": [],
   "source": [
    "def sharestories(app):\n",
    "    app.share_stories()"
   ]
  },
  {
   "cell_type": "code",
   "execution_count": 15,
   "id": "15e47cad",
   "metadata": {},
   "outputs": [],
   "source": [
    "i=insta()\n",
    "f=facebook()"
   ]
  },
  {
   "cell_type": "code",
   "execution_count": 11,
   "id": "c98afc0e",
   "metadata": {},
   "outputs": [
    {
     "name": "stdout",
     "output_type": "stream",
     "text": [
      "This will share my insta story\n"
     ]
    }
   ],
   "source": [
    "sharestories(i)"
   ]
  },
  {
   "cell_type": "code",
   "execution_count": 16,
   "id": "d859aa83",
   "metadata": {},
   "outputs": [
    {
     "name": "stdout",
     "output_type": "stream",
     "text": [
      "This will share my facebook stories\n"
     ]
    }
   ],
   "source": [
    "sharestories(f)"
   ]
  },
  {
   "cell_type": "code",
   "execution_count": 17,
   "id": "edc7e616",
   "metadata": {},
   "outputs": [],
   "source": [
    "class social_media:\n",
    "    def share_stories(self):\n",
    "        print(\"share a stories\")\n",
    "    def upload_pic(self):\n",
    "        print(\"upload a picture\")\n",
    "class facebook(social_media):\n",
    "    def share_stories(self):\n",
    "        print(\"share story on facebook\")\n",
    "class insta(social_media):\n",
    "    def share_stories(self):\n",
    "        print(\"share story on insta\")\n",
    "        "
   ]
  },
  {
   "cell_type": "code",
   "execution_count": 18,
   "id": "fa9920a7",
   "metadata": {},
   "outputs": [],
   "source": [
    "f = facebook()\n",
    "i = insta()"
   ]
  },
  {
   "cell_type": "code",
   "execution_count": 19,
   "id": "f5ca5ece",
   "metadata": {},
   "outputs": [
    {
     "name": "stdout",
     "output_type": "stream",
     "text": [
      "share story on facebook\n"
     ]
    }
   ],
   "source": [
    "f.share_stories()"
   ]
  },
  {
   "cell_type": "code",
   "execution_count": 20,
   "id": "9950acb0",
   "metadata": {},
   "outputs": [
    {
     "name": "stdout",
     "output_type": "stream",
     "text": [
      "share story on insta\n"
     ]
    }
   ],
   "source": [
    "i.share_stories()"
   ]
  },
  {
   "cell_type": "code",
   "execution_count": 21,
   "id": "e65346c9",
   "metadata": {},
   "outputs": [],
   "source": [
    "class test(Exception):\n",
    "    def __init__(self, msg):\n",
    "        self.msg=msg"
   ]
  },
  {
   "cell_type": "code",
   "execution_count": 22,
   "id": "c6f8ef32",
   "metadata": {},
   "outputs": [
    {
     "name": "stdout",
     "output_type": "stream",
     "text": [
      "my own exception class\n"
     ]
    }
   ],
   "source": [
    "try:\n",
    "    raise(test(\"my own exception class\"))\n",
    "except test as t:\n",
    "    print(t)"
   ]
  },
  {
   "cell_type": "code",
   "execution_count": 23,
   "id": "2dfe6e28",
   "metadata": {},
   "outputs": [],
   "source": [
    " class xyz: #grandparent class\n",
    "        def __init__(self,a,b,c):\n",
    "            self.a=a\n",
    "            self.b=b\n",
    "            self.c=c\n",
    "            \n",
    "        def test(self):\n",
    "            print(\"xyz class method\")\n",
    "            \n",
    "class xyz1(xyz): #parent class\n",
    "       def test1(self):\n",
    "            print(\"xyz1 class method\")\n",
    "            \n",
    "class xyz2(xyz1): #child class\n",
    "       def test2(self):\n",
    "            print(\"xyz2 class method\")\n",
    "            \n",
    "        "
   ]
  },
  {
   "cell_type": "code",
   "execution_count": 24,
   "id": "3aa50351",
   "metadata": {},
   "outputs": [],
   "source": [
    "n= xyz1(3,4,5)"
   ]
  },
  {
   "cell_type": "code",
   "execution_count": 25,
   "id": "31b9608c",
   "metadata": {},
   "outputs": [
    {
     "name": "stdout",
     "output_type": "stream",
     "text": [
      "xyz1 class method\n"
     ]
    }
   ],
   "source": [
    "n.test1()"
   ]
  },
  {
   "cell_type": "code",
   "execution_count": 26,
   "id": "f279509b",
   "metadata": {},
   "outputs": [],
   "source": [
    "#multilevel inheritance\n",
    "class test1:\n",
    "    def a(self):\n",
    "        print(\"inside test1..\")\n",
    "        \n",
    "class test2(test1):\n",
    "    def b(self):\n",
    "        print(\"inside test2..\")\n",
    "        \n",
    "class test3(test2):\n",
    "    def c(self):\n",
    "        print(\"inside test3..\")"
   ]
  },
  {
   "cell_type": "code",
   "execution_count": 27,
   "id": "bc46d4fd",
   "metadata": {},
   "outputs": [],
   "source": [
    "t= test3()"
   ]
  },
  {
   "cell_type": "code",
   "execution_count": 28,
   "id": "3c2a070c",
   "metadata": {},
   "outputs": [
    {
     "name": "stdout",
     "output_type": "stream",
     "text": [
      "inside test1..\n"
     ]
    }
   ],
   "source": [
    "t.a()"
   ]
  },
  {
   "cell_type": "code",
   "execution_count": 29,
   "id": "2e729c73",
   "metadata": {},
   "outputs": [
    {
     "name": "stdout",
     "output_type": "stream",
     "text": [
      "inside test2..\n"
     ]
    }
   ],
   "source": [
    "t.b()"
   ]
  },
  {
   "cell_type": "code",
   "execution_count": 30,
   "id": "60ab77ec",
   "metadata": {},
   "outputs": [
    {
     "name": "stdout",
     "output_type": "stream",
     "text": [
      "inside test3..\n"
     ]
    }
   ],
   "source": [
    "t.c()"
   ]
  },
  {
   "cell_type": "code",
   "execution_count": 31,
   "id": "e1aa433b",
   "metadata": {},
   "outputs": [],
   "source": [
    "#polymorphism\n",
    "\n",
    "class test1:\n",
    "    def a(self):\n",
    "        return \"test1..\"\n",
    "class test2:\n",
    "    def a(self):\n",
    "        return \"test2..\"\n",
    "def poly(obj):\n",
    "    print(obj.a())"
   ]
  },
  {
   "cell_type": "code",
   "execution_count": 32,
   "id": "84376908",
   "metadata": {},
   "outputs": [],
   "source": [
    "t1= test1()\n",
    "t2= test2()"
   ]
  },
  {
   "cell_type": "code",
   "execution_count": 33,
   "id": "42724f72",
   "metadata": {},
   "outputs": [
    {
     "name": "stdout",
     "output_type": "stream",
     "text": [
      "test1..\n",
      "test2..\n"
     ]
    }
   ],
   "source": [
    "poly(t1)\n",
    "poly(t2)"
   ]
  },
  {
   "cell_type": "code",
   "execution_count": 34,
   "id": "dc7f1a58",
   "metadata": {},
   "outputs": [],
   "source": [
    "class abc:\n",
    "    pass"
   ]
  },
  {
   "cell_type": "code",
   "execution_count": 40,
   "id": "4710cb7d",
   "metadata": {},
   "outputs": [],
   "source": [
    "from abc import abstractmethod\n",
    "class data_project:\n",
    "    \n",
    "    @abstractmethod\n",
    "    def read_file(self):\n",
    "        pass\n",
    "    def validate_file_name(self):\n",
    "        pass\n",
    "    def validate_datatype(self):\n",
    "        pass\n",
    "    def validate_db_conn(self):\n",
    "        pass\n",
    "    def create_conn(self):\n",
    "        pass\n",
    "    def insert_data(self):\n",
    "        pass\n",
    "    def delete_data(self):\n",
    "        pass\n",
    "    def update_data(self):\n",
    "        pass\n",
    "    def perform_status(self):\n",
    "        pass\n",
    "    def perform_eda(self):\n",
    "        pass"
   ]
  },
  {
   "cell_type": "code",
   "execution_count": 41,
   "id": "4fddb021",
   "metadata": {},
   "outputs": [],
   "source": [
    "class test:\n",
    "    def fun(self):\n",
    "        print(\"sample class\")"
   ]
  },
  {
   "cell_type": "code",
   "execution_count": 42,
   "id": "b31a0540",
   "metadata": {},
   "outputs": [],
   "source": [
    "t= test()"
   ]
  },
  {
   "cell_type": "code",
   "execution_count": 43,
   "id": "3b0cafc6",
   "metadata": {},
   "outputs": [
    {
     "name": "stdout",
     "output_type": "stream",
     "text": [
      "<__main__.test object at 0x000001778A94F1C0>\n"
     ]
    }
   ],
   "source": [
    "print(t)"
   ]
  },
  {
   "cell_type": "code",
   "execution_count": 44,
   "id": "65b140da",
   "metadata": {},
   "outputs": [
    {
     "data": {
      "text/plain": [
       "<__main__.test at 0x1778a94f1c0>"
      ]
     },
     "execution_count": 44,
     "metadata": {},
     "output_type": "execute_result"
    }
   ],
   "source": [
    "t"
   ]
  },
  {
   "cell_type": "code",
   "execution_count": null,
   "id": "9169992d",
   "metadata": {},
   "outputs": [],
   "source": [
    "#SQL\n"
   ]
  },
  {
   "cell_type": "code",
   "execution_count": null,
   "id": "b55e9b44",
   "metadata": {},
   "outputs": [],
   "source": []
  }
 ],
 "metadata": {
  "kernelspec": {
   "display_name": "Python 3",
   "language": "python",
   "name": "python3"
  },
  "language_info": {
   "codemirror_mode": {
    "name": "ipython",
    "version": 3
   },
   "file_extension": ".py",
   "mimetype": "text/x-python",
   "name": "python",
   "nbconvert_exporter": "python",
   "pygments_lexer": "ipython3",
   "version": "3.8.8"
  }
 },
 "nbformat": 4,
 "nbformat_minor": 5
}
