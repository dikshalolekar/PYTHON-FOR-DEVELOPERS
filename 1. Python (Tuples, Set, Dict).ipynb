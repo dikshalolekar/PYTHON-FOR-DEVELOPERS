{
 "cells": [
  {
   "cell_type": "code",
   "execution_count": 130,
   "id": "e2d170b8",
   "metadata": {},
   "outputs": [],
   "source": [
    "# Tuple\n",
    "t=(1,2,3,4,5)"
   ]
  },
  {
   "cell_type": "code",
   "execution_count": 3,
   "id": "5e6bee9d",
   "metadata": {},
   "outputs": [
    {
     "data": {
      "text/plain": [
       "tuple"
      ]
     },
     "execution_count": 3,
     "metadata": {},
     "output_type": "execute_result"
    }
   ],
   "source": [
    "type(t)"
   ]
  },
  {
   "cell_type": "code",
   "execution_count": 4,
   "id": "5d4823ca",
   "metadata": {},
   "outputs": [],
   "source": [
    "t1=(\"Diksha\", 545, 5+6j, 86.57, True)"
   ]
  },
  {
   "cell_type": "code",
   "execution_count": 6,
   "id": "02bb3ce0",
   "metadata": {},
   "outputs": [],
   "source": [
    "l =[\"Diksha\", 545, 5+6j, 86.57, True]"
   ]
  },
  {
   "cell_type": "code",
   "execution_count": 7,
   "id": "414210ce",
   "metadata": {},
   "outputs": [
    {
     "data": {
      "text/plain": [
       "list"
      ]
     },
     "execution_count": 7,
     "metadata": {},
     "output_type": "execute_result"
    }
   ],
   "source": [
    "type(l)"
   ]
  },
  {
   "cell_type": "code",
   "execution_count": 8,
   "id": "68ae8e50",
   "metadata": {},
   "outputs": [],
   "source": [
    "t2= ()"
   ]
  },
  {
   "cell_type": "code",
   "execution_count": 9,
   "id": "d899b0d8",
   "metadata": {},
   "outputs": [
    {
     "data": {
      "text/plain": [
       "tuple"
      ]
     },
     "execution_count": 9,
     "metadata": {},
     "output_type": "execute_result"
    }
   ],
   "source": [
    "type(t2)"
   ]
  },
  {
   "cell_type": "code",
   "execution_count": 10,
   "id": "82677375",
   "metadata": {},
   "outputs": [
    {
     "data": {
      "text/plain": [
       "['Diksha', 545, (5+6j), 86.57, True]"
      ]
     },
     "execution_count": 10,
     "metadata": {},
     "output_type": "execute_result"
    }
   ],
   "source": [
    "l"
   ]
  },
  {
   "cell_type": "code",
   "execution_count": 11,
   "id": "3f80663f",
   "metadata": {},
   "outputs": [
    {
     "data": {
      "text/plain": [
       "['Diksha', 545]"
      ]
     },
     "execution_count": 11,
     "metadata": {},
     "output_type": "execute_result"
    }
   ],
   "source": [
    "l[0:2]"
   ]
  },
  {
   "cell_type": "code",
   "execution_count": 13,
   "id": "f6ad92a4",
   "metadata": {},
   "outputs": [
    {
     "data": {
      "text/plain": [
       "('Diksha', 545)"
      ]
     },
     "execution_count": 13,
     "metadata": {},
     "output_type": "execute_result"
    }
   ],
   "source": [
    "t1[0:2]"
   ]
  },
  {
   "cell_type": "code",
   "execution_count": 15,
   "id": "3611339f",
   "metadata": {},
   "outputs": [
    {
     "data": {
      "text/plain": [
       "(True, 86.57, (5+6j), 545, 'Diksha')"
      ]
     },
     "execution_count": 15,
     "metadata": {},
     "output_type": "execute_result"
    }
   ],
   "source": [
    "t1[::-1]"
   ]
  },
  {
   "cell_type": "code",
   "execution_count": 16,
   "id": "18b41669",
   "metadata": {},
   "outputs": [
    {
     "data": {
      "text/plain": [
       "('Diksha', (5+6j), True)"
      ]
     },
     "execution_count": 16,
     "metadata": {},
     "output_type": "execute_result"
    }
   ],
   "source": [
    "t1[0::2]"
   ]
  },
  {
   "cell_type": "code",
   "execution_count": 17,
   "id": "cca66cdc",
   "metadata": {},
   "outputs": [],
   "source": [
    "l1=[4,5,6,7]"
   ]
  },
  {
   "cell_type": "code",
   "execution_count": 18,
   "id": "498b6048",
   "metadata": {},
   "outputs": [],
   "source": [
    "l[0]= 'Diksha'"
   ]
  },
  {
   "cell_type": "code",
   "execution_count": 19,
   "id": "1dcf6cf0",
   "metadata": {},
   "outputs": [
    {
     "data": {
      "text/plain": [
       "['Diksha', 545, (5+6j), 86.57, True]"
      ]
     },
     "execution_count": 19,
     "metadata": {},
     "output_type": "execute_result"
    }
   ],
   "source": [
    "l"
   ]
  },
  {
   "cell_type": "code",
   "execution_count": 20,
   "id": "c3c703a2",
   "metadata": {},
   "outputs": [
    {
     "data": {
      "text/plain": [
       "('Diksha', 545, (5+6j), 86.57, True)"
      ]
     },
     "execution_count": 20,
     "metadata": {},
     "output_type": "execute_result"
    }
   ],
   "source": [
    "t1"
   ]
  },
  {
   "cell_type": "code",
   "execution_count": 21,
   "id": "5d8629c3",
   "metadata": {},
   "outputs": [
    {
     "data": {
      "text/plain": [
       "'Diksha'"
      ]
     },
     "execution_count": 21,
     "metadata": {},
     "output_type": "execute_result"
    }
   ],
   "source": [
    "t1[0]"
   ]
  },
  {
   "cell_type": "code",
   "execution_count": 23,
   "id": "905bb735",
   "metadata": {},
   "outputs": [],
   "source": [
    "t2=(33,45,56,78,88,98)"
   ]
  },
  {
   "cell_type": "code",
   "execution_count": 24,
   "id": "4fffcb56",
   "metadata": {},
   "outputs": [
    {
     "data": {
      "text/plain": [
       "('Diksha', 545, (5+6j), 86.57, True, 33, 45, 56, 78, 88, 98)"
      ]
     },
     "execution_count": 24,
     "metadata": {},
     "output_type": "execute_result"
    }
   ],
   "source": [
    "t1+t2"
   ]
  },
  {
   "cell_type": "code",
   "execution_count": 25,
   "id": "87d685b2",
   "metadata": {},
   "outputs": [
    {
     "data": {
      "text/plain": [
       "('Diksha', 545, (5+6j), 86.57, True, 'Diksha', 545, (5+6j), 86.57, True)"
      ]
     },
     "execution_count": 25,
     "metadata": {},
     "output_type": "execute_result"
    }
   ],
   "source": [
    "t1*2"
   ]
  },
  {
   "cell_type": "code",
   "execution_count": 28,
   "id": "8c326671",
   "metadata": {},
   "outputs": [
    {
     "data": {
      "text/plain": [
       "1"
      ]
     },
     "execution_count": 28,
     "metadata": {},
     "output_type": "execute_result"
    }
   ],
   "source": [
    "t1.count(\"Diksha\")"
   ]
  },
  {
   "cell_type": "code",
   "execution_count": 29,
   "id": "9c7d65b0",
   "metadata": {},
   "outputs": [
    {
     "data": {
      "text/plain": [
       "0"
      ]
     },
     "execution_count": 29,
     "metadata": {},
     "output_type": "execute_result"
    }
   ],
   "source": [
    "t1.index(\"Diksha\")"
   ]
  },
  {
   "cell_type": "code",
   "execution_count": 32,
   "id": "62bb15b3",
   "metadata": {},
   "outputs": [],
   "source": [
    "# Nested Tuples(tuple inside tuple)\n",
    "t=(33,4,55,67,7,(4,66,7,88))"
   ]
  },
  {
   "cell_type": "code",
   "execution_count": 34,
   "id": "b36dca02",
   "metadata": {},
   "outputs": [],
   "source": [
    "t1=([34,56,77,87], (\"da\", 576,576),\"AyDy\")"
   ]
  },
  {
   "cell_type": "code",
   "execution_count": 35,
   "id": "62114419",
   "metadata": {},
   "outputs": [
    {
     "data": {
      "text/plain": [
       "[34, 56, 77, 87]"
      ]
     },
     "execution_count": 35,
     "metadata": {},
     "output_type": "execute_result"
    }
   ],
   "source": [
    "t1[0]"
   ]
  },
  {
   "cell_type": "code",
   "execution_count": 37,
   "id": "5851cf55",
   "metadata": {},
   "outputs": [
    {
     "data": {
      "text/plain": [
       "'AyDy'"
      ]
     },
     "execution_count": 37,
     "metadata": {},
     "output_type": "execute_result"
    }
   ],
   "source": [
    "t1[2]"
   ]
  },
  {
   "cell_type": "code",
   "execution_count": 38,
   "id": "d37f4e00",
   "metadata": {},
   "outputs": [
    {
     "data": {
      "text/plain": [
       "[[34, 56, 77, 87], ('da', 576, 576), 'AyDy']"
      ]
     },
     "execution_count": 38,
     "metadata": {},
     "output_type": "execute_result"
    }
   ],
   "source": [
    "list(t1)"
   ]
  },
  {
   "cell_type": "code",
   "execution_count": 39,
   "id": "6bf85c77",
   "metadata": {},
   "outputs": [
    {
     "data": {
      "text/plain": [
       "('Diksha', 545, (5+6j), 86.57, True)"
      ]
     },
     "execution_count": 39,
     "metadata": {},
     "output_type": "execute_result"
    }
   ],
   "source": [
    "tuple(l)"
   ]
  },
  {
   "cell_type": "code",
   "execution_count": 129,
   "id": "bedf8eab",
   "metadata": {},
   "outputs": [],
   "source": [
    "# Set"
   ]
  },
  {
   "cell_type": "code",
   "execution_count": 127,
   "id": "f2a5c96c",
   "metadata": {
    "scrolled": true
   },
   "outputs": [
    {
     "data": {
      "text/plain": [
       "{1, 2, 3, 4, 5, 6, 7, 8, 9}"
      ]
     },
     "execution_count": 127,
     "metadata": {},
     "output_type": "execute_result"
    }
   ],
   "source": [
    "set(l)"
   ]
  },
  {
   "cell_type": "code",
   "execution_count": 128,
   "id": "66a125c9",
   "metadata": {},
   "outputs": [
    {
     "data": {
      "text/plain": [
       "[1, 2, 3, 4, 5, 5, 5, 5, 5, 5, 5, 1, 6, 7, 8, 9, 2, 3]"
      ]
     },
     "execution_count": 128,
     "metadata": {},
     "output_type": "execute_result"
    }
   ],
   "source": [
    "l"
   ]
  },
  {
   "cell_type": "code",
   "execution_count": 46,
   "id": "3ba15064",
   "metadata": {},
   "outputs": [],
   "source": [
    "s= {}"
   ]
  },
  {
   "cell_type": "code",
   "execution_count": 47,
   "id": "16763c2d",
   "metadata": {},
   "outputs": [
    {
     "data": {
      "text/plain": [
       "dict"
      ]
     },
     "execution_count": 47,
     "metadata": {},
     "output_type": "execute_result"
    }
   ],
   "source": [
    "type(s)"
   ]
  },
  {
   "cell_type": "code",
   "execution_count": 48,
   "id": "3f2bcfe4",
   "metadata": {},
   "outputs": [],
   "source": [
    "s1={2,2,3}"
   ]
  },
  {
   "cell_type": "code",
   "execution_count": 49,
   "id": "4f06b394",
   "metadata": {
    "scrolled": true
   },
   "outputs": [
    {
     "data": {
      "text/plain": [
       "set"
      ]
     },
     "execution_count": 49,
     "metadata": {},
     "output_type": "execute_result"
    }
   ],
   "source": [
    "type(s1)"
   ]
  },
  {
   "cell_type": "code",
   "execution_count": 51,
   "id": "6c7d9098",
   "metadata": {},
   "outputs": [],
   "source": [
    "s2={1,1,1,1,1,2,2,2,3,3,3,4,4,5}"
   ]
  },
  {
   "cell_type": "code",
   "execution_count": 52,
   "id": "f6af9169",
   "metadata": {},
   "outputs": [
    {
     "data": {
      "text/plain": [
       "{1, 2, 3, 4, 5}"
      ]
     },
     "execution_count": 52,
     "metadata": {},
     "output_type": "execute_result"
    }
   ],
   "source": [
    "s2"
   ]
  },
  {
   "cell_type": "code",
   "execution_count": 54,
   "id": "4e2110c3",
   "metadata": {},
   "outputs": [
    {
     "data": {
      "text/plain": [
       "[1, 2, 3, 4, 5]"
      ]
     },
     "execution_count": 54,
     "metadata": {},
     "output_type": "execute_result"
    }
   ],
   "source": [
    "list(s2)"
   ]
  },
  {
   "cell_type": "code",
   "execution_count": 55,
   "id": "afced6c5",
   "metadata": {},
   "outputs": [],
   "source": [
    "s2.add(776655)"
   ]
  },
  {
   "cell_type": "code",
   "execution_count": 56,
   "id": "5740e98c",
   "metadata": {},
   "outputs": [
    {
     "data": {
      "text/plain": [
       "{1, 2, 3, 4, 5, 776655}"
      ]
     },
     "execution_count": 56,
     "metadata": {},
     "output_type": "execute_result"
    }
   ],
   "source": [
    "s2"
   ]
  },
  {
   "cell_type": "code",
   "execution_count": 57,
   "id": "93d65074",
   "metadata": {},
   "outputs": [],
   "source": [
    "s2.add(\"Diksha\")"
   ]
  },
  {
   "cell_type": "code",
   "execution_count": 58,
   "id": "b80fafd2",
   "metadata": {},
   "outputs": [
    {
     "data": {
      "text/plain": [
       "{1, 2, 3, 4, 5, 776655, 'Diksha'}"
      ]
     },
     "execution_count": 58,
     "metadata": {},
     "output_type": "execute_result"
    }
   ],
   "source": [
    "s2"
   ]
  },
  {
   "cell_type": "code",
   "execution_count": 62,
   "id": "cfacf424",
   "metadata": {},
   "outputs": [
    {
     "data": {
      "text/plain": [
       "{(2, 4, 5), (5, 6, 7), 67, 7}"
      ]
     },
     "execution_count": 62,
     "metadata": {},
     "output_type": "execute_result"
    }
   ],
   "source": [
    "{(2,4,5),(5,6,7),(2,4,5),67,7,7}"
   ]
  },
  {
   "cell_type": "code",
   "execution_count": 63,
   "id": "364215c7",
   "metadata": {},
   "outputs": [],
   "source": [
    "s={(2,4,5),(5,6,7),(2,4,5),67,7,7}"
   ]
  },
  {
   "cell_type": "code",
   "execution_count": 65,
   "id": "f748864b",
   "metadata": {},
   "outputs": [],
   "source": [
    "s.remove(7)"
   ]
  },
  {
   "cell_type": "code",
   "execution_count": 66,
   "id": "759c8621",
   "metadata": {},
   "outputs": [
    {
     "data": {
      "text/plain": [
       "{(2, 4, 5), (5, 6, 7), 67}"
      ]
     },
     "execution_count": 66,
     "metadata": {},
     "output_type": "execute_result"
    }
   ],
   "source": [
    "s"
   ]
  },
  {
   "cell_type": "code",
   "execution_count": 67,
   "id": "e23985cb",
   "metadata": {},
   "outputs": [],
   "source": [
    "s.discard(67)"
   ]
  },
  {
   "cell_type": "code",
   "execution_count": 68,
   "id": "8fe3efdc",
   "metadata": {},
   "outputs": [
    {
     "data": {
      "text/plain": [
       "{(2, 4, 5), (5, 6, 7)}"
      ]
     },
     "execution_count": 68,
     "metadata": {},
     "output_type": "execute_result"
    }
   ],
   "source": [
    "s"
   ]
  },
  {
   "cell_type": "code",
   "execution_count": 70,
   "id": "ced833f4",
   "metadata": {},
   "outputs": [
    {
     "data": {
      "text/plain": [
       "{'Diksha', 'diksha'}"
      ]
     },
     "execution_count": 70,
     "metadata": {},
     "output_type": "execute_result"
    }
   ],
   "source": [
    "{\"Diksha\",\"diksha\"}"
   ]
  },
  {
   "cell_type": "code",
   "execution_count": 123,
   "id": "79b7d817",
   "metadata": {},
   "outputs": [],
   "source": [
    "# Dictionary\n",
    "d= {4:\"Diksh\"}"
   ]
  },
  {
   "cell_type": "code",
   "execution_count": 72,
   "id": "4ada1d58",
   "metadata": {},
   "outputs": [],
   "source": [
    "d1= {\"key\" :876, \"key2\": \"Diksha\", 45:[3,4,5,6]}"
   ]
  },
  {
   "cell_type": "code",
   "execution_count": 74,
   "id": "291d2488",
   "metadata": {},
   "outputs": [
    {
     "data": {
      "text/plain": [
       "1"
      ]
     },
     "execution_count": 74,
     "metadata": {},
     "output_type": "execute_result"
    }
   ],
   "source": [
    "l[0]"
   ]
  },
  {
   "cell_type": "code",
   "execution_count": 75,
   "id": "37489b39",
   "metadata": {},
   "outputs": [
    {
     "data": {
      "text/plain": [
       "876"
      ]
     },
     "execution_count": 75,
     "metadata": {},
     "output_type": "execute_result"
    }
   ],
   "source": [
    "d1[\"key\"]"
   ]
  },
  {
   "cell_type": "code",
   "execution_count": 76,
   "id": "33890ec5",
   "metadata": {},
   "outputs": [
    {
     "data": {
      "text/plain": [
       "[3, 4, 5, 6]"
      ]
     },
     "execution_count": 76,
     "metadata": {},
     "output_type": "execute_result"
    }
   ],
   "source": [
    "d1[45]"
   ]
  },
  {
   "cell_type": "code",
   "execution_count": 77,
   "id": "844f2d59",
   "metadata": {},
   "outputs": [],
   "source": [
    "d= {\"KEY\" : {3,4,5,6}}"
   ]
  },
  {
   "cell_type": "code",
   "execution_count": 81,
   "id": "34c2ac7e",
   "metadata": {},
   "outputs": [],
   "source": [
    "d1 = {\"key1\": [2,3,4,5], 'key2': \"Diksha\", \"key1\":45}"
   ]
  },
  {
   "cell_type": "code",
   "execution_count": 82,
   "id": "28016e6e",
   "metadata": {},
   "outputs": [
    {
     "data": {
      "text/plain": [
       "45"
      ]
     },
     "execution_count": 82,
     "metadata": {},
     "output_type": "execute_result"
    }
   ],
   "source": [
    "d1[\"key1\"]"
   ]
  },
  {
   "cell_type": "code",
   "execution_count": 84,
   "id": "cee7fae7",
   "metadata": {},
   "outputs": [],
   "source": [
    "d= {\"name\": \"diksha\", \"mob_no.\": 987654321, \"mail_id\": \"abcd@gmail.com\",'key':[4,5,6,7], 'key2':(2,3,4),'key3': {2,3,4,5,6,7,8},'key4':{1:3,4:5}}"
   ]
  },
  {
   "cell_type": "code",
   "execution_count": 85,
   "id": "4318cd22",
   "metadata": {},
   "outputs": [
    {
     "data": {
      "text/plain": [
       "{'name': 'diksha',\n",
       " 'mob_no.': 987654321,\n",
       " 'mail_id': 'abcd@gmail.com',\n",
       " 'key': [4, 5, 6, 7],\n",
       " 'key2': (2, 3, 4),\n",
       " 'key3': {2, 3, 4, 5, 6, 7, 8},\n",
       " 'key4': {1: 3, 4: 5}}"
      ]
     },
     "execution_count": 85,
     "metadata": {},
     "output_type": "execute_result"
    }
   ],
   "source": [
    "d"
   ]
  },
  {
   "cell_type": "code",
   "execution_count": 86,
   "id": "94cdf0fc",
   "metadata": {},
   "outputs": [
    {
     "data": {
      "text/plain": [
       "set"
      ]
     },
     "execution_count": 86,
     "metadata": {},
     "output_type": "execute_result"
    }
   ],
   "source": [
    "type(d['key3'])"
   ]
  },
  {
   "cell_type": "code",
   "execution_count": 87,
   "id": "4ccdfa34",
   "metadata": {},
   "outputs": [
    {
     "data": {
      "text/plain": [
       "dict_keys(['name', 'mob_no.', 'mail_id', 'key', 'key2', 'key3', 'key4'])"
      ]
     },
     "execution_count": 87,
     "metadata": {},
     "output_type": "execute_result"
    }
   ],
   "source": [
    "d.keys()"
   ]
  },
  {
   "cell_type": "code",
   "execution_count": 88,
   "id": "7f31345b",
   "metadata": {},
   "outputs": [
    {
     "data": {
      "text/plain": [
       "dict_values(['diksha', 987654321, 'abcd@gmail.com', [4, 5, 6, 7], (2, 3, 4), {2, 3, 4, 5, 6, 7, 8}, {1: 3, 4: 5}])"
      ]
     },
     "execution_count": 88,
     "metadata": {},
     "output_type": "execute_result"
    }
   ],
   "source": [
    "d.values()"
   ]
  },
  {
   "cell_type": "code",
   "execution_count": 90,
   "id": "b701f5c0",
   "metadata": {},
   "outputs": [
    {
     "data": {
      "text/plain": [
       "dict_items"
      ]
     },
     "execution_count": 90,
     "metadata": {},
     "output_type": "execute_result"
    }
   ],
   "source": [
    "type(d.items())"
   ]
  },
  {
   "cell_type": "code",
   "execution_count": 92,
   "id": "1059b377",
   "metadata": {},
   "outputs": [],
   "source": [
    "d[\"key4\"]= \"abcde\""
   ]
  },
  {
   "cell_type": "code",
   "execution_count": 93,
   "id": "9b4e3d51",
   "metadata": {},
   "outputs": [
    {
     "data": {
      "text/plain": [
       "{'name': 'diksha',\n",
       " 'mob_no.': 987654321,\n",
       " 'mail_id': 'abcd@gmail.com',\n",
       " 'key': [4, 5, 6, 7],\n",
       " 'key2': (2, 3, 4),\n",
       " 'key3': {2, 3, 4, 5, 6, 7, 8},\n",
       " 'key4': 'abcde'}"
      ]
     },
     "execution_count": 93,
     "metadata": {},
     "output_type": "execute_result"
    }
   ],
   "source": [
    "d"
   ]
  },
  {
   "cell_type": "code",
   "execution_count": 97,
   "id": "a5773690",
   "metadata": {},
   "outputs": [],
   "source": [
    "del d['key3']"
   ]
  },
  {
   "cell_type": "code",
   "execution_count": 98,
   "id": "7eaa6211",
   "metadata": {},
   "outputs": [
    {
     "data": {
      "text/plain": [
       "{'name': 'diksha',\n",
       " 'mob_no.': 987654321,\n",
       " 'mail_id': 'abcd@gmail.com',\n",
       " 'key': [4, 5, 6, 7],\n",
       " 'key2': (2, 3, 4),\n",
       " 'key4': 'abcde'}"
      ]
     },
     "execution_count": 98,
     "metadata": {},
     "output_type": "execute_result"
    }
   ],
   "source": [
    "d"
   ]
  },
  {
   "cell_type": "code",
   "execution_count": 99,
   "id": "b9b8079f",
   "metadata": {},
   "outputs": [
    {
     "data": {
      "text/plain": [
       "'Diksha'"
      ]
     },
     "execution_count": 99,
     "metadata": {},
     "output_type": "execute_result"
    }
   ],
   "source": [
    "d1.get('key2')"
   ]
  },
  {
   "cell_type": "code",
   "execution_count": 100,
   "id": "1413a63e",
   "metadata": {},
   "outputs": [],
   "source": [
    "d1={'key': \"ineuron\", 'key1': \"fsds\"}"
   ]
  },
  {
   "cell_type": "code",
   "execution_count": 101,
   "id": "f71ca7e2",
   "metadata": {},
   "outputs": [],
   "source": [
    "d2={'key2': 456, 'key3':[2,3,4,5]}"
   ]
  },
  {
   "cell_type": "code",
   "execution_count": 102,
   "id": "ac25f4cf",
   "metadata": {},
   "outputs": [],
   "source": [
    "d1.update(d2)"
   ]
  },
  {
   "cell_type": "code",
   "execution_count": 103,
   "id": "de8dcb38",
   "metadata": {},
   "outputs": [
    {
     "data": {
      "text/plain": [
       "{'key': 'ineuron', 'key1': 'fsds', 'key2': 456, 'key3': [2, 3, 4, 5]}"
      ]
     },
     "execution_count": 103,
     "metadata": {},
     "output_type": "execute_result"
    }
   ],
   "source": [
    "d1"
   ]
  },
  {
   "cell_type": "code",
   "execution_count": 104,
   "id": "24531bc3",
   "metadata": {},
   "outputs": [
    {
     "data": {
      "text/plain": [
       "{'key2': 456, 'key3': [2, 3, 4, 5]}"
      ]
     },
     "execution_count": 104,
     "metadata": {},
     "output_type": "execute_result"
    }
   ],
   "source": [
    "d2"
   ]
  },
  {
   "cell_type": "code",
   "execution_count": 105,
   "id": "3db7a96a",
   "metadata": {},
   "outputs": [],
   "source": [
    "l=[1,23,4,5]\n",
    "l.append(l)"
   ]
  },
  {
   "cell_type": "code",
   "execution_count": 106,
   "id": "49849e38",
   "metadata": {},
   "outputs": [
    {
     "data": {
      "text/plain": [
       "[1, 23, 4, 5, [...]]"
      ]
     },
     "execution_count": 106,
     "metadata": {},
     "output_type": "execute_result"
    }
   ],
   "source": [
    "l"
   ]
  },
  {
   "cell_type": "code",
   "execution_count": 107,
   "id": "3d753536",
   "metadata": {},
   "outputs": [
    {
     "data": {
      "text/plain": [
       "[1, 23, 4, 5, [...]]"
      ]
     },
     "execution_count": 107,
     "metadata": {},
     "output_type": "execute_result"
    }
   ],
   "source": [
    "l[4]"
   ]
  },
  {
   "cell_type": "code",
   "execution_count": 114,
   "id": "3ab922af",
   "metadata": {},
   "outputs": [],
   "source": [
    "key=(\"name\", \"mob_no\", \"email_id\")\n",
    "value= \"Diksha\""
   ]
  },
  {
   "cell_type": "code",
   "execution_count": 115,
   "id": "47dbca4b",
   "metadata": {},
   "outputs": [],
   "source": [
    "d= d1.fromkeys(key,value)"
   ]
  },
  {
   "cell_type": "code",
   "execution_count": 116,
   "id": "318eff75",
   "metadata": {},
   "outputs": [
    {
     "data": {
      "text/plain": [
       "{'name': 'Diksha', 'mob_no': 'Diksha', 'email_id': 'Diksha'}"
      ]
     },
     "execution_count": 116,
     "metadata": {},
     "output_type": "execute_result"
    }
   ],
   "source": [
    "d"
   ]
  },
  {
   "cell_type": "code",
   "execution_count": 120,
   "id": "d0286804",
   "metadata": {},
   "outputs": [],
   "source": [
    "key=(\"name\", \"mob_no\", \"email_id\")\n",
    "value= \"Diksha\", \"Ak\""
   ]
  },
  {
   "cell_type": "code",
   "execution_count": 121,
   "id": "c6ea0ef9",
   "metadata": {},
   "outputs": [],
   "source": [
    "d= d1.fromkeys(key,value)"
   ]
  },
  {
   "cell_type": "code",
   "execution_count": 122,
   "id": "684591a1",
   "metadata": {},
   "outputs": [
    {
     "data": {
      "text/plain": [
       "{'name': ('Diksha', 'Ak'),\n",
       " 'mob_no': ('Diksha', 'Ak'),\n",
       " 'email_id': ('Diksha', 'Ak')}"
      ]
     },
     "execution_count": 122,
     "metadata": {},
     "output_type": "execute_result"
    }
   ],
   "source": [
    "d"
   ]
  }
 ],
 "metadata": {
  "kernelspec": {
   "display_name": "Python 3",
   "language": "python",
   "name": "python3"
  },
  "language_info": {
   "codemirror_mode": {
    "name": "ipython",
    "version": 3
   },
   "file_extension": ".py",
   "mimetype": "text/x-python",
   "name": "python",
   "nbconvert_exporter": "python",
   "pygments_lexer": "ipython3",
   "version": "3.8.8"
  }
 },
 "nbformat": 4,
 "nbformat_minor": 5
}
