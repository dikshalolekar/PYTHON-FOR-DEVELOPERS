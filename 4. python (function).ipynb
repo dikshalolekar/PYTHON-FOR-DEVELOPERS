{
 "cells": [
  {
   "cell_type": "code",
   "execution_count": 1,
   "id": "5dafaf97",
   "metadata": {},
   "outputs": [],
   "source": [
    "def test(a,b,c,d,e):\n",
    "    return a,b,c,d,e\n",
    "    "
   ]
  },
  {
   "cell_type": "code",
   "execution_count": 2,
   "id": "cc45acf4",
   "metadata": {},
   "outputs": [
    {
     "data": {
      "text/plain": [
       "(34, 45, 55, 53, 65)"
      ]
     },
     "execution_count": 2,
     "metadata": {},
     "output_type": "execute_result"
    }
   ],
   "source": [
    "test(34,45,55,53,65,)"
   ]
  },
  {
   "cell_type": "code",
   "execution_count": 45,
   "id": "7ae5fa50",
   "metadata": {},
   "outputs": [],
   "source": [
    "def test1(*args):\n",
    "    return args"
   ]
  },
  {
   "cell_type": "code",
   "execution_count": 46,
   "id": "68fe4a62",
   "metadata": {},
   "outputs": [
    {
     "data": {
      "text/plain": [
       "(76, 76, 'jhjh', 44)"
      ]
     },
     "execution_count": 46,
     "metadata": {},
     "output_type": "execute_result"
    }
   ],
   "source": [
    "test1(76,76,'jhjh',44)"
   ]
  },
  {
   "cell_type": "code",
   "execution_count": 38,
   "id": "16fb02be",
   "metadata": {},
   "outputs": [],
   "source": [
    "def test2(*diksha):\n",
    "    return diksha"
   ]
  },
  {
   "cell_type": "code",
   "execution_count": 40,
   "id": "531c4b4f",
   "metadata": {},
   "outputs": [
    {
     "data": {
      "text/plain": [
       "(76, 76, 86, 86, 76, 66)"
      ]
     },
     "execution_count": 40,
     "metadata": {},
     "output_type": "execute_result"
    }
   ],
   "source": [
    "test2(76,76,86,86,76,66)"
   ]
  },
  {
   "cell_type": "code",
   "execution_count": 47,
   "id": "0249573b",
   "metadata": {},
   "outputs": [
    {
     "data": {
      "text/plain": [
       "([65, 76, 876], 76, 'hgf', 76, (66, 76, 87), (776+7j))"
      ]
     },
     "execution_count": 47,
     "metadata": {},
     "output_type": "execute_result"
    }
   ],
   "source": [
    "test2([65,76,876],76,'hgf',76,(66,76,87),776+7j)"
   ]
  },
  {
   "cell_type": "code",
   "execution_count": 48,
   "id": "8a23de70",
   "metadata": {},
   "outputs": [],
   "source": [
    "def test3(*diksha, a):\n",
    "    return diksha,a"
   ]
  },
  {
   "cell_type": "code",
   "execution_count": 49,
   "id": "3302c289",
   "metadata": {},
   "outputs": [
    {
     "data": {
      "text/plain": [
       "((45, 56, 44), 655)"
      ]
     },
     "execution_count": 49,
     "metadata": {},
     "output_type": "execute_result"
    }
   ],
   "source": [
    "test3(45,56,44, a= 655)"
   ]
  },
  {
   "cell_type": "code",
   "execution_count": 50,
   "id": "18bdffab",
   "metadata": {},
   "outputs": [],
   "source": [
    "def test4(*dish, a,b,c,d):\n",
    "    return dish, a,b,c,d"
   ]
  },
  {
   "cell_type": "code",
   "execution_count": 51,
   "id": "2c8a2311",
   "metadata": {},
   "outputs": [
    {
     "data": {
      "text/plain": [
       "((33, 44, 55, 43), [45, 56], [45, 6, 77], 'jhfgf', 76.76)"
      ]
     },
     "execution_count": 51,
     "metadata": {},
     "output_type": "execute_result"
    }
   ],
   "source": [
    "test4(33,44,55,43, a=[45,56], b=[45,6,77],c='jhfgf', d=76.76)"
   ]
  },
  {
   "cell_type": "code",
   "execution_count": 52,
   "id": "408146be",
   "metadata": {},
   "outputs": [],
   "source": [
    "def test5(*args):\n",
    "    for i in args:\n",
    "        if type(i)== list:\n",
    "            return i"
   ]
  },
  {
   "cell_type": "code",
   "execution_count": 55,
   "id": "a6b703db",
   "metadata": {},
   "outputs": [
    {
     "data": {
      "text/plain": [
       "[45, 67, 56, 77]"
      ]
     },
     "execution_count": 55,
     "metadata": {},
     "output_type": "execute_result"
    }
   ],
   "source": [
    "test5(33,45,56,[45,67,56,77])"
   ]
  },
  {
   "cell_type": "code",
   "execution_count": 56,
   "id": "b26cf3a8",
   "metadata": {},
   "outputs": [
    {
     "data": {
      "text/plain": [
       "[45, 67, 56, 77]"
      ]
     },
     "execution_count": 56,
     "metadata": {},
     "output_type": "execute_result"
    }
   ],
   "source": [
    "test5(33,45,56,[45,67,56,77],[7656,33,44,65])"
   ]
  },
  {
   "cell_type": "code",
   "execution_count": 57,
   "id": "373e60ed",
   "metadata": {},
   "outputs": [],
   "source": [
    "d ={'a': [2,3,4,5], 4: [56,77,55,77]}"
   ]
  },
  {
   "cell_type": "code",
   "execution_count": 58,
   "id": "f3482ba1",
   "metadata": {},
   "outputs": [
    {
     "data": {
      "text/plain": [
       "{'a': [2, 3, 4, 5], 4: [56, 77, 55, 77]}"
      ]
     },
     "execution_count": 58,
     "metadata": {},
     "output_type": "execute_result"
    }
   ],
   "source": [
    "d"
   ]
  },
  {
   "cell_type": "code",
   "execution_count": 59,
   "id": "6de406f6",
   "metadata": {},
   "outputs": [],
   "source": [
    "def test6(**kwargs):\n",
    "    return kwargs"
   ]
  },
  {
   "cell_type": "code",
   "execution_count": 62,
   "id": "0683e210",
   "metadata": {},
   "outputs": [
    {
     "data": {
      "text/plain": [
       "{'a': [34, 55], 'b': [66, 77, 7, 6]}"
      ]
     },
     "execution_count": 62,
     "metadata": {},
     "output_type": "execute_result"
    }
   ],
   "source": [
    "test6(a=[34,55,], b=[66,77,7,6])"
   ]
  },
  {
   "cell_type": "code",
   "execution_count": 64,
   "id": "75ed275c",
   "metadata": {},
   "outputs": [],
   "source": [
    "def test7(**dish):\n",
    "    return dish"
   ]
  },
  {
   "cell_type": "code",
   "execution_count": 66,
   "id": "06b93e57",
   "metadata": {},
   "outputs": [
    {
     "data": {
      "text/plain": [
       "{'b': 'bsh', 'g': 76, 'f': [5, 4, 5]}"
      ]
     },
     "execution_count": 66,
     "metadata": {},
     "output_type": "execute_result"
    }
   ],
   "source": [
    "test7(b='bsh', g=76, f=[5,4,5])"
   ]
  },
  {
   "cell_type": "code",
   "execution_count": 70,
   "id": "f65757c3",
   "metadata": {},
   "outputs": [],
   "source": [
    "def test8(**dish):\n",
    "    return dish"
   ]
  },
  {
   "cell_type": "code",
   "execution_count": 73,
   "id": "cb55449c",
   "metadata": {},
   "outputs": [
    {
     "data": {
      "text/plain": [
       "{'name': 'Diksha', 'mob_no': '9876543210', 'email_id': 'abcd@gmail.com'}"
      ]
     },
     "execution_count": 73,
     "metadata": {},
     "output_type": "execute_result"
    }
   ],
   "source": [
    "test8(name = 'Diksha', mob_no= '9876543210', email_id= 'abcd@gmail.com')"
   ]
  },
  {
   "cell_type": "code",
   "execution_count": 75,
   "id": "c94f7b91",
   "metadata": {},
   "outputs": [],
   "source": [
    "def test9(a, **dish):\n",
    "    return dish, a"
   ]
  },
  {
   "cell_type": "code",
   "execution_count": 76,
   "id": "06ee93b9",
   "metadata": {},
   "outputs": [
    {
     "data": {
      "text/plain": [
       "({'b': 34, 'c': 45, 'd': 55}, 45)"
      ]
     },
     "execution_count": 76,
     "metadata": {},
     "output_type": "execute_result"
    }
   ],
   "source": [
    "test9(a=45,b=34,c=45,d=55)"
   ]
  },
  {
   "cell_type": "code",
   "execution_count": 79,
   "id": "1130e410",
   "metadata": {},
   "outputs": [],
   "source": [
    "def test10(a, *args,**kwargs):\n",
    "    return a, args, kwargs"
   ]
  },
  {
   "cell_type": "code",
   "execution_count": 80,
   "id": "ce1f3137",
   "metadata": {},
   "outputs": [
    {
     "data": {
      "text/plain": [
       "(22, (34, 45, 56, 7, 88, 89), {'l': 76, 'g': 86})"
      ]
     },
     "execution_count": 80,
     "metadata": {},
     "output_type": "execute_result"
    }
   ],
   "source": [
    "test10(22,34,45,56,7,88,89, l= 76, g=86)"
   ]
  },
  {
   "cell_type": "code",
   "execution_count": 81,
   "id": "d6990e05",
   "metadata": {},
   "outputs": [],
   "source": [
    "def test11(a,b):\n",
    "    return a*b"
   ]
  },
  {
   "cell_type": "code",
   "execution_count": 82,
   "id": "27f632b2",
   "metadata": {},
   "outputs": [
    {
     "data": {
      "text/plain": [
       "2584"
      ]
     },
     "execution_count": 82,
     "metadata": {},
     "output_type": "execute_result"
    }
   ],
   "source": [
    "test11(76,34)"
   ]
  },
  {
   "cell_type": "code",
   "execution_count": 96,
   "id": "6bebd27b",
   "metadata": {},
   "outputs": [],
   "source": [
    "a=lambda a,b :(a*b, a+b)"
   ]
  },
  {
   "cell_type": "code",
   "execution_count": 97,
   "id": "18848fac",
   "metadata": {},
   "outputs": [
    {
     "data": {
      "text/plain": [
       "(4290, 131)"
      ]
     },
     "execution_count": 97,
     "metadata": {},
     "output_type": "execute_result"
    }
   ],
   "source": [
    "a(65,66)"
   ]
  },
  {
   "cell_type": "code",
   "execution_count": 91,
   "id": "81cb5d87",
   "metadata": {},
   "outputs": [],
   "source": [
    "a = lambda *a:a"
   ]
  },
  {
   "cell_type": "code",
   "execution_count": 92,
   "id": "b4c98d05",
   "metadata": {},
   "outputs": [
    {
     "data": {
      "text/plain": [
       "(34, 55)"
      ]
     },
     "execution_count": 92,
     "metadata": {},
     "output_type": "execute_result"
    }
   ],
   "source": [
    "a(34,55)"
   ]
  },
  {
   "cell_type": "code",
   "execution_count": 98,
   "id": "d47acc2c",
   "metadata": {},
   "outputs": [],
   "source": [
    "x = lambda *a:a*a"
   ]
  },
  {
   "cell_type": "code",
   "execution_count": 100,
   "id": "4a3939d5",
   "metadata": {},
   "outputs": [
    {
     "data": {
      "text/plain": [
       "(1870, 89)"
      ]
     },
     "execution_count": 100,
     "metadata": {},
     "output_type": "execute_result"
    }
   ],
   "source": [
    "a(34,55)"
   ]
  },
  {
   "cell_type": "code",
   "execution_count": 105,
   "id": "cf677779",
   "metadata": {},
   "outputs": [],
   "source": [
    "x = lambda x: [ i for i in x]"
   ]
  },
  {
   "cell_type": "code",
   "execution_count": 106,
   "id": "e7e717c8",
   "metadata": {},
   "outputs": [
    {
     "data": {
      "text/plain": [
       "[45, 66, 77]"
      ]
     },
     "execution_count": 106,
     "metadata": {},
     "output_type": "execute_result"
    }
   ],
   "source": [
    "x([45,66,77])"
   ]
  },
  {
   "cell_type": "code",
   "execution_count": 107,
   "id": "40a51c27",
   "metadata": {},
   "outputs": [],
   "source": [
    "l=[23,45,66,7,8,5]"
   ]
  },
  {
   "cell_type": "code",
   "execution_count": 111,
   "id": "7dae4823",
   "metadata": {},
   "outputs": [],
   "source": [
    "l1=[]\n",
    "for i in l:\n",
    "    l1.append(i)"
   ]
  },
  {
   "cell_type": "code",
   "execution_count": 112,
   "id": "956b02f0",
   "metadata": {},
   "outputs": [
    {
     "data": {
      "text/plain": [
       "[23, 45, 66, 7, 8, 5]"
      ]
     },
     "execution_count": 112,
     "metadata": {},
     "output_type": "execute_result"
    }
   ],
   "source": [
    "l1"
   ]
  },
  {
   "cell_type": "code",
   "execution_count": 113,
   "id": "821b1601",
   "metadata": {},
   "outputs": [],
   "source": [
    "a = lambda **kwargs: kwargs"
   ]
  },
  {
   "cell_type": "code",
   "execution_count": 114,
   "id": "91d15c8e",
   "metadata": {},
   "outputs": [
    {
     "data": {
      "text/plain": [
       "{'a': 34, 'b': 55}"
      ]
     },
     "execution_count": 114,
     "metadata": {},
     "output_type": "execute_result"
    }
   ],
   "source": [
    "a(a=34, b=55)"
   ]
  },
  {
   "cell_type": "code",
   "execution_count": 115,
   "id": "ab2b8d33",
   "metadata": {},
   "outputs": [],
   "source": [
    "a=10\n",
    "def test12(c,d):\n",
    "    return c*d"
   ]
  },
  {
   "cell_type": "code",
   "execution_count": 116,
   "id": "4e24fd08",
   "metadata": {},
   "outputs": [
    {
     "data": {
      "text/plain": [
       "450"
      ]
     },
     "execution_count": 116,
     "metadata": {},
     "output_type": "execute_result"
    }
   ],
   "source": [
    "test12(a,45)"
   ]
  },
  {
   "cell_type": "code",
   "execution_count": 120,
   "id": "ab120dbd",
   "metadata": {},
   "outputs": [],
   "source": [
    "l=[1,2,3,4,5,6,7,8,9]\n",
    "l1=[]\n",
    "for i in l:\n",
    "    l1.append(i+2)"
   ]
  },
  {
   "cell_type": "code",
   "execution_count": 121,
   "id": "bd68c9f9",
   "metadata": {},
   "outputs": [
    {
     "data": {
      "text/plain": [
       "[3, 4, 5, 6, 7, 8, 9, 10, 11]"
      ]
     },
     "execution_count": 121,
     "metadata": {},
     "output_type": "execute_result"
    }
   ],
   "source": [
    "l1"
   ]
  },
  {
   "cell_type": "code",
   "execution_count": 123,
   "id": "f275a506",
   "metadata": {},
   "outputs": [],
   "source": [
    "def test13(a):\n",
    "    l1=[]\n",
    "    for i in a:\n",
    "        l1.append(i+2)\n",
    "    return l1"
   ]
  },
  {
   "cell_type": "code",
   "execution_count": 124,
   "id": "00e1f936",
   "metadata": {},
   "outputs": [
    {
     "data": {
      "text/plain": [
       "[3, 4, 5, 6, 7, 8, 9, 10, 11]"
      ]
     },
     "execution_count": 124,
     "metadata": {},
     "output_type": "execute_result"
    }
   ],
   "source": [
    "test13(l)"
   ]
  },
  {
   "cell_type": "code",
   "execution_count": 125,
   "id": "9151e5b8",
   "metadata": {},
   "outputs": [],
   "source": [
    "a= lambda a: [i+2 for i in a]"
   ]
  },
  {
   "cell_type": "code",
   "execution_count": 126,
   "id": "8e12fb49",
   "metadata": {},
   "outputs": [
    {
     "data": {
      "text/plain": [
       "[3, 4, 5, 6, 7, 8, 9, 10, 11]"
      ]
     },
     "execution_count": 126,
     "metadata": {},
     "output_type": "execute_result"
    }
   ],
   "source": [
    "a(l)"
   ]
  },
  {
   "cell_type": "code",
   "execution_count": 127,
   "id": "d40fdd01",
   "metadata": {},
   "outputs": [
    {
     "data": {
      "text/plain": [
       "[(1, 2),\n",
       " (4, 4),\n",
       " (9, 6),\n",
       " (16, 8),\n",
       " (25, 10),\n",
       " (36, 12),\n",
       " (49, 14),\n",
       " (64, 16),\n",
       " (81, 18)]"
      ]
     },
     "execution_count": 127,
     "metadata": {},
     "output_type": "execute_result"
    }
   ],
   "source": [
    "[(i**2,i+i) for i in l]"
   ]
  },
  {
   "cell_type": "code",
   "execution_count": 128,
   "id": "3a1117d9",
   "metadata": {},
   "outputs": [
    {
     "data": {
      "text/plain": [
       "[(1, 2), (4, 4), (9, 6)]"
      ]
     },
     "execution_count": 128,
     "metadata": {},
     "output_type": "execute_result"
    }
   ],
   "source": [
    "[(i**2,i+i) for i in l if i<4]"
   ]
  },
  {
   "cell_type": "code",
   "execution_count": 130,
   "id": "6c15948e",
   "metadata": {},
   "outputs": [],
   "source": [
    "l1=[]\n",
    "for i in l:\n",
    "    if i<4:\n",
    "        l1.append((i**2, i+1))\n",
    "        "
   ]
  },
  {
   "cell_type": "code",
   "execution_count": 131,
   "id": "1ceca556",
   "metadata": {},
   "outputs": [
    {
     "data": {
      "text/plain": [
       "[(1, 2), (4, 3), (9, 4)]"
      ]
     },
     "execution_count": 131,
     "metadata": {},
     "output_type": "execute_result"
    }
   ],
   "source": [
    "l1"
   ]
  },
  {
   "cell_type": "code",
   "execution_count": 132,
   "id": "c2d2b7f9",
   "metadata": {},
   "outputs": [
    {
     "data": {
      "text/plain": [
       "{0: 0, 1: 1, 2: 4, 3: 9, 4: 16, 5: 25, 6: 36, 7: 49, 8: 64, 9: 81}"
      ]
     },
     "execution_count": 132,
     "metadata": {},
     "output_type": "execute_result"
    }
   ],
   "source": [
    "{i:i**2 for i in range(10)}"
   ]
  },
  {
   "cell_type": "code",
   "execution_count": 133,
   "id": "f37fcada",
   "metadata": {},
   "outputs": [],
   "source": [
    "d1={}\n",
    "for i in range(10):\n",
    "    d1[i]= i**2\n",
    "    "
   ]
  },
  {
   "cell_type": "code",
   "execution_count": 134,
   "id": "67a9d839",
   "metadata": {},
   "outputs": [
    {
     "data": {
      "text/plain": [
       "{0: 0, 1: 1, 2: 4, 3: 9, 4: 16, 5: 25, 6: 36, 7: 49, 8: 64, 9: 81}"
      ]
     },
     "execution_count": 134,
     "metadata": {},
     "output_type": "execute_result"
    }
   ],
   "source": [
    "d1"
   ]
  },
  {
   "cell_type": "code",
   "execution_count": 136,
   "id": "76934b33",
   "metadata": {},
   "outputs": [
    {
     "data": {
      "text/plain": [
       "<generator object <genexpr> at 0x000001C6484060B0>"
      ]
     },
     "execution_count": 136,
     "metadata": {},
     "output_type": "execute_result"
    }
   ],
   "source": [
    "(i for i in range(10))"
   ]
  },
  {
   "cell_type": "code",
   "execution_count": 138,
   "id": "57716452",
   "metadata": {},
   "outputs": [
    {
     "data": {
      "text/plain": [
       "(0, 1, 2, 3, 4, 5, 6, 7, 8, 9)"
      ]
     },
     "execution_count": 138,
     "metadata": {},
     "output_type": "execute_result"
    }
   ],
   "source": [
    "tuple(i for i in range(10))"
   ]
  },
  {
   "cell_type": "code",
   "execution_count": 140,
   "id": "e3f3f4ec",
   "metadata": {},
   "outputs": [
    {
     "name": "stdout",
     "output_type": "stream",
     "text": [
      "d\n",
      "i\n",
      "k\n",
      "s\n",
      "h\n",
      "a\n"
     ]
    }
   ],
   "source": [
    "a = \"diksha\"\n",
    "for i in a:\n",
    "    print(i)"
   ]
  },
  {
   "cell_type": "code",
   "execution_count": 142,
   "id": "075f9915",
   "metadata": {},
   "outputs": [
    {
     "data": {
      "text/plain": [
       "'diksha'"
      ]
     },
     "execution_count": 142,
     "metadata": {},
     "output_type": "execute_result"
    }
   ],
   "source": [
    "a"
   ]
  },
  {
   "cell_type": "code",
   "execution_count": 143,
   "id": "fb73d1d0",
   "metadata": {},
   "outputs": [],
   "source": [
    "b= iter(a)"
   ]
  },
  {
   "cell_type": "code",
   "execution_count": 144,
   "id": "71aa7dec",
   "metadata": {},
   "outputs": [
    {
     "data": {
      "text/plain": [
       "<str_iterator at 0x1c6483dfd60>"
      ]
     },
     "execution_count": 144,
     "metadata": {},
     "output_type": "execute_result"
    }
   ],
   "source": [
    "b"
   ]
  },
  {
   "cell_type": "code",
   "execution_count": 145,
   "id": "1914f5d8",
   "metadata": {},
   "outputs": [
    {
     "data": {
      "text/plain": [
       "'d'"
      ]
     },
     "execution_count": 145,
     "metadata": {},
     "output_type": "execute_result"
    }
   ],
   "source": [
    "next(b)"
   ]
  },
  {
   "cell_type": "code",
   "execution_count": 146,
   "id": "ef293081",
   "metadata": {},
   "outputs": [
    {
     "data": {
      "text/plain": [
       "'i'"
      ]
     },
     "execution_count": 146,
     "metadata": {},
     "output_type": "execute_result"
    }
   ],
   "source": [
    "next(b)"
   ]
  },
  {
   "cell_type": "code",
   "execution_count": 147,
   "id": "9cdbc0cf",
   "metadata": {},
   "outputs": [
    {
     "data": {
      "text/plain": [
       "'k'"
      ]
     },
     "execution_count": 147,
     "metadata": {},
     "output_type": "execute_result"
    }
   ],
   "source": [
    "next(b)"
   ]
  },
  {
   "cell_type": "code",
   "execution_count": 148,
   "id": "eab59178",
   "metadata": {},
   "outputs": [
    {
     "data": {
      "text/plain": [
       "'s'"
      ]
     },
     "execution_count": 148,
     "metadata": {},
     "output_type": "execute_result"
    }
   ],
   "source": [
    "next(b)"
   ]
  },
  {
   "cell_type": "code",
   "execution_count": 149,
   "id": "c3a23126",
   "metadata": {},
   "outputs": [
    {
     "data": {
      "text/plain": [
       "'h'"
      ]
     },
     "execution_count": 149,
     "metadata": {},
     "output_type": "execute_result"
    }
   ],
   "source": [
    "next(b)"
   ]
  },
  {
   "cell_type": "code",
   "execution_count": 150,
   "id": "4d933218",
   "metadata": {},
   "outputs": [
    {
     "data": {
      "text/plain": [
       "'a'"
      ]
     },
     "execution_count": 150,
     "metadata": {},
     "output_type": "execute_result"
    }
   ],
   "source": [
    "next(b)"
   ]
  }
 ],
 "metadata": {
  "kernelspec": {
   "display_name": "Python 3",
   "language": "python",
   "name": "python3"
  },
  "language_info": {
   "codemirror_mode": {
    "name": "ipython",
    "version": 3
   },
   "file_extension": ".py",
   "mimetype": "text/x-python",
   "name": "python",
   "nbconvert_exporter": "python",
   "pygments_lexer": "ipython3",
   "version": "3.8.8"
  }
 },
 "nbformat": 4,
 "nbformat_minor": 5
}
