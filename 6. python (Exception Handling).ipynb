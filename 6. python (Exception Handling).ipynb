{
 "cells": [
  {
   "cell_type": "code",
   "execution_count": 1,
   "id": "b825e3c1",
   "metadata": {},
   "outputs": [
    {
     "data": {
      "text/plain": [
       "0.5"
      ]
     },
     "execution_count": 1,
     "metadata": {},
     "output_type": "execute_result"
    }
   ],
   "source": [
    "a = 5\n",
    "a/10"
   ]
  },
  {
   "cell_type": "code",
   "execution_count": 4,
   "id": "da084f94",
   "metadata": {},
   "outputs": [
    {
     "name": "stdout",
     "output_type": "stream",
     "text": [
      "6\n"
     ]
    },
    {
     "data": {
      "text/plain": [
       "0.8333333333333334"
      ]
     },
     "execution_count": 4,
     "metadata": {},
     "output_type": "execute_result"
    }
   ],
   "source": [
    "a = 5\n",
    "b = int(input())\n",
    "a/b"
   ]
  },
  {
   "cell_type": "code",
   "execution_count": 6,
   "id": "94e54117",
   "metadata": {},
   "outputs": [
    {
     "name": "stdout",
     "output_type": "stream",
     "text": [
      "0\n"
     ]
    },
    {
     "ename": "ZeroDivisionError",
     "evalue": "division by zero",
     "output_type": "error",
     "traceback": [
      "\u001b[1;31m---------------------------------------------------------------------------\u001b[0m",
      "\u001b[1;31mZeroDivisionError\u001b[0m                         Traceback (most recent call last)",
      "\u001b[1;32m<ipython-input-6-a1585f436dde>\u001b[0m in \u001b[0;36m<module>\u001b[1;34m\u001b[0m\n\u001b[0;32m      1\u001b[0m \u001b[0ma\u001b[0m \u001b[1;33m=\u001b[0m \u001b[1;36m5\u001b[0m\u001b[1;33m\u001b[0m\u001b[1;33m\u001b[0m\u001b[0m\n\u001b[0;32m      2\u001b[0m \u001b[0mb\u001b[0m \u001b[1;33m=\u001b[0m \u001b[0mint\u001b[0m\u001b[1;33m(\u001b[0m\u001b[0minput\u001b[0m\u001b[1;33m(\u001b[0m\u001b[1;33m)\u001b[0m\u001b[1;33m)\u001b[0m\u001b[1;33m\u001b[0m\u001b[1;33m\u001b[0m\u001b[0m\n\u001b[1;32m----> 3\u001b[1;33m \u001b[0ma\u001b[0m\u001b[1;33m/\u001b[0m\u001b[0mb\u001b[0m\u001b[1;33m\u001b[0m\u001b[1;33m\u001b[0m\u001b[0m\n\u001b[0m",
      "\u001b[1;31mZeroDivisionError\u001b[0m: division by zero"
     ]
    }
   ],
   "source": [
    "a = 5\n",
    "b = int(input())\n",
    "a/b"
   ]
  },
  {
   "cell_type": "code",
   "execution_count": 8,
   "id": "84f8bb9f",
   "metadata": {},
   "outputs": [
    {
     "data": {
      "text/plain": [
       "21"
      ]
     },
     "execution_count": 8,
     "metadata": {},
     "output_type": "execute_result"
    }
   ],
   "source": [
    "f = open(\"test.txt\", \"w\")\n",
    "f.write(\"jhgh hf acfsd sqASQds\")"
   ]
  },
  {
   "cell_type": "code",
   "execution_count": 10,
   "id": "52fcfe6c",
   "metadata": {},
   "outputs": [
    {
     "ename": "SyntaxError",
     "evalue": "unexpected EOF while parsing (<ipython-input-10-11648a02cd61>, line 3)",
     "output_type": "error",
     "traceback": [
      "\u001b[1;36m  File \u001b[1;32m\"<ipython-input-10-11648a02cd61>\"\u001b[1;36m, line \u001b[1;32m3\u001b[0m\n\u001b[1;33m    f.write(\"jhuguggy\")\u001b[0m\n\u001b[1;37m                       ^\u001b[0m\n\u001b[1;31mSyntaxError\u001b[0m\u001b[1;31m:\u001b[0m unexpected EOF while parsing\n"
     ]
    }
   ],
   "source": [
    "try :\n",
    "    f= open(\"test,txt\", \"r\")\n",
    "    f.write(\"jhuguggy\")"
   ]
  },
  {
   "cell_type": "code",
   "execution_count": 19,
   "id": "7bfe749c",
   "metadata": {},
   "outputs": [
    {
     "name": "stdout",
     "output_type": "stream",
     "text": [
      "mistake\n",
      "my code\n"
     ]
    }
   ],
   "source": [
    "try:\n",
    "    f = open(\"test.txt\", \"r\")\n",
    "    f.write(\"gvdrghf\")\n",
    "except:\n",
    "    print(\"mistake\")\n",
    "print(\"my code\")\n",
    "   "
   ]
  },
  {
   "cell_type": "code",
   "execution_count": 15,
   "id": "56ed2dc7",
   "metadata": {},
   "outputs": [
    {
     "name": "stdout",
     "output_type": "stream",
     "text": [
      "3\n",
      "4\n",
      "5\n",
      "6\n",
      "7\n",
      "8\n",
      "9\n"
     ]
    },
    {
     "ename": "IndexError",
     "evalue": "list index out of range",
     "output_type": "error",
     "traceback": [
      "\u001b[1;31m---------------------------------------------------------------------------\u001b[0m",
      "\u001b[1;31mIndexError\u001b[0m                                Traceback (most recent call last)",
      "\u001b[1;32m<ipython-input-15-d5571c4467ea>\u001b[0m in \u001b[0;36m<module>\u001b[1;34m\u001b[0m\n\u001b[0;32m      1\u001b[0m \u001b[0ml\u001b[0m \u001b[1;33m=\u001b[0m \u001b[1;33m[\u001b[0m\u001b[1;36m3\u001b[0m\u001b[1;33m,\u001b[0m\u001b[1;36m4\u001b[0m\u001b[1;33m,\u001b[0m\u001b[1;36m5\u001b[0m\u001b[1;33m,\u001b[0m\u001b[1;36m6\u001b[0m\u001b[1;33m,\u001b[0m\u001b[1;36m7\u001b[0m\u001b[1;33m,\u001b[0m\u001b[1;36m8\u001b[0m\u001b[1;33m,\u001b[0m\u001b[1;36m9\u001b[0m\u001b[1;33m]\u001b[0m\u001b[1;33m\u001b[0m\u001b[1;33m\u001b[0m\u001b[0m\n\u001b[0;32m      2\u001b[0m \u001b[1;32mfor\u001b[0m \u001b[0mi\u001b[0m \u001b[1;32min\u001b[0m \u001b[0mrange\u001b[0m\u001b[1;33m(\u001b[0m\u001b[0mlen\u001b[0m\u001b[1;33m(\u001b[0m\u001b[0ml\u001b[0m\u001b[1;33m)\u001b[0m\u001b[1;33m+\u001b[0m\u001b[1;36m1\u001b[0m\u001b[1;33m)\u001b[0m\u001b[1;33m:\u001b[0m\u001b[1;33m\u001b[0m\u001b[1;33m\u001b[0m\u001b[0m\n\u001b[1;32m----> 3\u001b[1;33m     \u001b[0mprint\u001b[0m\u001b[1;33m(\u001b[0m\u001b[0ml\u001b[0m\u001b[1;33m[\u001b[0m\u001b[0mi\u001b[0m\u001b[1;33m]\u001b[0m\u001b[1;33m)\u001b[0m\u001b[1;33m\u001b[0m\u001b[1;33m\u001b[0m\u001b[0m\n\u001b[0m",
      "\u001b[1;31mIndexError\u001b[0m: list index out of range"
     ]
    }
   ],
   "source": [
    "l = [3,4,5,6,7,8,9]\n",
    "for i in range(len(l)+1):\n",
    "    print(l[i])"
   ]
  },
  {
   "cell_type": "code",
   "execution_count": 17,
   "id": "6c4e0107",
   "metadata": {},
   "outputs": [
    {
     "name": "stdout",
     "output_type": "stream",
     "text": [
      "3\n",
      "4\n",
      "5\n",
      "6\n",
      "7\n",
      "8\n",
      "9\n",
      "7\n"
     ]
    }
   ],
   "source": [
    "l = [3,4,5,6,7,8,9]\n",
    "try:\n",
    "    \n",
    "    for i in range(len(l)+1):\n",
    "        print(l[i])\n",
    "except:\n",
    "        print(i)"
   ]
  },
  {
   "cell_type": "code",
   "execution_count": 20,
   "id": "2c9fa981",
   "metadata": {},
   "outputs": [
    {
     "name": "stdout",
     "output_type": "stream",
     "text": [
      "3\n",
      "4\n",
      "5\n",
      "6\n",
      "7\n",
      "8\n",
      "9\n",
      "code\n",
      "executed\n"
     ]
    }
   ],
   "source": [
    "l = [3,4,5,6,7,8,9]\n",
    "try:\n",
    "    \n",
    "    for i in range(len(l)+1):\n",
    "        print(l[i])\n",
    "except:\n",
    "        print(\"code\")\n",
    "        print(\"executed\")"
   ]
  },
  {
   "cell_type": "code",
   "execution_count": 21,
   "id": "ffb33fe1",
   "metadata": {},
   "outputs": [
    {
     "name": "stdout",
     "output_type": "stream",
     "text": [
      "3\n",
      "4\n",
      "5\n",
      "6\n",
      "7\n",
      "8\n",
      "9\n",
      "code\n",
      "executed\n"
     ]
    }
   ],
   "source": [
    "l = [3,4,5,6,7,8,9]\n",
    "try:\n",
    "    \n",
    "    for i in range(len(l)+1):\n",
    "        print(l[i])\n",
    "except Exception as e:\n",
    "        print(\"code\")\n",
    "        print(\"executed\")"
   ]
  },
  {
   "cell_type": "code",
   "execution_count": 22,
   "id": "3e89fdf3",
   "metadata": {},
   "outputs": [
    {
     "name": "stdout",
     "output_type": "stream",
     "text": [
      "sgrhgy\n",
      "invalid literal for int() with base 10: 'sgrhgy'\n",
      "jkghyr hfgeygeiu ngeyhiueshg\n"
     ]
    }
   ],
   "source": [
    "try:\n",
    "    a = int(input())\n",
    "    b = int(input())\n",
    "except Exception as e:\n",
    "    print(e)\n",
    "print(\"jkghyr hfgeygeiu ngeyhiueshg\")"
   ]
  },
  {
   "cell_type": "code",
   "execution_count": 27,
   "id": "5b90f8e1",
   "metadata": {},
   "outputs": [
    {
     "name": "stdout",
     "output_type": "stream",
     "text": [
      "handler\n",
      "2\n",
      "3\n",
      "4\n",
      "5\n",
      "6\n",
      "7\n",
      "8\n"
     ]
    }
   ],
   "source": [
    "try:\n",
    "    f = open(\"test1\", \"r\")\n",
    "    f.write(\"code with exception handling\")\n",
    "    print(\"code after write ops\")\n",
    "except:\n",
    "    print(\"handler\")\n",
    "l=[2,3,4,5,6,7,8]\n",
    "for i in l:\n",
    "    print(i)\n",
    "    \n",
    "    "
   ]
  },
  {
   "cell_type": "code",
   "execution_count": 30,
   "id": "6380a5d7",
   "metadata": {},
   "outputs": [
    {
     "name": "stdout",
     "output_type": "stream",
     "text": [
      "kjfhuhg\n",
      "invalid literal for int() with base 10: 'kjfhuhg'\n"
     ]
    }
   ],
   "source": [
    "try:\n",
    "    d={'key1': \"diksha\", 'key2': [2,3,4,5], 'key3': (3,4,5,6)}\n",
    "    d[\"key4\"]=int(input())\n",
    "except Exception as diksha:\n",
    "    print(diksha)"
   ]
  },
  {
   "cell_type": "code",
   "execution_count": 35,
   "id": "2886f189",
   "metadata": {},
   "outputs": [
    {
     "name": "stdout",
     "output_type": "stream",
     "text": [
      "65647\n"
     ]
    },
    {
     "ename": "NameError",
     "evalue": "name 'valueError' is not defined",
     "output_type": "error",
     "traceback": [
      "\u001b[1;31m---------------------------------------------------------------------------\u001b[0m",
      "\u001b[1;31mFileNotFoundError\u001b[0m                         Traceback (most recent call last)",
      "\u001b[1;32m<ipython-input-35-5698e1b3446b>\u001b[0m in \u001b[0;36m<module>\u001b[1;34m\u001b[0m\n\u001b[0;32m      3\u001b[0m     \u001b[0md\u001b[0m\u001b[1;33m[\u001b[0m\u001b[1;34m\"key4\"\u001b[0m\u001b[1;33m]\u001b[0m\u001b[1;33m=\u001b[0m\u001b[0mint\u001b[0m\u001b[1;33m(\u001b[0m\u001b[0minput\u001b[0m\u001b[1;33m(\u001b[0m\u001b[1;33m)\u001b[0m\u001b[1;33m)\u001b[0m\u001b[1;33m\u001b[0m\u001b[1;33m\u001b[0m\u001b[0m\n\u001b[1;32m----> 4\u001b[1;33m     \u001b[0mf\u001b[0m\u001b[1;33m=\u001b[0m \u001b[0mopen\u001b[0m\u001b[1;33m(\u001b[0m\u001b[1;34m\"test2\"\u001b[0m\u001b[1;33m,\u001b[0m \u001b[1;34m\"r\"\u001b[0m\u001b[1;33m)\u001b[0m\u001b[1;33m\u001b[0m\u001b[1;33m\u001b[0m\u001b[0m\n\u001b[0m\u001b[0;32m      5\u001b[0m \u001b[1;32mexcept\u001b[0m \u001b[0mvalueError\u001b[0m \u001b[1;32mas\u001b[0m \u001b[0mdiksha\u001b[0m\u001b[1;33m:\u001b[0m\u001b[1;33m\u001b[0m\u001b[1;33m\u001b[0m\u001b[0m\n",
      "\u001b[1;31mFileNotFoundError\u001b[0m: [Errno 2] No such file or directory: 'test2'",
      "\nDuring handling of the above exception, another exception occurred:\n",
      "\u001b[1;31mNameError\u001b[0m                                 Traceback (most recent call last)",
      "\u001b[1;32m<ipython-input-35-5698e1b3446b>\u001b[0m in \u001b[0;36m<module>\u001b[1;34m\u001b[0m\n\u001b[0;32m      3\u001b[0m     \u001b[0md\u001b[0m\u001b[1;33m[\u001b[0m\u001b[1;34m\"key4\"\u001b[0m\u001b[1;33m]\u001b[0m\u001b[1;33m=\u001b[0m\u001b[0mint\u001b[0m\u001b[1;33m(\u001b[0m\u001b[0minput\u001b[0m\u001b[1;33m(\u001b[0m\u001b[1;33m)\u001b[0m\u001b[1;33m)\u001b[0m\u001b[1;33m\u001b[0m\u001b[1;33m\u001b[0m\u001b[0m\n\u001b[0;32m      4\u001b[0m     \u001b[0mf\u001b[0m\u001b[1;33m=\u001b[0m \u001b[0mopen\u001b[0m\u001b[1;33m(\u001b[0m\u001b[1;34m\"test2\"\u001b[0m\u001b[1;33m,\u001b[0m \u001b[1;34m\"r\"\u001b[0m\u001b[1;33m)\u001b[0m\u001b[1;33m\u001b[0m\u001b[1;33m\u001b[0m\u001b[0m\n\u001b[1;32m----> 5\u001b[1;33m \u001b[1;32mexcept\u001b[0m \u001b[0mvalueError\u001b[0m \u001b[1;32mas\u001b[0m \u001b[0mdiksha\u001b[0m\u001b[1;33m:\u001b[0m\u001b[1;33m\u001b[0m\u001b[1;33m\u001b[0m\u001b[0m\n\u001b[0m\u001b[0;32m      6\u001b[0m     \u001b[0mprint\u001b[0m\u001b[1;33m(\u001b[0m\u001b[0mdiksha\u001b[0m\u001b[1;33m)\u001b[0m\u001b[1;33m\u001b[0m\u001b[1;33m\u001b[0m\u001b[0m\n",
      "\u001b[1;31mNameError\u001b[0m: name 'valueError' is not defined"
     ]
    }
   ],
   "source": [
    "try:\n",
    "    d={'key1': \"diksha\", 'key2': [2,3,4,5], 'key3': (3,4,5,6)}\n",
    "    d[\"key4\"]=int(input())\n",
    "    f= open(\"test2\", \"r\")\n",
    "except valueError as diksha:\n",
    "    print(diksha)"
   ]
  },
  {
   "cell_type": "code",
   "execution_count": 38,
   "id": "adb4e8e7",
   "metadata": {},
   "outputs": [
    {
     "name": "stdout",
     "output_type": "stream",
     "text": [
      "7465\n",
      "sngihrugh\n"
     ]
    }
   ],
   "source": [
    "try:\n",
    "    d={'key1': \"diksha\", 'key2': [2,3,4,5], 'key3': (3,4,5,6)}\n",
    "    d[\"key4\"]=int(input())\n",
    "    f= open('test2','r')\n",
    "except Exception as ee:\n",
    "    print(\"sngihrugh\")\n",
    "except Exception as diksha:\n",
    "    print(diksha)"
   ]
  },
  {
   "cell_type": "code",
   "execution_count": 37,
   "id": "62b4ae9f",
   "metadata": {},
   "outputs": [
    {
     "name": "stdout",
     "output_type": "stream",
     "text": [
      "8556\n"
     ]
    },
    {
     "ename": "NameError",
     "evalue": "name 'FilenotFoundError' is not defined",
     "output_type": "error",
     "traceback": [
      "\u001b[1;31m---------------------------------------------------------------------------\u001b[0m",
      "\u001b[1;31mFileNotFoundError\u001b[0m                         Traceback (most recent call last)",
      "\u001b[1;32m<ipython-input-37-33b1e7ee6c2f>\u001b[0m in \u001b[0;36m<module>\u001b[1;34m\u001b[0m\n\u001b[0;32m      3\u001b[0m     \u001b[0md\u001b[0m\u001b[1;33m[\u001b[0m\u001b[1;34m\"key4\"\u001b[0m\u001b[1;33m]\u001b[0m\u001b[1;33m=\u001b[0m\u001b[0mint\u001b[0m\u001b[1;33m(\u001b[0m\u001b[0minput\u001b[0m\u001b[1;33m(\u001b[0m\u001b[1;33m)\u001b[0m\u001b[1;33m)\u001b[0m\u001b[1;33m\u001b[0m\u001b[1;33m\u001b[0m\u001b[0m\n\u001b[1;32m----> 4\u001b[1;33m     \u001b[0mf\u001b[0m\u001b[1;33m=\u001b[0m \u001b[0mopen\u001b[0m\u001b[1;33m(\u001b[0m\u001b[1;34m'test2'\u001b[0m\u001b[1;33m,\u001b[0m\u001b[1;34m'r'\u001b[0m\u001b[1;33m)\u001b[0m\u001b[1;33m\u001b[0m\u001b[1;33m\u001b[0m\u001b[0m\n\u001b[0m\u001b[0;32m      5\u001b[0m \u001b[1;32mexcept\u001b[0m \u001b[0mFilenotFoundError\u001b[0m \u001b[1;32mas\u001b[0m \u001b[0mdiksha\u001b[0m\u001b[1;33m:\u001b[0m\u001b[1;33m\u001b[0m\u001b[1;33m\u001b[0m\u001b[0m\n",
      "\u001b[1;31mFileNotFoundError\u001b[0m: [Errno 2] No such file or directory: 'test2'",
      "\nDuring handling of the above exception, another exception occurred:\n",
      "\u001b[1;31mNameError\u001b[0m                                 Traceback (most recent call last)",
      "\u001b[1;32m<ipython-input-37-33b1e7ee6c2f>\u001b[0m in \u001b[0;36m<module>\u001b[1;34m\u001b[0m\n\u001b[0;32m      3\u001b[0m     \u001b[0md\u001b[0m\u001b[1;33m[\u001b[0m\u001b[1;34m\"key4\"\u001b[0m\u001b[1;33m]\u001b[0m\u001b[1;33m=\u001b[0m\u001b[0mint\u001b[0m\u001b[1;33m(\u001b[0m\u001b[0minput\u001b[0m\u001b[1;33m(\u001b[0m\u001b[1;33m)\u001b[0m\u001b[1;33m)\u001b[0m\u001b[1;33m\u001b[0m\u001b[1;33m\u001b[0m\u001b[0m\n\u001b[0;32m      4\u001b[0m     \u001b[0mf\u001b[0m\u001b[1;33m=\u001b[0m \u001b[0mopen\u001b[0m\u001b[1;33m(\u001b[0m\u001b[1;34m'test2'\u001b[0m\u001b[1;33m,\u001b[0m\u001b[1;34m'r'\u001b[0m\u001b[1;33m)\u001b[0m\u001b[1;33m\u001b[0m\u001b[1;33m\u001b[0m\u001b[0m\n\u001b[1;32m----> 5\u001b[1;33m \u001b[1;32mexcept\u001b[0m \u001b[0mFilenotFoundError\u001b[0m \u001b[1;32mas\u001b[0m \u001b[0mdiksha\u001b[0m\u001b[1;33m:\u001b[0m\u001b[1;33m\u001b[0m\u001b[1;33m\u001b[0m\u001b[0m\n\u001b[0m\u001b[0;32m      6\u001b[0m     \u001b[0mprint\u001b[0m\u001b[1;33m(\u001b[0m\u001b[0mdiksha\u001b[0m\u001b[1;33m)\u001b[0m\u001b[1;33m\u001b[0m\u001b[1;33m\u001b[0m\u001b[0m\n",
      "\u001b[1;31mNameError\u001b[0m: name 'FilenotFoundError' is not defined"
     ]
    }
   ],
   "source": [
    "try:\n",
    "    d={'key1': \"diksha\", 'key2': [2,3,4,5], 'key3': (3,4,5,6)}\n",
    "    d[\"key4\"]=int(input())\n",
    "    f= open('test2','r')\n",
    "except FilenotFoundError as diksha:\n",
    "    print(diksha)"
   ]
  },
  {
   "cell_type": "code",
   "execution_count": 1,
   "id": "cbddeaa3",
   "metadata": {},
   "outputs": [
    {
     "name": "stdout",
     "output_type": "stream",
     "text": [
      "654\n",
      "[Errno 2] No such file or directory: 'test2'\n"
     ]
    }
   ],
   "source": [
    "try:\n",
    "    d={'key1': \"diksha\", 'key2': [2,3,4,5], 'key3': (3,4,5,6)}\n",
    "    d[\"key4\"]=int(input())\n",
    "    f= open('test2','r')\n",
    "except Exception as diksha:\n",
    "    print(diksha)"
   ]
  },
  {
   "cell_type": "code",
   "execution_count": 3,
   "id": "43ed2e07",
   "metadata": {},
   "outputs": [
    {
     "name": "stdout",
     "output_type": "stream",
     "text": [
      "This will execute once my try block will be able executed succcessfully\n"
     ]
    }
   ],
   "source": [
    "try:\n",
    "    f= open('test1.txt','w')\n",
    "    f.write(\"This is my code in try\")\n",
    "except Exception as e:\n",
    "    print('this will handle an error')\n",
    "else:\n",
    "    print(\"This will execute once my try block will be able executed succcessfully\")\n",
    "    f.close()"
   ]
  },
  {
   "cell_type": "code",
   "execution_count": 5,
   "id": "9a160b6f",
   "metadata": {},
   "outputs": [
    {
     "name": "stdout",
     "output_type": "stream",
     "text": [
      "this will handle an error\n"
     ]
    }
   ],
   "source": [
    "try:\n",
    "    f= open('test5.txt','r')\n",
    "    f.write(\"This is my code in try\")\n",
    "except Exception as e:\n",
    "    print('this will handle an error')\n",
    "else:\n",
    "    print(\"This will execute once my try block will be able executed succcessfully\")\n",
    "    f.close()"
   ]
  },
  {
   "cell_type": "code",
   "execution_count": 9,
   "id": "756ba44a",
   "metadata": {},
   "outputs": [
    {
     "name": "stdout",
     "output_type": "stream",
     "text": [
      "this will handle an error not writable\n"
     ]
    }
   ],
   "source": [
    "try:\n",
    "    f= open('test5.txt','r')\n",
    "    f.write(\"This is my code in try\")\n",
    "except Exception as e:\n",
    "    print('this will handle an error',e)\n",
    "else:\n",
    "    print(\"This will execute once my try block will be able executed succcessfully\")\n",
    "    f.close()"
   ]
  },
  {
   "cell_type": "code",
   "execution_count": 10,
   "id": "06a9831a",
   "metadata": {},
   "outputs": [
    {
     "name": "stdout",
     "output_type": "stream",
     "text": [
      "this will handle Nan error [Errno 2] No such file or directory: 'test4.txt'\n",
      "This will execute once my try block will be able executed succcessfully\n"
     ]
    }
   ],
   "source": [
    "try:\n",
    "    f= open('test4.txt','r')\n",
    "except Exception as e:\n",
    "    print('this will handle an error',e)\n",
    "finally:\n",
    "    print(\"This will execute once my try block will be able executed succcessfully\")\n",
    "  "
   ]
  },
  {
   "cell_type": "code",
   "execution_count": 12,
   "id": "d3a83529",
   "metadata": {},
   "outputs": [
    {
     "name": "stdout",
     "output_type": "stream",
     "text": [
      "This will execute once my try block will be able executed succcessfully\n",
      "do this for sure\n"
     ]
    }
   ],
   "source": [
    "try:\n",
    "    f= open('test4.txt','w')\n",
    "    f.write(\"This is my code in try\")\n",
    "except Exception as e:\n",
    "    print('this will handle an error',e)\n",
    "else:\n",
    "    print(\"This will execute once my try block will be able executed succcessfully\")\n",
    "finally:\n",
    "    print(\"do this for sure\")"
   ]
  },
  {
   "cell_type": "code",
   "execution_count": 13,
   "id": "0e425cc7",
   "metadata": {},
   "outputs": [
    {
     "name": "stdout",
     "output_type": "stream",
     "text": [
      "This will execute once my try block will be able executed succcessfully\n",
      "do this for sure\n",
      "handl error\n",
      "It will come to this block sure\n"
     ]
    }
   ],
   "source": [
    "try:\n",
    "    f= open('test4.txt','w')\n",
    "    f.write(\"This is my code in try\")\n",
    "except Exception as e:\n",
    "    print('this will handle an error',e)\n",
    "else:\n",
    "    print(\"This will execute once my try block will be able executed succcessfully\")\n",
    "finally:\n",
    "    print(\"do this for sure\")\n",
    "    try:\n",
    "        f.open(\"file\",\"r\")\n",
    "    except:\n",
    "        print(\"handl error\")\n",
    "    finally:\n",
    "        print(\"It will come to this block sure\")"
   ]
  },
  {
   "cell_type": "code",
   "execution_count": 21,
   "id": "5b72ef5b",
   "metadata": {},
   "outputs": [],
   "source": [
    "def askint():\n",
    "    try:\n",
    "    \n",
    "        a =int(input())\n",
    "        return a\n",
    "    except Exception as e:\n",
    "        print(\"this is my error\",e) "
   ]
  },
  {
   "cell_type": "code",
   "execution_count": 16,
   "id": "52ac8991",
   "metadata": {},
   "outputs": [
    {
     "name": "stdout",
     "output_type": "stream",
     "text": [
      "4764\n"
     ]
    },
    {
     "data": {
      "text/plain": [
       "4764"
      ]
     },
     "execution_count": 16,
     "metadata": {},
     "output_type": "execute_result"
    }
   ],
   "source": [
    "askint()"
   ]
  },
  {
   "cell_type": "code",
   "execution_count": 17,
   "id": "3c8193e0",
   "metadata": {},
   "outputs": [
    {
     "name": "stdout",
     "output_type": "stream",
     "text": [
      "jhdrbgsg\n",
      "this is my error invalid literal for int() with base 10: 'jhdrbgsg'\n"
     ]
    }
   ],
   "source": [
    "askint()"
   ]
  },
  {
   "cell_type": "code",
   "execution_count": 24,
   "id": "9ffc817b",
   "metadata": {},
   "outputs": [],
   "source": [
    "def fun():\n",
    "    integer= True\n",
    "    while integer:\n",
    "        try:\n",
    "            a =int(input(\"Enter an integer value\"))\n",
    "            if type(a)==int:\n",
    "                return \"Yes, you have entered an integer\"\n",
    "                integer= False\n",
    "        except Exception as e:\n",
    "            print(\"Nah!, you didnot enter an integer, please enter integer\",e) "
   ]
  },
  {
   "cell_type": "code",
   "execution_count": 25,
   "id": "c98e7282",
   "metadata": {},
   "outputs": [
    {
     "name": "stdout",
     "output_type": "stream",
     "text": [
      "Enter an integer valuejb\n",
      "Nah!, you didnot enter an integer, please enter integer invalid literal for int() with base 10: 'jb'\n",
      "Enter an integer valuedjsg\n",
      "Nah!, you didnot enter an integer, please enter integer invalid literal for int() with base 10: 'djsg'\n",
      "Enter an integer valuejfhejgj\n",
      "Nah!, you didnot enter an integer, please enter integer invalid literal for int() with base 10: 'jfhejgj'\n",
      "Enter an integer valueknbrsiugeiygu\n",
      "Nah!, you didnot enter an integer, please enter integer invalid literal for int() with base 10: 'knbrsiugeiygu'\n",
      "Enter an integer value765\n"
     ]
    },
    {
     "data": {
      "text/plain": [
       "'Yes, you have entered an integer'"
      ]
     },
     "execution_count": 25,
     "metadata": {},
     "output_type": "execute_result"
    }
   ],
   "source": [
    "fun()"
   ]
  },
  {
   "cell_type": "code",
   "execution_count": 27,
   "id": "8d84cbcf",
   "metadata": {},
   "outputs": [],
   "source": [
    "def integer():\n",
    "    while True:\n",
    "        try:\n",
    "            x= int(input())\n",
    "            break\n",
    "        except Exception as e:\n",
    "            print(\"Enter the input again\")"
   ]
  },
  {
   "cell_type": "code",
   "execution_count": 28,
   "id": "c6b6baac",
   "metadata": {},
   "outputs": [
    {
     "name": "stdout",
     "output_type": "stream",
     "text": [
      "jh\n",
      "Enter the input again\n",
      "jkfnsjkdbv\n",
      "Enter the input again\n",
      "dvngrjb\n",
      "Enter the input again\n",
      "7576\n"
     ]
    }
   ],
   "source": [
    "integer()"
   ]
  },
  {
   "cell_type": "code",
   "execution_count": 33,
   "id": "4692bc8a",
   "metadata": {},
   "outputs": [],
   "source": [
    "def test(a):\n",
    "    if a< 0:\n",
    "        raise Exception(\"You enterd negative value\",a)\n",
    "    return a"
   ]
  },
  {
   "cell_type": "code",
   "execution_count": 30,
   "id": "dda0adb8",
   "metadata": {},
   "outputs": [
    {
     "data": {
      "text/plain": [
       "4"
      ]
     },
     "execution_count": 30,
     "metadata": {},
     "output_type": "execute_result"
    }
   ],
   "source": [
    "test(4)"
   ]
  },
  {
   "cell_type": "code",
   "execution_count": 34,
   "id": "a5858610",
   "metadata": {},
   "outputs": [
    {
     "ename": "Exception",
     "evalue": "('You enterd negative value', -4)",
     "output_type": "error",
     "traceback": [
      "\u001b[1;31m---------------------------------------------------------------------------\u001b[0m",
      "\u001b[1;31mException\u001b[0m                                 Traceback (most recent call last)",
      "\u001b[1;32m<ipython-input-34-d2bb95962d49>\u001b[0m in \u001b[0;36m<module>\u001b[1;34m\u001b[0m\n\u001b[1;32m----> 1\u001b[1;33m \u001b[0mtest\u001b[0m\u001b[1;33m(\u001b[0m\u001b[1;33m-\u001b[0m\u001b[1;36m4\u001b[0m\u001b[1;33m)\u001b[0m\u001b[1;33m\u001b[0m\u001b[1;33m\u001b[0m\u001b[0m\n\u001b[0m",
      "\u001b[1;32m<ipython-input-33-c46558dd37cb>\u001b[0m in \u001b[0;36mtest\u001b[1;34m(a)\u001b[0m\n\u001b[0;32m      1\u001b[0m \u001b[1;32mdef\u001b[0m \u001b[0mtest\u001b[0m\u001b[1;33m(\u001b[0m\u001b[0ma\u001b[0m\u001b[1;33m)\u001b[0m\u001b[1;33m:\u001b[0m\u001b[1;33m\u001b[0m\u001b[1;33m\u001b[0m\u001b[0m\n\u001b[0;32m      2\u001b[0m     \u001b[1;32mif\u001b[0m \u001b[0ma\u001b[0m\u001b[1;33m<\u001b[0m \u001b[1;36m0\u001b[0m\u001b[1;33m:\u001b[0m\u001b[1;33m\u001b[0m\u001b[1;33m\u001b[0m\u001b[0m\n\u001b[1;32m----> 3\u001b[1;33m         \u001b[1;32mraise\u001b[0m \u001b[0mException\u001b[0m\u001b[1;33m(\u001b[0m\u001b[1;34m\"You enterd negative value\"\u001b[0m\u001b[1;33m,\u001b[0m\u001b[0ma\u001b[0m\u001b[1;33m)\u001b[0m\u001b[1;33m\u001b[0m\u001b[1;33m\u001b[0m\u001b[0m\n\u001b[0m\u001b[0;32m      4\u001b[0m     \u001b[1;32mreturn\u001b[0m \u001b[0ma\u001b[0m\u001b[1;33m\u001b[0m\u001b[1;33m\u001b[0m\u001b[0m\n",
      "\u001b[1;31mException\u001b[0m: ('You enterd negative value', -4)"
     ]
    }
   ],
   "source": [
    "test(-4)"
   ]
  },
  {
   "cell_type": "code",
   "execution_count": 35,
   "id": "6b930554",
   "metadata": {},
   "outputs": [
    {
     "name": "stdout",
     "output_type": "stream",
     "text": [
      "diksha\n",
      "calling my raised exception '<' not supported between instances of 'str' and 'int'\n"
     ]
    }
   ],
   "source": [
    "try:\n",
    "    a=input()\n",
    "    test(a)\n",
    "except Exception as e:\n",
    "    print(\"calling my raised exception\",e)"
   ]
  },
  {
   "cell_type": "code",
   "execution_count": 36,
   "id": "55485d31",
   "metadata": {},
   "outputs": [],
   "source": [
    "import logging"
   ]
  },
  {
   "cell_type": "code",
   "execution_count": 43,
   "id": "edc1e71a",
   "metadata": {},
   "outputs": [],
   "source": [
    "logging.basicConfig(filename=\"test.log\", level = logging.INFO)"
   ]
  },
  {
   "cell_type": "code",
   "execution_count": 40,
   "id": "a57feb53",
   "metadata": {},
   "outputs": [],
   "source": [
    "logging.info(\"This is my info log\")\n",
    "logging.warning(\"This is my warning log\")\n",
    "logging.error(\"This is my error log\")"
   ]
  },
  {
   "cell_type": "code",
   "execution_count": 54,
   "id": "5b768aa5",
   "metadata": {},
   "outputs": [],
   "source": [
    "logging.shutdown()"
   ]
  },
  {
   "cell_type": "code",
   "execution_count": 41,
   "id": "20f1fb7f",
   "metadata": {},
   "outputs": [
    {
     "data": {
      "text/plain": [
       "'C:\\\\Users\\\\admin\\\\Downloads'"
      ]
     },
     "execution_count": 41,
     "metadata": {},
     "output_type": "execute_result"
    }
   ],
   "source": [
    "pwd()"
   ]
  },
  {
   "cell_type": "raw",
   "id": "c9e47240",
   "metadata": {},
   "source": [
    "CEBUG\n",
    "INFO\n",
    "WARNING\n",
    "ERROR\n",
    "CRITICAL\n"
   ]
  },
  {
   "cell_type": "code",
   "execution_count": 63,
   "id": "c34c0076",
   "metadata": {},
   "outputs": [],
   "source": [
    "logging.basicConfig(filename=\"test2.log\", level = logging.DEBUG, format= '%(asctime)s %(levelname)s %(message)s')"
   ]
  },
  {
   "cell_type": "code",
   "execution_count": 64,
   "id": "4d666396",
   "metadata": {},
   "outputs": [],
   "source": [
    "logging.info(\"This is my info log\")\n",
    "logging.warning(\"This is my warning log\")\n",
    "logging.debug(\"This is my debug log\")\n",
    "logging.error(\"This is my error log\")"
   ]
  },
  {
   "cell_type": "code",
   "execution_count": 65,
   "id": "4eb0d430",
   "metadata": {},
   "outputs": [],
   "source": [
    "logging.basicConfig(filename=\"test3.log\", level = logging.DEBUG, format= '%(asctime)s %(levelname)s %(message)s')"
   ]
  },
  {
   "cell_type": "code",
   "execution_count": 67,
   "id": "c8f6adea",
   "metadata": {},
   "outputs": [],
   "source": [
    "def divbyzero(a,b):\n",
    "    logging.info(\"This id a start of my code and I am try to enter %s and %s\", a,b)\n",
    "    try:\n",
    "        div = a/b\n",
    "        logging.info(\"executed successfully\")\n",
    "    except Expetion as e:\n",
    "        logging.error(\"error has happened\")\n",
    "        logging.exception(\"exception occord\" + str(e))"
   ]
  },
  {
   "cell_type": "code",
   "execution_count": 68,
   "id": "6cd372f0",
   "metadata": {},
   "outputs": [],
   "source": [
    "divbyzero(4,5)"
   ]
  },
  {
   "cell_type": "code",
   "execution_count": null,
   "id": "0b143c06",
   "metadata": {},
   "outputs": [],
   "source": [
    "import my_module"
   ]
  },
  {
   "cell_type": "code",
   "execution_count": 1,
   "id": "0c885ec6",
   "metadata": {},
   "outputs": [],
   "source": [
    "import os"
   ]
  },
  {
   "cell_type": "code",
   "execution_count": 3,
   "id": "5f8016e7",
   "metadata": {},
   "outputs": [],
   "source": [
    "\n",
    "def test(a,b):\n",
    "    return a+b\n"
   ]
  },
  {
   "cell_type": "code",
   "execution_count": 4,
   "id": "f0bc8911",
   "metadata": {},
   "outputs": [
    {
     "data": {
      "text/plain": [
       "15"
      ]
     },
     "execution_count": 4,
     "metadata": {},
     "output_type": "execute_result"
    }
   ],
   "source": [
    "test(7,8)"
   ]
  },
  {
   "cell_type": "code",
   "execution_count": 5,
   "id": "6e07c7b1",
   "metadata": {},
   "outputs": [
    {
     "data": {
      "text/plain": [
       "'C:\\\\Users\\\\admin\\\\Downloads'"
      ]
     },
     "execution_count": 5,
     "metadata": {},
     "output_type": "execute_result"
    }
   ],
   "source": [
    "pwd()"
   ]
  },
  {
   "cell_type": "code",
   "execution_count": 8,
   "id": "ecd12757",
   "metadata": {},
   "outputs": [
    {
     "data": {
      "text/plain": [
       "<function dir>"
      ]
     },
     "execution_count": 8,
     "metadata": {},
     "output_type": "execute_result"
    }
   ],
   "source": [
    "dir"
   ]
  },
  {
   "cell_type": "code",
   "execution_count": 7,
   "id": "e5c1baf1",
   "metadata": {},
   "outputs": [
    {
     "name": "stdout",
     "output_type": "stream",
     "text": [
      " Volume in drive C has no label.\n",
      " Volume Serial Number is A469-692E\n",
      "\n",
      " Directory of C:\\Users\\admin\\Downloads\n",
      "\n",
      "17-02-2022  04:20 PM    <DIR>          .\n",
      "17-02-2022  04:20 PM    <DIR>          ..\n",
      "17-02-2022  04:16 PM    <DIR>          .ipynb_checkpoints\n",
      "12-06-2021  10:31 PM    <DIR>          .vs\n",
      "17-02-2022  12:24 AM    <DIR>          __pycache__\n",
      "06-09-2021  10:44 PM         1,149,093 0001.jpg\n",
      "06-09-2021  03:08 PM           747,188 0002.jpg\n",
      "14-02-2022  08:45 PM             5,695 1. Assignment .ipynb\n",
      "11-02-2022  03:00 PM            23,772 1. Python (Tuples, Set, Dict).ipynb\n",
      "27-11-2021  03:18 PM           670,617 10th Marksheet.pdf\n",
      "27-11-2021  03:24 PM           778,701 12th marksheet.pdf\n",
      "27-11-2021  03:31 PM         3,655,804 1-6 sem marksheet.pdf\n",
      "13-01-2022  10:45 PM         3,655,804 1-6+sem+marksheet.pdf\n",
      "23-11-2021  05:04 PM           985,576 18964478_00045815322_1 (1).pdf\n",
      "28-11-2021  10:01 PM           985,576 18964478_00045815322_1 (2).pdf\n",
      "17-01-2022  12:49 PM           985,576 18964478_00045815322_1 (3).pdf\n",
      "17-01-2022  12:49 PM           985,576 18964478_00045815322_1 (4).pdf\n",
      "17-01-2022  12:54 PM           985,576 18964478_00045815322_1 (5).pdf\n",
      "23-11-2021  05:04 PM           985,576 18964478_00045815322_1.pdf\n",
      "13-01-2022  10:35 PM        15,227,426 1ST SEM RESULT-combined.pdf\n",
      "13-02-2022  06:25 PM            27,039 2. python (if-else, loops).ipynb\n",
      "30-01-2022  10:03 PM            49,135 2665de75197d49f0b6d7e87a90a1ce38 (1).jpg\n",
      "30-01-2022  10:10 PM            93,830 2665de75197d49f0b6d7e87a90a1ce38 (2).jpg\n",
      "30-01-2022  10:01 PM            69,970 2665de75197d49f0b6d7e87a90a1ce38.jpg\n",
      "30-01-2022  10:00 PM           914,653 2665de75197d49f0b6d7e87a90a1ce38-0001.jpg\n",
      "14-02-2022  12:31 AM            22,662 3. python (loop, function).ipynb\n",
      "14-02-2022  02:08 PM            20,378 4. python (function) .ipynb\n",
      "14-02-2022  07:18 PM            20,378 4. python (function).ipynb\n",
      "14-02-2022  09:21 PM           248,830 5. python (Iterator Generator & File System).ipynb\n",
      "17-02-2022  04:20 PM            32,295 6. python (Exception Handling).ipynb\n",
      "17-02-2022  04:19 PM            26,356 7. python (oops concept).ipynb\n",
      "09-12-2021  01:27 PM           831,878 7th sem result.pdf\n",
      "30-01-2022  10:15 PM           101,419 8638b9746bac4616ae78d3b098e897a9.jpg\n",
      "30-01-2022  10:14 PM           416,503 8638b9746bac4616ae78d3b098e897a9-0001.jpg\n",
      "09-12-2021  01:28 PM           806,578 8th sem result.pdf\n",
      "30-01-2022  10:12 PM            93,571 a1f0484562ac44c890222df98ebe4fce.jpg\n",
      "30-01-2022  10:11 PM           437,175 a1f0484562ac44c890222df98ebe4fce-0001.jpg\n",
      "09-12-2021  01:50 PM           403,348 Adhar card Sakshi.pdf\n",
      "06-09-2021  02:08 PM           492,971 ADMISSION-FORM-II-mba.pdf\n",
      "06-09-2021  02:12 PM           691,121 ADMISSION-FORM-II-mba-images.zip\n",
      "09-12-2021  01:37 PM           402,050 Admit Card kits.pdf\n",
      "13-01-2022  11:05 PM            34,260 Affidavit (1).docx\n",
      "13-01-2022  11:05 PM            34,160 Affidavit (2).docx\n",
      "27-11-2021  04:16 PM            34,160 Affidavit.docx\n",
      "13-01-2022  11:10 PM            34,253 Affidavit+(1).docx\n",
      "14-10-2021  07:13 PM    <DIR>          anaconda\n",
      "12-06-2021  08:39 PM       978,607,576 android-studio-ide-202.7351085-windows.exe\n",
      "27-01-2022  04:32 PM       100,828,464 ARJUN K. (1).exe\n",
      "28-01-2022  11:44 AM       100,828,464 ARJUN K. (2).exe\n",
      "28-01-2022  01:50 PM       100,828,464 ARJUN K. (3).exe\n",
      "27-01-2022  04:11 PM       100,828,464 ARJUN K..exe\n",
      "26-07-2021  12:11 PM         1,279,864 ASG_1.1_Solution.xlsx\n",
      "09-12-2021  01:38 PM           243,265 Atm card Maharashtra.pdf\n",
      "09-12-2021  01:38 PM           267,840 Atm card UCO.pdf\n",
      "10-02-2022  11:28 PM            47,582 Basics of Python (4 Dec-5 Dec).ipynb\n",
      "09-12-2021  02:09 PM           591,118 Cast Certificate.pdf\n",
      "02-12-2021  07:39 PM           129,489 COC12004.pdf\n",
      "02-12-2021  07:45 PM    <DIR>          COC12004-images\n",
      "02-12-2021  07:43 PM           359,197 COC12004-images.zip\n",
      "06-02-2022  10:34 PM    <DIR>          Compressed\n",
      "14-12-2021  11:08 AM        53,221,290 Concept of Data Warehouse-merged (1).pdf\n",
      "14-12-2021  11:08 AM        53,221,290 Concept of Data Warehouse-merged.pdf\n",
      "09-06-2021  11:56 AM           207,767 Creating_Value_Through_People_Best_Human_Resource_.pdf\n",
      "17-02-2022  03:50 PM    <DIR>          Documents\n",
      "01-06-2021  04:33 PM               754 Documents - Shortcut.lnk\n",
      "09-12-2021  02:19 PM           167,680 DOMICILE CERTIFICATE.pdf\n",
      "27-12-2021  03:12 PM           291,228 educational documents.pdf\n",
      "09-12-2021  02:31 PM           567,588 Electricity Bill.pdf\n",
      "27-10-2021  04:12 PM         8,318,895 excelsheet1.pdf\n",
      "27-10-2021  04:13 PM        12,744,637 excelsheet2.pdf\n",
      "27-10-2021  04:14 PM        14,906,166 excelsheet3.pdf\n",
      "27-10-2021  04:14 PM         7,146,135 excelsheet4.pdf\n",
      "02-12-2021  06:56 PM           354,267 Final Report.docx\n",
      "09-12-2021  02:32 PM           354,134 Ghar Tax Slip.pdf\n",
      "04-12-2021  11:18 AM       115,236,016 GitHubDesktopSetup-x64.exe\n",
      "09-12-2021  01:58 PM           472,493 HSC RESULT 1.pdf\n",
      "09-12-2021  02:00 PM           463,807 HSC Result.pdf\n",
      "13-01-2022  10:43 PM         1,161,407 HSC.pdf\n",
      "06-06-2021  07:13 PM            87,198 ifortiscorporate-diksha lolekar.pdf\n",
      "07-06-2021  01:03 PM            94,359 ifortiscorporate-diksha lolekar-converted.docx\n",
      "29-05-2021  02:09 PM         5,980,224 Intel-Driver-and-Support-Assistant-Installer.exe\n",
      "06-06-2021  07:31 PM           138,560 Internship Offer Letter_Diksha Lolekar.pdf\n",
      "30-05-2021  01:06 AM           128,280 ladder diagram.jpeg\n",
      "30-05-2021  01:07 AM           273,748 Ladderpk.jpg\n",
      "27-11-2021  03:51 PM           123,879 Letter+of+Authorization+-+Background+Verification.pdf\n",
      "06-01-2022  01:19 PM       102,581,576 LockDownBrowserOEMSetup (1).exe\n",
      "06-01-2022  01:19 PM       102,581,576 LockDownBrowserOEMSetup (2).exe\n",
      "30-10-2021  12:44 PM       102,581,576 LockDownBrowserOEMSetup.exe\n",
      "28-11-2021  02:51 PM           383,584 Maharashtra+Bank+passbook.pdf\n",
      "12-02-2022  07:47 PM         2,847,877 Matplotlib.ipynb\n",
      "06-02-2022  10:34 PM    <DIR>          Music\n",
      "17-02-2022  12:23 AM                 0 my_module.py\n",
      "14-02-2022  08:19 PM         5,544,823 obpass (1).pdf\n",
      "14-02-2022  03:48 PM         5,544,823 obpass.pdf\n",
      "07-12-2021  04:15 PM             7,015 offlineaadhaar20211207041511019.zip\n",
      "07-12-2021  04:20 PM             7,016 offlineaadhaar20211207042015602.zip\n",
      "09-12-2021  01:15 PM           586,545 Oriental Life insurance papa.pdf\n",
      "09-12-2021  01:40 PM           611,223 PAN CARD.pdf\n",
      "13-01-2022  11:02 PM           381,465 PAN+CARD-+SAKSHI.pdf\n",
      "09-12-2021  02:45 PM           662,577 PASSPORT Diksha.pdf\n",
      "09-12-2021  02:45 PM           686,804 PASSPORT Sakshi.pdf\n",
      "13-01-2022  11:02 PM         1,089,660 PASSPORT-SAKSHI.pdf\n",
      "07-06-2021  09:10 PM            35,720 Pre Interrogation Assessment.docx\n",
      "15-02-2022  09:42 AM    <DIR>          Programs\n",
      "01-06-2021  08:03 PM         1,848,724 Project thesis grp 1.docx\n",
      "09-12-2021  02:29 PM           353,427 PROVISIONAL KITS.pdf\n",
      "04-02-2022  10:47 PM             5,689 Python for Business Analytics - I.py\n",
      "05-02-2022  10:38 PM            80,779 Python for Business Analytics - II.ipynb\n",
      "09-02-2022  11:56 PM            91,134 Python for Business Analytics - IV.ipynb\n",
      "07-02-2022  12:26 AM            98,393 Python for Business Analytics -III.ipynb\n",
      "09-02-2022  11:27 PM            91,134 Python for Business Analytics IV.ipynb\n",
      "05-02-2022  10:44 PM             6,639 PYTHON I.ipynb\n",
      "05-02-2022  10:44 PM            20,010 PYTHON II.ipynb\n",
      "05-02-2022  10:45 PM            55,179 PYTHON III.ipynb\n",
      "14-12-2021  11:07 AM           408,177 Question Bank DWDM.pdf\n",
      "09-12-2021  02:05 PM         1,295,740 RASHION CARD.pdf\n",
      "02-12-2021  11:43 PM           143,358 report.docx\n",
      "13-01-2022  10:59 PM         4,580,495 Result_merged.pdf\n",
      "20-09-2021  12:48 PM           275,016 SAB-Proctor-win78-2021 (2).exe\n",
      "30-01-2022  09:58 PM            29,795 sakshi_pic (1).jpg\n",
      "30-01-2022  09:57 PM            14,717 sakshi_pic.jpg\n",
      "13-01-2022  11:03 PM           100,628 SAKSHI+LETTER+OF+AUTHORIZATION.pdf\n",
      "15-12-2021  01:48 PM         3,208,704 SecureExamBrowserInstaller_1.4.2 (1).msi\n",
      "13-12-2021  06:45 PM         3,208,704 SecureExamBrowserInstaller_1.4.2.msi\n",
      "28-11-2021  04:20 PM           109,403 SIGN 1-120KB.jpg\n",
      "06-09-2021  03:07 PM            26,128 sing.jpg\n",
      "02-12-2021  08:04 PM           572,900 SIP Presentation ( Sakshi Darwade ).pptx\n",
      "23-09-2021  02:55 PM    <DIR>          sqldeveloper\n",
      "23-09-2021  02:44 PM       446,763,819 sqldeveloper-21.2.1.204.1703-x64.zip\n",
      "23-09-2021  02:37 PM       182,052,469 sqldeveloper64-3.2.20.09.87-no-jre.zip\n",
      "09-12-2021  02:02 PM           542,409 SSC RESULT 1.pdf\n",
      "13-01-2022  10:42 PM         1,223,202 SSC.pdf\n",
      "09-06-2021  02:04 PM            40,692 ST01-HR Management.docx\n",
      "27-10-2021  04:07 PM       245,476,976 TableauPublicDesktop-64bit-10-3-1.exe\n",
      "09-12-2021  02:27 PM           412,287 TC KITS.pdf\n",
      "16-02-2022  06:05 PM               737 test.log\n",
      "14-02-2022  10:38 PM                21 test.txt\n",
      "16-02-2022  03:24 PM                22 test1.txt\n",
      "16-02-2022  11:55 PM                29 test2.py\n",
      "16-02-2022  06:15 PM                22 test4.txt\n",
      "16-02-2022  03:25 PM                22 test5.txt\n",
      "09-02-2022  11:27 PM            91,134 Unconfirmed 421153.crdownload\n",
      "09-12-2021  02:11 PM           376,161 Validity Certificate.pdf\n",
      "06-02-2022  10:34 PM    <DIR>          Video\n",
      "26-05-2021  09:29 PM               733 Videos - Shortcut.lnk\n",
      "09-12-2021  01:30 PM           725,918 Voter id.pdf\n",
      "12-06-2021  09:55 PM         1,466,736 vs_community__1542485950.1623514969.exe\n",
      "27-10-2021  03:44 PM           129,902 WhatsApp Image 2021-10-27 at 3.42.05 PM (1).jpeg\n",
      "27-10-2021  03:42 PM           129,902 WhatsApp Image 2021-10-27 at 3.42.05 PM.jpeg\n",
      "28-11-2021  04:09 PM           343,144 WhatsApp Image 2021-11-28 at 4.09.28 PM.jpeg\n",
      "28-11-2021  04:13 PM            37,345 WhatsApp Image 2021-11-28 at 4.13.16 PM.jpeg\n",
      "             138 File(s)  2,921,240,533 bytes\n",
      "              13 Dir(s)  18,870,046,720 bytes free\n"
     ]
    }
   ],
   "source": [
    "ls"
   ]
  },
  {
   "cell_type": "code",
   "execution_count": 9,
   "id": "442e54db",
   "metadata": {},
   "outputs": [
    {
     "data": {
      "text/plain": [
       "<_io.TextIOWrapper name='test2.py' mode='w' encoding='cp1252'>"
      ]
     },
     "execution_count": 9,
     "metadata": {},
     "output_type": "execute_result"
    }
   ],
   "source": [
    "open(\"test2.py\",\"w\")"
   ]
  },
  {
   "cell_type": "code",
   "execution_count": 10,
   "id": "73182de1",
   "metadata": {},
   "outputs": [
    {
     "name": "stdout",
     "output_type": "stream",
     "text": [
      " Volume in drive C has no label.\n",
      " Volume Serial Number is A469-692E\n",
      "\n",
      " Directory of C:\\Users\\admin\\Downloads\n",
      "\n",
      "17-02-2022  04:20 PM    <DIR>          .\n",
      "17-02-2022  04:20 PM    <DIR>          ..\n",
      "17-02-2022  04:16 PM    <DIR>          .ipynb_checkpoints\n",
      "12-06-2021  10:31 PM    <DIR>          .vs\n",
      "17-02-2022  12:24 AM    <DIR>          __pycache__\n",
      "06-09-2021  10:44 PM         1,149,093 0001.jpg\n",
      "06-09-2021  03:08 PM           747,188 0002.jpg\n",
      "14-02-2022  08:45 PM             5,695 1. Assignment .ipynb\n",
      "11-02-2022  03:00 PM            23,772 1. Python (Tuples, Set, Dict).ipynb\n",
      "27-11-2021  03:18 PM           670,617 10th Marksheet.pdf\n",
      "27-11-2021  03:24 PM           778,701 12th marksheet.pdf\n",
      "27-11-2021  03:31 PM         3,655,804 1-6 sem marksheet.pdf\n",
      "13-01-2022  10:45 PM         3,655,804 1-6+sem+marksheet.pdf\n",
      "23-11-2021  05:04 PM           985,576 18964478_00045815322_1 (1).pdf\n",
      "28-11-2021  10:01 PM           985,576 18964478_00045815322_1 (2).pdf\n",
      "17-01-2022  12:49 PM           985,576 18964478_00045815322_1 (3).pdf\n",
      "17-01-2022  12:49 PM           985,576 18964478_00045815322_1 (4).pdf\n",
      "17-01-2022  12:54 PM           985,576 18964478_00045815322_1 (5).pdf\n",
      "23-11-2021  05:04 PM           985,576 18964478_00045815322_1.pdf\n",
      "13-01-2022  10:35 PM        15,227,426 1ST SEM RESULT-combined.pdf\n",
      "13-02-2022  06:25 PM            27,039 2. python (if-else, loops).ipynb\n",
      "30-01-2022  10:03 PM            49,135 2665de75197d49f0b6d7e87a90a1ce38 (1).jpg\n",
      "30-01-2022  10:10 PM            93,830 2665de75197d49f0b6d7e87a90a1ce38 (2).jpg\n",
      "30-01-2022  10:01 PM            69,970 2665de75197d49f0b6d7e87a90a1ce38.jpg\n",
      "30-01-2022  10:00 PM           914,653 2665de75197d49f0b6d7e87a90a1ce38-0001.jpg\n",
      "14-02-2022  12:31 AM            22,662 3. python (loop, function).ipynb\n",
      "14-02-2022  02:08 PM            20,378 4. python (function) .ipynb\n",
      "14-02-2022  07:18 PM            20,378 4. python (function).ipynb\n",
      "14-02-2022  09:21 PM           248,830 5. python (Iterator Generator & File System).ipynb\n",
      "17-02-2022  04:20 PM            32,295 6. python (Exception Handling).ipynb\n",
      "17-02-2022  04:19 PM            26,356 7. python (oops concept).ipynb\n",
      "09-12-2021  01:27 PM           831,878 7th sem result.pdf\n",
      "30-01-2022  10:15 PM           101,419 8638b9746bac4616ae78d3b098e897a9.jpg\n",
      "30-01-2022  10:14 PM           416,503 8638b9746bac4616ae78d3b098e897a9-0001.jpg\n",
      "09-12-2021  01:28 PM           806,578 8th sem result.pdf\n",
      "30-01-2022  10:12 PM            93,571 a1f0484562ac44c890222df98ebe4fce.jpg\n",
      "30-01-2022  10:11 PM           437,175 a1f0484562ac44c890222df98ebe4fce-0001.jpg\n",
      "09-12-2021  01:50 PM           403,348 Adhar card Sakshi.pdf\n",
      "06-09-2021  02:08 PM           492,971 ADMISSION-FORM-II-mba.pdf\n",
      "06-09-2021  02:12 PM           691,121 ADMISSION-FORM-II-mba-images.zip\n",
      "09-12-2021  01:37 PM           402,050 Admit Card kits.pdf\n",
      "13-01-2022  11:05 PM            34,260 Affidavit (1).docx\n",
      "13-01-2022  11:05 PM            34,160 Affidavit (2).docx\n",
      "27-11-2021  04:16 PM            34,160 Affidavit.docx\n",
      "13-01-2022  11:10 PM            34,253 Affidavit+(1).docx\n",
      "14-10-2021  07:13 PM    <DIR>          anaconda\n",
      "12-06-2021  08:39 PM       978,607,576 android-studio-ide-202.7351085-windows.exe\n",
      "27-01-2022  04:32 PM       100,828,464 ARJUN K. (1).exe\n",
      "28-01-2022  11:44 AM       100,828,464 ARJUN K. (2).exe\n",
      "28-01-2022  01:50 PM       100,828,464 ARJUN K. (3).exe\n",
      "27-01-2022  04:11 PM       100,828,464 ARJUN K..exe\n",
      "26-07-2021  12:11 PM         1,279,864 ASG_1.1_Solution.xlsx\n",
      "09-12-2021  01:38 PM           243,265 Atm card Maharashtra.pdf\n",
      "09-12-2021  01:38 PM           267,840 Atm card UCO.pdf\n",
      "10-02-2022  11:28 PM            47,582 Basics of Python (4 Dec-5 Dec).ipynb\n",
      "09-12-2021  02:09 PM           591,118 Cast Certificate.pdf\n",
      "02-12-2021  07:39 PM           129,489 COC12004.pdf\n",
      "02-12-2021  07:45 PM    <DIR>          COC12004-images\n",
      "02-12-2021  07:43 PM           359,197 COC12004-images.zip\n",
      "06-02-2022  10:34 PM    <DIR>          Compressed\n",
      "14-12-2021  11:08 AM        53,221,290 Concept of Data Warehouse-merged (1).pdf\n",
      "14-12-2021  11:08 AM        53,221,290 Concept of Data Warehouse-merged.pdf\n",
      "09-06-2021  11:56 AM           207,767 Creating_Value_Through_People_Best_Human_Resource_.pdf\n",
      "17-02-2022  03:50 PM    <DIR>          Documents\n",
      "01-06-2021  04:33 PM               754 Documents - Shortcut.lnk\n",
      "09-12-2021  02:19 PM           167,680 DOMICILE CERTIFICATE.pdf\n",
      "27-12-2021  03:12 PM           291,228 educational documents.pdf\n",
      "09-12-2021  02:31 PM           567,588 Electricity Bill.pdf\n",
      "27-10-2021  04:12 PM         8,318,895 excelsheet1.pdf\n",
      "27-10-2021  04:13 PM        12,744,637 excelsheet2.pdf\n",
      "27-10-2021  04:14 PM        14,906,166 excelsheet3.pdf\n",
      "27-10-2021  04:14 PM         7,146,135 excelsheet4.pdf\n",
      "02-12-2021  06:56 PM           354,267 Final Report.docx\n",
      "09-12-2021  02:32 PM           354,134 Ghar Tax Slip.pdf\n",
      "04-12-2021  11:18 AM       115,236,016 GitHubDesktopSetup-x64.exe\n",
      "09-12-2021  01:58 PM           472,493 HSC RESULT 1.pdf\n",
      "09-12-2021  02:00 PM           463,807 HSC Result.pdf\n",
      "13-01-2022  10:43 PM         1,161,407 HSC.pdf\n",
      "06-06-2021  07:13 PM            87,198 ifortiscorporate-diksha lolekar.pdf\n",
      "07-06-2021  01:03 PM            94,359 ifortiscorporate-diksha lolekar-converted.docx\n",
      "29-05-2021  02:09 PM         5,980,224 Intel-Driver-and-Support-Assistant-Installer.exe\n",
      "06-06-2021  07:31 PM           138,560 Internship Offer Letter_Diksha Lolekar.pdf\n",
      "30-05-2021  01:06 AM           128,280 ladder diagram.jpeg\n",
      "30-05-2021  01:07 AM           273,748 Ladderpk.jpg\n",
      "27-11-2021  03:51 PM           123,879 Letter+of+Authorization+-+Background+Verification.pdf\n",
      "06-01-2022  01:19 PM       102,581,576 LockDownBrowserOEMSetup (1).exe\n",
      "06-01-2022  01:19 PM       102,581,576 LockDownBrowserOEMSetup (2).exe\n",
      "30-10-2021  12:44 PM       102,581,576 LockDownBrowserOEMSetup.exe\n",
      "28-11-2021  02:51 PM           383,584 Maharashtra+Bank+passbook.pdf\n",
      "12-02-2022  07:47 PM         2,847,877 Matplotlib.ipynb\n",
      "06-02-2022  10:34 PM    <DIR>          Music\n",
      "17-02-2022  12:23 AM                 0 my_module.py\n",
      "14-02-2022  08:19 PM         5,544,823 obpass (1).pdf\n",
      "14-02-2022  03:48 PM         5,544,823 obpass.pdf\n",
      "07-12-2021  04:15 PM             7,015 offlineaadhaar20211207041511019.zip\n",
      "07-12-2021  04:20 PM             7,016 offlineaadhaar20211207042015602.zip\n",
      "09-12-2021  01:15 PM           586,545 Oriental Life insurance papa.pdf\n",
      "09-12-2021  01:40 PM           611,223 PAN CARD.pdf\n",
      "13-01-2022  11:02 PM           381,465 PAN+CARD-+SAKSHI.pdf\n",
      "09-12-2021  02:45 PM           662,577 PASSPORT Diksha.pdf\n",
      "09-12-2021  02:45 PM           686,804 PASSPORT Sakshi.pdf\n",
      "13-01-2022  11:02 PM         1,089,660 PASSPORT-SAKSHI.pdf\n",
      "07-06-2021  09:10 PM            35,720 Pre Interrogation Assessment.docx\n",
      "15-02-2022  09:42 AM    <DIR>          Programs\n",
      "01-06-2021  08:03 PM         1,848,724 Project thesis grp 1.docx\n",
      "09-12-2021  02:29 PM           353,427 PROVISIONAL KITS.pdf\n",
      "04-02-2022  10:47 PM             5,689 Python for Business Analytics - I.py\n",
      "05-02-2022  10:38 PM            80,779 Python for Business Analytics - II.ipynb\n",
      "09-02-2022  11:56 PM            91,134 Python for Business Analytics - IV.ipynb\n",
      "07-02-2022  12:26 AM            98,393 Python for Business Analytics -III.ipynb\n",
      "09-02-2022  11:27 PM            91,134 Python for Business Analytics IV.ipynb\n",
      "05-02-2022  10:44 PM             6,639 PYTHON I.ipynb\n",
      "05-02-2022  10:44 PM            20,010 PYTHON II.ipynb\n",
      "05-02-2022  10:45 PM            55,179 PYTHON III.ipynb\n",
      "14-12-2021  11:07 AM           408,177 Question Bank DWDM.pdf\n",
      "09-12-2021  02:05 PM         1,295,740 RASHION CARD.pdf\n",
      "02-12-2021  11:43 PM           143,358 report.docx\n",
      "13-01-2022  10:59 PM         4,580,495 Result_merged.pdf\n",
      "20-09-2021  12:48 PM           275,016 SAB-Proctor-win78-2021 (2).exe\n",
      "30-01-2022  09:58 PM            29,795 sakshi_pic (1).jpg\n",
      "30-01-2022  09:57 PM            14,717 sakshi_pic.jpg\n",
      "13-01-2022  11:03 PM           100,628 SAKSHI+LETTER+OF+AUTHORIZATION.pdf\n",
      "15-12-2021  01:48 PM         3,208,704 SecureExamBrowserInstaller_1.4.2 (1).msi\n",
      "13-12-2021  06:45 PM         3,208,704 SecureExamBrowserInstaller_1.4.2.msi\n",
      "28-11-2021  04:20 PM           109,403 SIGN 1-120KB.jpg\n",
      "06-09-2021  03:07 PM            26,128 sing.jpg\n",
      "02-12-2021  08:04 PM           572,900 SIP Presentation ( Sakshi Darwade ).pptx\n",
      "23-09-2021  02:55 PM    <DIR>          sqldeveloper\n",
      "23-09-2021  02:44 PM       446,763,819 sqldeveloper-21.2.1.204.1703-x64.zip\n",
      "23-09-2021  02:37 PM       182,052,469 sqldeveloper64-3.2.20.09.87-no-jre.zip\n",
      "09-12-2021  02:02 PM           542,409 SSC RESULT 1.pdf\n",
      "13-01-2022  10:42 PM         1,223,202 SSC.pdf\n",
      "09-06-2021  02:04 PM            40,692 ST01-HR Management.docx\n",
      "27-10-2021  04:07 PM       245,476,976 TableauPublicDesktop-64bit-10-3-1.exe\n",
      "09-12-2021  02:27 PM           412,287 TC KITS.pdf\n",
      "16-02-2022  06:05 PM               737 test.log\n",
      "14-02-2022  10:38 PM                21 test.txt\n",
      "16-02-2022  03:24 PM                22 test1.txt\n",
      "17-02-2022  04:20 PM                 0 test2.py\n",
      "16-02-2022  06:15 PM                22 test4.txt\n",
      "16-02-2022  03:25 PM                22 test5.txt\n",
      "09-02-2022  11:27 PM            91,134 Unconfirmed 421153.crdownload\n",
      "09-12-2021  02:11 PM           376,161 Validity Certificate.pdf\n",
      "06-02-2022  10:34 PM    <DIR>          Video\n",
      "26-05-2021  09:29 PM               733 Videos - Shortcut.lnk\n",
      "09-12-2021  01:30 PM           725,918 Voter id.pdf\n",
      "12-06-2021  09:55 PM         1,466,736 vs_community__1542485950.1623514969.exe\n",
      "27-10-2021  03:44 PM           129,902 WhatsApp Image 2021-10-27 at 3.42.05 PM (1).jpeg\n",
      "27-10-2021  03:42 PM           129,902 WhatsApp Image 2021-10-27 at 3.42.05 PM.jpeg\n",
      "28-11-2021  04:09 PM           343,144 WhatsApp Image 2021-11-28 at 4.09.28 PM.jpeg\n",
      "28-11-2021  04:13 PM            37,345 WhatsApp Image 2021-11-28 at 4.13.16 PM.jpeg\n",
      "             138 File(s)  2,921,240,504 bytes\n",
      "              13 Dir(s)  18,868,899,840 bytes free\n"
     ]
    }
   ],
   "source": [
    "ls"
   ]
  },
  {
   "cell_type": "code",
   "execution_count": 12,
   "id": "4b3c18c5",
   "metadata": {},
   "outputs": [],
   "source": [
    "import test2"
   ]
  },
  {
   "cell_type": "code",
   "execution_count": 13,
   "id": "ce391fc4",
   "metadata": {},
   "outputs": [
    {
     "ename": "ImportError",
     "evalue": "cannot import name 'test' from 'test2' (C:\\Users\\admin\\Downloads\\test2.py)",
     "output_type": "error",
     "traceback": [
      "\u001b[1;31m---------------------------------------------------------------------------\u001b[0m",
      "\u001b[1;31mImportError\u001b[0m                               Traceback (most recent call last)",
      "\u001b[1;32m<ipython-input-13-a0a7df01bc6c>\u001b[0m in \u001b[0;36m<module>\u001b[1;34m\u001b[0m\n\u001b[1;32m----> 1\u001b[1;33m \u001b[1;32mfrom\u001b[0m \u001b[0mtest2\u001b[0m \u001b[1;32mimport\u001b[0m \u001b[0mtest\u001b[0m\u001b[1;33m\u001b[0m\u001b[1;33m\u001b[0m\u001b[0m\n\u001b[0m",
      "\u001b[1;31mImportError\u001b[0m: cannot import name 'test' from 'test2' (C:\\Users\\admin\\Downloads\\test2.py)"
     ]
    }
   ],
   "source": [
    "from test2 import test"
   ]
  },
  {
   "cell_type": "code",
   "execution_count": null,
   "id": "cf3d631b",
   "metadata": {},
   "outputs": [],
   "source": [
    "\n",
    "open(\"my_module.py\",\"w\")\n"
   ]
  },
  {
   "cell_type": "code",
   "execution_count": 15,
   "id": "9aa00b5f",
   "metadata": {},
   "outputs": [],
   "source": [
    "import my_module"
   ]
  },
  {
   "cell_type": "code",
   "execution_count": null,
   "id": "59ecc28c",
   "metadata": {},
   "outputs": [],
   "source": []
  },
  {
   "cell_type": "code",
   "execution_count": null,
   "id": "606ce62c",
   "metadata": {},
   "outputs": [],
   "source": []
  }
 ],
 "metadata": {
  "kernelspec": {
   "display_name": "Python 3",
   "language": "python",
   "name": "python3"
  },
  "language_info": {
   "codemirror_mode": {
    "name": "ipython",
    "version": 3
   },
   "file_extension": ".py",
   "mimetype": "text/x-python",
   "name": "python",
   "nbconvert_exporter": "python",
   "pygments_lexer": "ipython3",
   "version": "3.8.8"
  }
 },
 "nbformat": 4,
 "nbformat_minor": 5
}
