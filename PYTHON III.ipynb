{
 "cells": [
  {
   "cell_type": "code",
   "execution_count": 1,
   "id": "e71c0720",
   "metadata": {
    "scrolled": true
   },
   "outputs": [
    {
     "name": "stdout",
     "output_type": "stream",
     "text": [
      "The Zen of Python, by Tim Peters\n",
      "\n",
      "Beautiful is better than ugly.\n",
      "Explicit is better than implicit.\n",
      "Simple is better than complex.\n",
      "Complex is better than complicated.\n",
      "Flat is better than nested.\n",
      "Sparse is better than dense.\n",
      "Readability counts.\n",
      "Special cases aren't special enough to break the rules.\n",
      "Although practicality beats purity.\n",
      "Errors should never pass silently.\n",
      "Unless explicitly silenced.\n",
      "In the face of ambiguity, refuse the temptation to guess.\n",
      "There should be one-- and preferably only one --obvious way to do it.\n",
      "Although that way may not be obvious at first unless you're Dutch.\n",
      "Now is better than never.\n",
      "Although never is often better than *right* now.\n",
      "If the implementation is hard to explain, it's a bad idea.\n",
      "If the implementation is easy to explain, it may be a good idea.\n",
      "Namespaces are one honking great idea -- let's do more of those!\n"
     ]
    }
   ],
   "source": [
    "import this"
   ]
  },
  {
   "cell_type": "code",
   "execution_count": 3,
   "id": "6412a9d3",
   "metadata": {
    "scrolled": true
   },
   "outputs": [
    {
     "name": "stdout",
     "output_type": "stream",
     "text": [
      "DIKSHA\n"
     ]
    }
   ],
   "source": [
    "print(\"DIKSHA\")"
   ]
  },
  {
   "cell_type": "code",
   "execution_count": 5,
   "id": "7c7df910",
   "metadata": {},
   "outputs": [],
   "source": [
    "d= 5+6j"
   ]
  },
  {
   "cell_type": "code",
   "execution_count": 6,
   "id": "faf0a81f",
   "metadata": {},
   "outputs": [
    {
     "data": {
      "text/plain": [
       "(5+6j)"
      ]
     },
     "execution_count": 6,
     "metadata": {},
     "output_type": "execute_result"
    }
   ],
   "source": [
    "d"
   ]
  },
  {
   "cell_type": "code",
   "execution_count": 7,
   "id": "34d61a8c",
   "metadata": {},
   "outputs": [
    {
     "data": {
      "text/plain": [
       "complex"
      ]
     },
     "execution_count": 7,
     "metadata": {},
     "output_type": "execute_result"
    }
   ],
   "source": [
    "type(d)"
   ]
  },
  {
   "cell_type": "code",
   "execution_count": 10,
   "id": "30ad1162",
   "metadata": {},
   "outputs": [
    {
     "data": {
      "text/plain": [
       "2"
      ]
     },
     "execution_count": 10,
     "metadata": {},
     "output_type": "execute_result"
    }
   ],
   "source": [
    "True + True"
   ]
  },
  {
   "cell_type": "code",
   "execution_count": 11,
   "id": "e6aa7bfe",
   "metadata": {},
   "outputs": [
    {
     "data": {
      "text/plain": [
       "2"
      ]
     },
     "execution_count": 11,
     "metadata": {},
     "output_type": "execute_result"
    }
   ],
   "source": [
    "1 + True"
   ]
  },
  {
   "cell_type": "code",
   "execution_count": 12,
   "id": "93678ffe",
   "metadata": {},
   "outputs": [
    {
     "data": {
      "text/plain": [
       "1"
      ]
     },
     "execution_count": 12,
     "metadata": {},
     "output_type": "execute_result"
    }
   ],
   "source": [
    "True + False"
   ]
  },
  {
   "cell_type": "code",
   "execution_count": 13,
   "id": "0cae9e47",
   "metadata": {},
   "outputs": [
    {
     "data": {
      "text/plain": [
       "1"
      ]
     },
     "execution_count": 13,
     "metadata": {},
     "output_type": "execute_result"
    }
   ],
   "source": [
    "True - False"
   ]
  },
  {
   "cell_type": "code",
   "execution_count": 14,
   "id": "8365e992",
   "metadata": {},
   "outputs": [
    {
     "name": "stdout",
     "output_type": "stream",
     "text": [
      "hello world\n"
     ]
    },
    {
     "data": {
      "text/plain": [
       "'hello world'"
      ]
     },
     "execution_count": 14,
     "metadata": {},
     "output_type": "execute_result"
    }
   ],
   "source": [
    "input()"
   ]
  },
  {
   "cell_type": "code",
   "execution_count": null,
   "id": "0021d4b9",
   "metadata": {},
   "outputs": [],
   "source": [
    "a =35443453"
   ]
  },
  {
   "cell_type": "code",
   "execution_count": 17,
   "id": "2e8e5c71",
   "metadata": {},
   "outputs": [],
   "source": [
    "b = 45\n"
   ]
  },
  {
   "cell_type": "code",
   "execution_count": null,
   "id": "0803ae29",
   "metadata": {},
   "outputs": [],
   "source": [
    "int(a)+b\n"
   ]
  },
  {
   "cell_type": "code",
   "execution_count": null,
   "id": "0d2745ce",
   "metadata": {},
   "outputs": [],
   "source": [
    "a = input()"
   ]
  },
  {
   "cell_type": "code",
   "execution_count": null,
   "id": "c6bade47",
   "metadata": {},
   "outputs": [],
   "source": [
    "pwd()"
   ]
  },
  {
   "cell_type": "code",
   "execution_count": 1,
   "id": "603d5925",
   "metadata": {},
   "outputs": [
    {
     "name": "stdout",
     "output_type": "stream",
     "text": [
      "diksha\n"
     ]
    },
    {
     "data": {
      "text/plain": [
       "'diksha'"
      ]
     },
     "execution_count": 1,
     "metadata": {},
     "output_type": "execute_result"
    }
   ],
   "source": [
    "input()"
   ]
  },
  {
   "cell_type": "code",
   "execution_count": 2,
   "id": "408e62fc",
   "metadata": {},
   "outputs": [],
   "source": [
    "s= \"diksha\""
   ]
  },
  {
   "cell_type": "code",
   "execution_count": 3,
   "id": "0fdec05b",
   "metadata": {},
   "outputs": [
    {
     "data": {
      "text/plain": [
       "str"
      ]
     },
     "execution_count": 3,
     "metadata": {},
     "output_type": "execute_result"
    }
   ],
   "source": [
    "type(s)"
   ]
  },
  {
   "cell_type": "code",
   "execution_count": 4,
   "id": "971afc7f",
   "metadata": {},
   "outputs": [
    {
     "data": {
      "text/plain": [
       "'i'"
      ]
     },
     "execution_count": 4,
     "metadata": {},
     "output_type": "execute_result"
    }
   ],
   "source": [
    "s[1]"
   ]
  },
  {
   "cell_type": "code",
   "execution_count": 5,
   "id": "e8b6b479",
   "metadata": {},
   "outputs": [
    {
     "data": {
      "text/plain": [
       "'k'"
      ]
     },
     "execution_count": 5,
     "metadata": {},
     "output_type": "execute_result"
    }
   ],
   "source": [
    "s[-4]"
   ]
  },
  {
   "cell_type": "code",
   "execution_count": 6,
   "id": "0ba096fc",
   "metadata": {},
   "outputs": [],
   "source": [
    "b=\"ineuron\""
   ]
  },
  {
   "cell_type": "code",
   "execution_count": 7,
   "id": "a37de533",
   "metadata": {},
   "outputs": [
    {
     "data": {
      "text/plain": [
       "'ineuron'"
      ]
     },
     "execution_count": 7,
     "metadata": {},
     "output_type": "execute_result"
    }
   ],
   "source": [
    "b[0:300]"
   ]
  },
  {
   "cell_type": "code",
   "execution_count": 8,
   "id": "d65c731b",
   "metadata": {},
   "outputs": [
    {
     "data": {
      "text/plain": [
       "'n'"
      ]
     },
     "execution_count": 8,
     "metadata": {},
     "output_type": "execute_result"
    }
   ],
   "source": [
    "b[-1]"
   ]
  },
  {
   "cell_type": "code",
   "execution_count": 9,
   "id": "e365c7db",
   "metadata": {},
   "outputs": [
    {
     "ename": "IndexError",
     "evalue": "string index out of range",
     "output_type": "error",
     "traceback": [
      "\u001b[1;31m---------------------------------------------------------------------------\u001b[0m",
      "\u001b[1;31mIndexError\u001b[0m                                Traceback (most recent call last)",
      "\u001b[1;32m<ipython-input-9-b20bba380709>\u001b[0m in \u001b[0;36m<module>\u001b[1;34m\u001b[0m\n\u001b[1;32m----> 1\u001b[1;33m \u001b[0mb\u001b[0m\u001b[1;33m[\u001b[0m\u001b[1;33m-\u001b[0m\u001b[1;36m100\u001b[0m\u001b[1;33m]\u001b[0m\u001b[1;33m\u001b[0m\u001b[1;33m\u001b[0m\u001b[0m\n\u001b[0m",
      "\u001b[1;31mIndexError\u001b[0m: string index out of range"
     ]
    }
   ],
   "source": [
    "b[-100]"
   ]
  },
  {
   "cell_type": "code",
   "execution_count": 11,
   "id": "143e25f0",
   "metadata": {},
   "outputs": [
    {
     "data": {
      "text/plain": [
       "''"
      ]
     },
     "execution_count": 11,
     "metadata": {},
     "output_type": "execute_result"
    }
   ],
   "source": [
    "b[-1:-4]"
   ]
  },
  {
   "cell_type": "code",
   "execution_count": 12,
   "id": "2eb5e5e7",
   "metadata": {},
   "outputs": [],
   "source": [
    "a=\"kumar\""
   ]
  },
  {
   "cell_type": "code",
   "execution_count": 15,
   "id": "e03a99e6",
   "metadata": {},
   "outputs": [
    {
     "data": {
      "text/plain": [
       "'kumar'"
      ]
     },
     "execution_count": 15,
     "metadata": {},
     "output_type": "execute_result"
    }
   ],
   "source": [
    "a[0:200:1]"
   ]
  },
  {
   "cell_type": "code",
   "execution_count": 16,
   "id": "c24a984a",
   "metadata": {},
   "outputs": [
    {
     "data": {
      "text/plain": [
       "'kmr'"
      ]
     },
     "execution_count": 16,
     "metadata": {},
     "output_type": "execute_result"
    }
   ],
   "source": [
    "a[0:200:2]"
   ]
  },
  {
   "cell_type": "code",
   "execution_count": 17,
   "id": "1dbd178a",
   "metadata": {},
   "outputs": [
    {
     "data": {
      "text/plain": [
       "'ka'"
      ]
     },
     "execution_count": 17,
     "metadata": {},
     "output_type": "execute_result"
    }
   ],
   "source": [
    "a[0:200:3]"
   ]
  },
  {
   "cell_type": "code",
   "execution_count": 18,
   "id": "68e02c0b",
   "metadata": {},
   "outputs": [
    {
     "data": {
      "text/plain": [
       "''"
      ]
     },
     "execution_count": 18,
     "metadata": {},
     "output_type": "execute_result"
    }
   ],
   "source": [
    "a[0:100:-1]"
   ]
  },
  {
   "cell_type": "code",
   "execution_count": 20,
   "id": "f636dff6",
   "metadata": {},
   "outputs": [
    {
     "data": {
      "text/plain": [
       "'ram'"
      ]
     },
     "execution_count": 20,
     "metadata": {},
     "output_type": "execute_result"
    }
   ],
   "source": [
    "a[-1:-4:-1]"
   ]
  },
  {
   "cell_type": "code",
   "execution_count": 21,
   "id": "3d70b4c2",
   "metadata": {},
   "outputs": [
    {
     "data": {
      "text/plain": [
       "'kumar'"
      ]
     },
     "execution_count": 21,
     "metadata": {},
     "output_type": "execute_result"
    }
   ],
   "source": [
    "a[::]"
   ]
  },
  {
   "cell_type": "code",
   "execution_count": 22,
   "id": "ce338cde",
   "metadata": {},
   "outputs": [
    {
     "data": {
      "text/plain": [
       "'kumar'"
      ]
     },
     "execution_count": 22,
     "metadata": {},
     "output_type": "execute_result"
    }
   ],
   "source": [
    "a[:8]"
   ]
  },
  {
   "cell_type": "code",
   "execution_count": 30,
   "id": "6d7ecc63",
   "metadata": {},
   "outputs": [
    {
     "data": {
      "text/plain": [
       "'ram'"
      ]
     },
     "execution_count": 30,
     "metadata": {},
     "output_type": "execute_result"
    }
   ],
   "source": [
    "a[-1:-4:-1]"
   ]
  },
  {
   "cell_type": "code",
   "execution_count": 27,
   "id": "571fb061",
   "metadata": {},
   "outputs": [
    {
     "data": {
      "text/plain": [
       "'a'"
      ]
     },
     "execution_count": 27,
     "metadata": {},
     "output_type": "execute_result"
    }
   ],
   "source": [
    "a[-2:-1]"
   ]
  },
  {
   "cell_type": "code",
   "execution_count": 31,
   "id": "7ce047ce",
   "metadata": {},
   "outputs": [
    {
     "data": {
      "text/plain": [
       "'ramuk'"
      ]
     },
     "execution_count": 31,
     "metadata": {},
     "output_type": "execute_result"
    }
   ],
   "source": [
    "a[::-1]"
   ]
  },
  {
   "cell_type": "code",
   "execution_count": 32,
   "id": "287205fd",
   "metadata": {},
   "outputs": [
    {
     "data": {
      "text/plain": [
       "'ramuk'"
      ]
     },
     "execution_count": 32,
     "metadata": {},
     "output_type": "execute_result"
    }
   ],
   "source": [
    "a[-1::-1]"
   ]
  },
  {
   "cell_type": "code",
   "execution_count": 42,
   "id": "d0be5db3",
   "metadata": {},
   "outputs": [],
   "source": [
    "a= \"i am working with ineuron\""
   ]
  },
  {
   "cell_type": "code",
   "execution_count": 40,
   "id": "275b953f",
   "metadata": {},
   "outputs": [
    {
     "data": {
      "text/plain": [
       "'eni htiw gnikro'"
      ]
     },
     "execution_count": 40,
     "metadata": {},
     "output_type": "execute_result"
    }
   ],
   "source": [
    "a[-5:5:-1]"
   ]
  },
  {
   "cell_type": "code",
   "execution_count": 43,
   "id": "7222dcae",
   "metadata": {},
   "outputs": [
    {
     "data": {
      "text/plain": [
       "'norueni htiw gnikrow ma i'"
      ]
     },
     "execution_count": 43,
     "metadata": {},
     "output_type": "execute_result"
    }
   ],
   "source": [
    "a[::-1]"
   ]
  },
  {
   "cell_type": "code",
   "execution_count": 44,
   "id": "b771a6ed",
   "metadata": {},
   "outputs": [
    {
     "data": {
      "text/plain": [
       "'orueni h'"
      ]
     },
     "execution_count": 44,
     "metadata": {},
     "output_type": "execute_result"
    }
   ],
   "source": [
    "a[-2:-10:-1]"
   ]
  },
  {
   "cell_type": "code",
   "execution_count": 45,
   "id": "7e12717b",
   "metadata": {},
   "outputs": [
    {
     "data": {
      "text/plain": [
       "'imoi tiun'"
      ]
     },
     "execution_count": 45,
     "metadata": {},
     "output_type": "execute_result"
    }
   ],
   "source": [
    "a[0:100:3]"
   ]
  },
  {
   "cell_type": "code",
   "execution_count": 46,
   "id": "10f1a566",
   "metadata": {},
   "outputs": [
    {
     "data": {
      "text/plain": [
       "'sudhsudhsudh'"
      ]
     },
     "execution_count": 46,
     "metadata": {},
     "output_type": "execute_result"
    }
   ],
   "source": [
    "\"sudh\"*3"
   ]
  },
  {
   "cell_type": "code",
   "execution_count": 47,
   "id": "711d933d",
   "metadata": {},
   "outputs": [
    {
     "data": {
      "text/plain": [
       "'sudhsudh'"
      ]
     },
     "execution_count": 47,
     "metadata": {},
     "output_type": "execute_result"
    }
   ],
   "source": [
    "\"sudh\"+ \"sudh\""
   ]
  },
  {
   "cell_type": "code",
   "execution_count": 48,
   "id": "1b7b55f6",
   "metadata": {},
   "outputs": [
    {
     "data": {
      "text/plain": [
       "'i am working with ineuron'"
      ]
     },
     "execution_count": 48,
     "metadata": {},
     "output_type": "execute_result"
    }
   ],
   "source": [
    "a"
   ]
  },
  {
   "cell_type": "code",
   "execution_count": 50,
   "id": "2b1447e4",
   "metadata": {},
   "outputs": [
    {
     "data": {
      "text/plain": [
       "'i am working with ineuron'"
      ]
     },
     "execution_count": 50,
     "metadata": {},
     "output_type": "execute_result"
    }
   ],
   "source": [
    "str(a)"
   ]
  },
  {
   "cell_type": "code",
   "execution_count": 51,
   "id": "2ea58db4",
   "metadata": {},
   "outputs": [
    {
     "data": {
      "text/plain": [
       "<function str.count>"
      ]
     },
     "execution_count": 51,
     "metadata": {},
     "output_type": "execute_result"
    }
   ],
   "source": [
    "a.count"
   ]
  },
  {
   "cell_type": "code",
   "execution_count": 52,
   "id": "54987e4d",
   "metadata": {},
   "outputs": [
    {
     "data": {
      "text/plain": [
       "2"
      ]
     },
     "execution_count": 52,
     "metadata": {},
     "output_type": "execute_result"
    }
   ],
   "source": [
    "a.find(\"a\")"
   ]
  },
  {
   "cell_type": "code",
   "execution_count": 53,
   "id": "a602116f",
   "metadata": {},
   "outputs": [
    {
     "data": {
      "text/plain": [
       "0"
      ]
     },
     "execution_count": 53,
     "metadata": {},
     "output_type": "execute_result"
    }
   ],
   "source": [
    "a.find(\"i\")"
   ]
  },
  {
   "cell_type": "code",
   "execution_count": 54,
   "id": "8a590a56",
   "metadata": {},
   "outputs": [
    {
     "data": {
      "text/plain": [
       "['i', 'am', 'working', 'with', 'ineuron']"
      ]
     },
     "execution_count": 54,
     "metadata": {},
     "output_type": "execute_result"
    }
   ],
   "source": [
    "a.split()"
   ]
  },
  {
   "cell_type": "code",
   "execution_count": 55,
   "id": "a43c6697",
   "metadata": {},
   "outputs": [
    {
     "data": {
      "text/plain": [
       "['i am ', 'orking ', 'ith ineuron']"
      ]
     },
     "execution_count": 55,
     "metadata": {},
     "output_type": "execute_result"
    }
   ],
   "source": [
    "a.split(\"w\")"
   ]
  },
  {
   "cell_type": "code",
   "execution_count": 57,
   "id": "71b98f55",
   "metadata": {},
   "outputs": [],
   "source": [
    "s= \"sUdh\""
   ]
  },
  {
   "cell_type": "code",
   "execution_count": 58,
   "id": "573a6f2e",
   "metadata": {},
   "outputs": [
    {
     "data": {
      "text/plain": [
       "'SuDH'"
      ]
     },
     "execution_count": 58,
     "metadata": {},
     "output_type": "execute_result"
    }
   ],
   "source": [
    "s.swapcase()"
   ]
  },
  {
   "cell_type": "code",
   "execution_count": 59,
   "id": "f1a8ec23",
   "metadata": {},
   "outputs": [
    {
     "data": {
      "text/plain": [
       "'Sudh'"
      ]
     },
     "execution_count": 59,
     "metadata": {},
     "output_type": "execute_result"
    }
   ],
   "source": [
    "s.title()"
   ]
  },
  {
   "cell_type": "code",
   "execution_count": 60,
   "id": "311528f3",
   "metadata": {},
   "outputs": [
    {
     "data": {
      "text/plain": [
       "'Sudh'"
      ]
     },
     "execution_count": 60,
     "metadata": {},
     "output_type": "execute_result"
    }
   ],
   "source": [
    "s.capitalize()"
   ]
  },
  {
   "cell_type": "code",
   "execution_count": 61,
   "id": "f10d5a95",
   "metadata": {},
   "outputs": [],
   "source": [
    "b= \"sudh\"\n",
    "c= \"ineuron\""
   ]
  },
  {
   "cell_type": "code",
   "execution_count": 62,
   "id": "1d456eb6",
   "metadata": {},
   "outputs": [
    {
     "data": {
      "text/plain": [
       "'isudhnsudhesudhusudhrsudhosudhn'"
      ]
     },
     "execution_count": 62,
     "metadata": {},
     "output_type": "execute_result"
    }
   ],
   "source": [
    "b.join(c)"
   ]
  },
  {
   "cell_type": "code",
   "execution_count": 63,
   "id": "10952e8e",
   "metadata": {},
   "outputs": [
    {
     "data": {
      "text/plain": [
       "'s u d h'"
      ]
     },
     "execution_count": 63,
     "metadata": {},
     "output_type": "execute_result"
    }
   ],
   "source": [
    "\" \".join(\"sudh\")"
   ]
  },
  {
   "cell_type": "code",
   "execution_count": 66,
   "id": "8ecc3ea2",
   "metadata": {},
   "outputs": [
    {
     "name": "stdout",
     "output_type": "stream",
     "text": [
      "h\n",
      "d\n",
      "u\n",
      "s\n"
     ]
    }
   ],
   "source": [
    "for i in reversed(\"sudh\"):\n",
    "    print(i)"
   ]
  },
  {
   "cell_type": "code",
   "execution_count": 68,
   "id": "38bbeaa1",
   "metadata": {},
   "outputs": [
    {
     "data": {
      "text/plain": [
       "'I AM WORKING WITH INEURON'"
      ]
     },
     "execution_count": 68,
     "metadata": {},
     "output_type": "execute_result"
    }
   ],
   "source": [
    "a.upper()"
   ]
  },
  {
   "cell_type": "code",
   "execution_count": 70,
   "id": "522dcbf3",
   "metadata": {},
   "outputs": [
    {
     "data": {
      "text/plain": [
       "'hdus'"
      ]
     },
     "execution_count": 70,
     "metadata": {},
     "output_type": "execute_result"
    }
   ],
   "source": [
    "s= \"sudh\"\n",
    "s[::-1]"
   ]
  },
  {
   "cell_type": "code",
   "execution_count": 71,
   "id": "ea30b463",
   "metadata": {},
   "outputs": [],
   "source": [
    "s= \"sudh\""
   ]
  },
  {
   "cell_type": "code",
   "execution_count": 72,
   "id": "df7e16ac",
   "metadata": {},
   "outputs": [
    {
     "data": {
      "text/plain": [
       "'sudh'"
      ]
     },
     "execution_count": 72,
     "metadata": {},
     "output_type": "execute_result"
    }
   ],
   "source": [
    "s.lstrip()"
   ]
  },
  {
   "cell_type": "code",
   "execution_count": 73,
   "id": "1cb87130",
   "metadata": {},
   "outputs": [
    {
     "data": {
      "text/plain": [
       "'sudh'"
      ]
     },
     "execution_count": 73,
     "metadata": {},
     "output_type": "execute_result"
    }
   ],
   "source": [
    "s.strip()"
   ]
  },
  {
   "cell_type": "code",
   "execution_count": 74,
   "id": "b7bc18ed",
   "metadata": {},
   "outputs": [],
   "source": [
    "s=\"sudh\""
   ]
  },
  {
   "cell_type": "code",
   "execution_count": 78,
   "id": "5de0989a",
   "metadata": {},
   "outputs": [
    {
     "data": {
      "text/plain": [
       "'sudh'"
      ]
     },
     "execution_count": 78,
     "metadata": {},
     "output_type": "execute_result"
    }
   ],
   "source": [
    "s.replace(\"t\", \"xyz\")"
   ]
  },
  {
   "cell_type": "code",
   "execution_count": 81,
   "id": "96b50854",
   "metadata": {},
   "outputs": [
    {
     "data": {
      "text/plain": [
       "'sudh    kumar'"
      ]
     },
     "execution_count": 81,
     "metadata": {},
     "output_type": "execute_result"
    }
   ],
   "source": [
    "\"sudh\\tkumar\".expandtabs()"
   ]
  },
  {
   "cell_type": "code",
   "execution_count": 82,
   "id": "b73c1223",
   "metadata": {},
   "outputs": [
    {
     "data": {
      "text/plain": [
       "'##################sudh##################'"
      ]
     },
     "execution_count": 82,
     "metadata": {},
     "output_type": "execute_result"
    }
   ],
   "source": [
    "s.center(40, '#')"
   ]
  },
  {
   "cell_type": "code",
   "execution_count": 85,
   "id": "034f4149",
   "metadata": {},
   "outputs": [
    {
     "data": {
      "text/plain": [
       "'indians are the best in the world'"
      ]
     },
     "execution_count": 85,
     "metadata": {},
     "output_type": "execute_result"
    }
   ],
   "source": [
    "b='   indians are the best in the world'\n",
    "b.strip()"
   ]
  },
  {
   "cell_type": "code",
   "execution_count": 86,
   "id": "5b62f01f",
   "metadata": {},
   "outputs": [
    {
     "data": {
      "text/plain": [
       "'   indians are the best in the world'"
      ]
     },
     "execution_count": 86,
     "metadata": {},
     "output_type": "execute_result"
    }
   ],
   "source": [
    "b='   indians are the best in the world'\n",
    "b.strip('are')"
   ]
  },
  {
   "cell_type": "code",
   "execution_count": 87,
   "id": "5eb53b3c",
   "metadata": {},
   "outputs": [
    {
     "data": {
      "text/plain": [
       "False"
      ]
     },
     "execution_count": 87,
     "metadata": {},
     "output_type": "execute_result"
    }
   ],
   "source": [
    "s.isupper()"
   ]
  },
  {
   "cell_type": "code",
   "execution_count": 88,
   "id": "44bcd4e5",
   "metadata": {},
   "outputs": [
    {
     "data": {
      "text/plain": [
       "True"
      ]
     },
     "execution_count": 88,
     "metadata": {},
     "output_type": "execute_result"
    }
   ],
   "source": [
    "s.islower()"
   ]
  },
  {
   "cell_type": "code",
   "execution_count": 89,
   "id": "6096030d",
   "metadata": {},
   "outputs": [],
   "source": [
    "s= \"        sudh\""
   ]
  },
  {
   "cell_type": "code",
   "execution_count": 90,
   "id": "d4bc35d2",
   "metadata": {},
   "outputs": [
    {
     "data": {
      "text/plain": [
       "False"
      ]
     },
     "execution_count": 90,
     "metadata": {},
     "output_type": "execute_result"
    }
   ],
   "source": [
    "s.isspace()"
   ]
  },
  {
   "cell_type": "code",
   "execution_count": 91,
   "id": "9a0e5ac1",
   "metadata": {},
   "outputs": [],
   "source": [
    "s= \"sudh\""
   ]
  },
  {
   "cell_type": "code",
   "execution_count": 92,
   "id": "56936dbe",
   "metadata": {},
   "outputs": [
    {
     "data": {
      "text/plain": [
       "False"
      ]
     },
     "execution_count": 92,
     "metadata": {},
     "output_type": "execute_result"
    }
   ],
   "source": [
    "s.isdigit()"
   ]
  },
  {
   "cell_type": "code",
   "execution_count": 93,
   "id": "5570d45d",
   "metadata": {},
   "outputs": [],
   "source": [
    "s= \"sudh\""
   ]
  },
  {
   "cell_type": "code",
   "execution_count": 95,
   "id": "044c2488",
   "metadata": {},
   "outputs": [
    {
     "data": {
      "text/plain": [
       "False"
      ]
     },
     "execution_count": 95,
     "metadata": {},
     "output_type": "execute_result"
    }
   ],
   "source": [
    "s.endswith('t')"
   ]
  },
  {
   "cell_type": "code",
   "execution_count": 96,
   "id": "2d1669fa",
   "metadata": {},
   "outputs": [
    {
     "data": {
      "text/plain": [
       "b'sudh'"
      ]
     },
     "execution_count": 96,
     "metadata": {},
     "output_type": "execute_result"
    }
   ],
   "source": [
    "s.encode()"
   ]
  },
  {
   "cell_type": "code",
   "execution_count": 99,
   "id": "c23e9fe1",
   "metadata": {},
   "outputs": [],
   "source": [
    "l=['ganpati, bappa, moreya, mangal, murti, moreya']"
   ]
  },
  {
   "cell_type": "code",
   "execution_count": 100,
   "id": "596d0997",
   "metadata": {},
   "outputs": [
    {
     "data": {
      "text/plain": [
       "list"
      ]
     },
     "execution_count": 100,
     "metadata": {},
     "output_type": "execute_result"
    }
   ],
   "source": [
    "type(l)"
   ]
  },
  {
   "cell_type": "code",
   "execution_count": 101,
   "id": "44d532b5",
   "metadata": {},
   "outputs": [
    {
     "data": {
      "text/plain": [
       "'ganpati, bappa, moreya, mangal, murti, moreya'"
      ]
     },
     "execution_count": 101,
     "metadata": {},
     "output_type": "execute_result"
    }
   ],
   "source": [
    "l[0]"
   ]
  },
  {
   "cell_type": "code",
   "execution_count": 102,
   "id": "db44998f",
   "metadata": {},
   "outputs": [
    {
     "data": {
      "text/plain": [
       "['ganpati, bappa, moreya, mangal, murti, moreya']"
      ]
     },
     "execution_count": 102,
     "metadata": {},
     "output_type": "execute_result"
    }
   ],
   "source": [
    "l"
   ]
  },
  {
   "cell_type": "code",
   "execution_count": 108,
   "id": "b83a033d",
   "metadata": {},
   "outputs": [
    {
     "data": {
      "text/plain": [
       "[]"
      ]
     },
     "execution_count": 108,
     "metadata": {},
     "output_type": "execute_result"
    }
   ],
   "source": [
    "l[-1:-5]"
   ]
  },
  {
   "cell_type": "code",
   "execution_count": 110,
   "id": "80c68759",
   "metadata": {},
   "outputs": [
    {
     "data": {
      "text/plain": [
       "'a'"
      ]
     },
     "execution_count": 110,
     "metadata": {},
     "output_type": "execute_result"
    }
   ],
   "source": [
    "l[0][1]"
   ]
  },
  {
   "cell_type": "code",
   "execution_count": 119,
   "id": "829fa934",
   "metadata": {},
   "outputs": [],
   "source": [
    "l1=[\"anaconda\"]\n",
    "l2=[\"jupyter\"]\n"
   ]
  },
  {
   "cell_type": "code",
   "execution_count": 120,
   "id": "e2a0b608",
   "metadata": {},
   "outputs": [
    {
     "data": {
      "text/plain": [
       "['anaconda', 'jupyter']"
      ]
     },
     "execution_count": 120,
     "metadata": {},
     "output_type": "execute_result"
    }
   ],
   "source": [
    "l1+l2"
   ]
  },
  {
   "cell_type": "code",
   "execution_count": 121,
   "id": "b41b9380",
   "metadata": {},
   "outputs": [],
   "source": [
    "s= \"sudh\""
   ]
  },
  {
   "cell_type": "code",
   "execution_count": 125,
   "id": "742ac153",
   "metadata": {},
   "outputs": [
    {
     "data": {
      "text/plain": [
       "'s'"
      ]
     },
     "execution_count": 125,
     "metadata": {},
     "output_type": "execute_result"
    }
   ],
   "source": [
    "s[0]"
   ]
  },
  {
   "cell_type": "code",
   "execution_count": 126,
   "id": "1e64ce48",
   "metadata": {},
   "outputs": [
    {
     "data": {
      "text/plain": [
       "1"
      ]
     },
     "execution_count": 126,
     "metadata": {},
     "output_type": "execute_result"
    }
   ],
   "source": [
    "len(l1)"
   ]
  },
  {
   "cell_type": "code",
   "execution_count": 128,
   "id": "3625f440",
   "metadata": {},
   "outputs": [
    {
     "data": {
      "text/plain": [
       "True"
      ]
     },
     "execution_count": 128,
     "metadata": {},
     "output_type": "execute_result"
    }
   ],
   "source": [
    "'jupyter' in l2"
   ]
  },
  {
   "cell_type": "code",
   "execution_count": 129,
   "id": "0edc5ed8",
   "metadata": {},
   "outputs": [],
   "source": [
    "l2.append('jupyter')"
   ]
  },
  {
   "cell_type": "code",
   "execution_count": 134,
   "id": "1019d321",
   "metadata": {},
   "outputs": [
    {
     "data": {
      "text/plain": [
       "'jupyter'"
      ]
     },
     "execution_count": 134,
     "metadata": {},
     "output_type": "execute_result"
    }
   ],
   "source": [
    "l2.pop()"
   ]
  },
  {
   "cell_type": "code",
   "execution_count": 135,
   "id": "a73de18e",
   "metadata": {},
   "outputs": [],
   "source": [
    "l2.append(\"asli\")"
   ]
  },
  {
   "cell_type": "code",
   "execution_count": 136,
   "id": "dd294342",
   "metadata": {},
   "outputs": [
    {
     "data": {
      "text/plain": [
       "['asli']"
      ]
     },
     "execution_count": 136,
     "metadata": {},
     "output_type": "execute_result"
    }
   ],
   "source": [
    "l2"
   ]
  },
  {
   "cell_type": "code",
   "execution_count": null,
   "id": "61d0cf38",
   "metadata": {},
   "outputs": [],
   "source": [
    "a = 10"
   ]
  },
  {
   "cell_type": "code",
   "execution_count": null,
   "id": "88e0cbc3",
   "metadata": {},
   "outputs": [],
   "source": [
    "if a < 15 "
   ]
  },
  {
   "cell_type": "code",
   "execution_count": 6,
   "id": "1b72207a",
   "metadata": {},
   "outputs": [
    {
     "name": "stdout",
     "output_type": "stream",
     "text": [
      "valid\n"
     ]
    }
   ],
   "source": [
    "a=9 \n",
    "if a==9:\n",
    "    print(\"valid\")"
   ]
  },
  {
   "cell_type": "code",
   "execution_count": 15,
   "id": "4d8091c3",
   "metadata": {},
   "outputs": [
    {
     "name": "stdout",
     "output_type": "stream",
     "text": [
      "1000\n"
     ]
    }
   ],
   "source": [
    "Total_price= int(input())\n",
    "if Total_price > 20000:\n",
    "    discount= Total_price * .20\n",
    "    print(\"Discount will be\", discount)\n",
    "elif Total_price <= 7000:\n",
    "        discount= Total_price * .05\n",
    "else:\n",
    "    print(\"wont be able to give any discount\")"
   ]
  },
  {
   "cell_type": "code",
   "execution_count": 16,
   "id": "666c6c77",
   "metadata": {},
   "outputs": [
    {
     "ename": "SyntaxError",
     "evalue": "invalid syntax (<ipython-input-16-0625af6d9126>, line 2)",
     "output_type": "error",
     "traceback": [
      "\u001b[1;36m  File \u001b[1;32m\"<ipython-input-16-0625af6d9126>\"\u001b[1;36m, line \u001b[1;32m2\u001b[0m\n\u001b[1;33m    if coup == \"DIKSHA5\"\u001b[0m\n\u001b[1;37m                        ^\u001b[0m\n\u001b[1;31mSyntaxError\u001b[0m\u001b[1;31m:\u001b[0m invalid syntax\n"
     ]
    }
   ],
   "source": [
    "coup = \"DIKSHA5\"\n",
    "if coup == \"DIKSHA5\"\n",
    "    print(\"get discount of 5 %\")\n",
    "    paid_amount = 7000 - 7000* .05\n",
    "    print(\"get oneneuron with this amount\", paid_amount )\n",
    "else:\n",
    "    print(\"use a valid coupon\")"
   ]
  },
  {
   "cell_type": "code",
   "execution_count": 33,
   "id": "4419a12a",
   "metadata": {},
   "outputs": [
    {
     "ename": "SyntaxError",
     "evalue": "invalid syntax (<ipython-input-33-442d3a6ee48e>, line 13)",
     "output_type": "error",
     "traceback": [
      "\u001b[1;36m  File \u001b[1;32m\"<ipython-input-33-442d3a6ee48e>\"\u001b[1;36m, line \u001b[1;32m13\u001b[0m\n\u001b[1;33m    elif s ==\"oneneuronservice\" :\u001b[0m\n\u001b[1;37m    ^\u001b[0m\n\u001b[1;31mSyntaxError\u001b[0m\u001b[1;31m:\u001b[0m invalid syntax\n"
     ]
    }
   ],
   "source": [
    "s=input()\n",
    "course =  input(\"enter course name\")\n",
    "service = input(\"enter service name\")\n",
    "if s == \"oneneuron\":\n",
    "    if course == \"DSA\":\n",
    "        print(\"available\")\n",
    "elif course == \"Blockchain\":\n",
    "        print(\"not available\")\n",
    "elif course == \"FDA\":    \n",
    "        print(\"available\")\n",
    "else:\n",
    "       print(\"not available\")\n",
    "elif s ==\"oneneuronservice\" :\n",
    "    if service ==\"oneneuronrequest\":\n",
    "        print(\"demand for courses\")\n",
    "else:\n",
    "       print(\"provide feedback\")\n",
    "else:\n",
    "       print(\"connect to our team\")"
   ]
  },
  {
   "cell_type": "code",
   "execution_count": 34,
   "id": "aef650bc",
   "metadata": {},
   "outputs": [
    {
     "name": "stdout",
     "output_type": "stream",
     "text": [
      "1\n",
      "2\n",
      "3\n",
      "4\n",
      "5\n",
      "6\n",
      "7\n"
     ]
    }
   ],
   "source": [
    "l=[1,2,3,4,5,6,7]\n",
    "for i in l:\n",
    "    print(i)\n",
    "    "
   ]
  },
  {
   "cell_type": "code",
   "execution_count": 35,
   "id": "86e0299b",
   "metadata": {},
   "outputs": [
    {
     "name": "stdout",
     "output_type": "stream",
     "text": [
      "s\n",
      "u\n",
      "d\n",
      "h\n"
     ]
    }
   ],
   "source": [
    "for i in \"sudh\":\n",
    "    print(i)"
   ]
  },
  {
   "cell_type": "code",
   "execution_count": 37,
   "id": "cf214e0c",
   "metadata": {},
   "outputs": [],
   "source": [
    "t= (1,2,3,4,5,6,6)"
   ]
  },
  {
   "cell_type": "code",
   "execution_count": 38,
   "id": "9235f8d7",
   "metadata": {},
   "outputs": [
    {
     "name": "stdout",
     "output_type": "stream",
     "text": [
      "1\n",
      "2\n",
      "3\n",
      "4\n",
      "5\n",
      "6\n",
      "6\n"
     ]
    }
   ],
   "source": [
    "for i in t:\n",
    "    print(i)"
   ]
  },
  {
   "cell_type": "code",
   "execution_count": 44,
   "id": "028d8086",
   "metadata": {},
   "outputs": [],
   "source": [
    "l=[1,4,5.6,6,4+7j,\"sudh\"]"
   ]
  },
  {
   "cell_type": "code",
   "execution_count": 46,
   "id": "17f5a615",
   "metadata": {},
   "outputs": [
    {
     "name": "stdout",
     "output_type": "stream",
     "text": [
      "<class 'int'> type of i\n",
      "<class 'int'> type of i\n",
      "<class 'float'> type of i\n",
      "<class 'int'> type of i\n",
      "<class 'complex'> type of i\n",
      "<class 'str'> type of i\n"
     ]
    }
   ],
   "source": [
    "for i in l:\n",
    "    print(type(i), \"type of i\")"
   ]
  },
  {
   "cell_type": "code",
   "execution_count": 51,
   "id": "4a4087a6",
   "metadata": {},
   "outputs": [
    {
     "name": "stdout",
     "output_type": "stream",
     "text": [
      "3\n",
      "6\n",
      "7.6\n"
     ]
    }
   ],
   "source": [
    "l=[1,4,5.6]\n",
    "l1=[]\n",
    "for i in l:\n",
    "    print(i+2)\n",
    "    l1.append(i+2)"
   ]
  },
  {
   "cell_type": "code",
   "execution_count": 52,
   "id": "3fbe8215",
   "metadata": {},
   "outputs": [
    {
     "data": {
      "text/plain": [
       "[3, 6, 7.6]"
      ]
     },
     "execution_count": 52,
     "metadata": {},
     "output_type": "execute_result"
    }
   ],
   "source": [
    "l1"
   ]
  },
  {
   "cell_type": "code",
   "execution_count": 58,
   "id": "7884f426",
   "metadata": {},
   "outputs": [],
   "source": [
    "l=[2,45,12,\"sudh\",6+7j,[59,55,67]]"
   ]
  },
  {
   "cell_type": "code",
   "execution_count": 60,
   "id": "29be1ee0",
   "metadata": {
    "scrolled": true
   },
   "outputs": [
    {
     "name": "stdout",
     "output_type": "stream",
     "text": [
      "2\n",
      "45\n",
      "12\n",
      "59\n",
      "55\n",
      "67\n"
     ]
    }
   ],
   "source": [
    "for i in l:\n",
    "    if type(i)== int:\n",
    "        print(i)\n",
    "    elif type(i)== list:\n",
    "        for j in i:\n",
    "            if type(j)== int:\n",
    "                 print(j)\n",
    "                    "
   ]
  },
  {
   "cell_type": "code",
   "execution_count": 97,
   "id": "1bf1c920",
   "metadata": {},
   "outputs": [],
   "source": [
    "l=[2,45,78,\"sudh\", \"kumar\",6+7j,[56,67,78,\"dsfdsf\"]]"
   ]
  },
  {
   "cell_type": "code",
   "execution_count": 85,
   "id": "e334f542",
   "metadata": {},
   "outputs": [
    {
     "data": {
      "text/plain": [
       "range(0, 4)"
      ]
     },
     "execution_count": 85,
     "metadata": {},
     "output_type": "execute_result"
    }
   ],
   "source": [
    "range(4)"
   ]
  },
  {
   "cell_type": "code",
   "execution_count": 86,
   "id": "1bbb6dc4",
   "metadata": {},
   "outputs": [
    {
     "data": {
      "text/plain": [
       "6"
      ]
     },
     "execution_count": 86,
     "metadata": {},
     "output_type": "execute_result"
    }
   ],
   "source": [
    "len(l)"
   ]
  },
  {
   "cell_type": "code",
   "execution_count": 88,
   "id": "71251b57",
   "metadata": {},
   "outputs": [
    {
     "name": "stdout",
     "output_type": "stream",
     "text": [
      "index 0 for an element 2\n",
      "index 1 for an element 45\n",
      "index 2 for an element 78\n",
      "index 3 for an element sudh\n",
      "index 4 for an element (6+7j)\n",
      "index 5 for an element [56, 67, 78, 'dsfdsf']\n"
     ]
    }
   ],
   "source": [
    "for i in range(len(l)):\n",
    "    print(\"index\",i, \"for an element\", l[i])"
   ]
  },
  {
   "cell_type": "code",
   "execution_count": 89,
   "id": "fff257a6",
   "metadata": {},
   "outputs": [
    {
     "data": {
      "text/plain": [
       "[2, 45, 78, 'sudh', (6+7j), [56, 67, 78, 'dsfdsf']]"
      ]
     },
     "execution_count": 89,
     "metadata": {},
     "output_type": "execute_result"
    }
   ],
   "source": [
    "l"
   ]
  },
  {
   "cell_type": "code",
   "execution_count": 93,
   "id": "da536192",
   "metadata": {},
   "outputs": [
    {
     "name": "stdout",
     "output_type": "stream",
     "text": [
      "(0, 2)\n",
      "(1, 45)\n",
      "(2, 78)\n",
      "(3, 'sudh')\n",
      "(4, (6+7j))\n",
      "(5, [56, 67, 78, 'dsfdsf'])\n"
     ]
    }
   ],
   "source": [
    "for i in enumerate(l):\n",
    "    print(i)"
   ]
  },
  {
   "cell_type": "code",
   "execution_count": 98,
   "id": "e0fb529e",
   "metadata": {},
   "outputs": [
    {
     "data": {
      "text/plain": [
       "[2, 45, 78, 'sudh', 'kumar', (6+7j), [56, 67, 78, 'dsfdsf']]"
      ]
     },
     "execution_count": 98,
     "metadata": {},
     "output_type": "execute_result"
    }
   ],
   "source": [
    "l"
   ]
  },
  {
   "cell_type": "code",
   "execution_count": 99,
   "id": "e24db69b",
   "metadata": {},
   "outputs": [
    {
     "name": "stdout",
     "output_type": "stream",
     "text": [
      "['s', 'u', 'd', 'h']\n",
      "['k', 'u', 'm', 'a', 'r']\n"
     ]
    }
   ],
   "source": [
    "for i in l:\n",
    "    if type(i)==str:\n",
    "        l1=[]\n",
    "        for j in i:\n",
    "            l1.append(j)\n",
    "        print(l1)"
   ]
  },
  {
   "cell_type": "code",
   "execution_count": 100,
   "id": "a3b53a9a",
   "metadata": {},
   "outputs": [
    {
     "data": {
      "text/plain": [
       "[2, 45, 78, 'sudh', 'kumar', (6+7j), [56, 67, 78, 'dsfdsf']]"
      ]
     },
     "execution_count": 100,
     "metadata": {},
     "output_type": "execute_result"
    }
   ],
   "source": [
    "l"
   ]
  },
  {
   "cell_type": "code",
   "execution_count": 106,
   "id": "d9ebc5e6",
   "metadata": {},
   "outputs": [],
   "source": [
    "l2=[]\n",
    "for i in l:\n",
    "    if type(i) == int:\n",
    "        l2.append(i**2)"
   ]
  },
  {
   "cell_type": "code",
   "execution_count": 107,
   "id": "f79843c2",
   "metadata": {},
   "outputs": [
    {
     "data": {
      "text/plain": [
       "[4, 2025, 6084]"
      ]
     },
     "execution_count": 107,
     "metadata": {},
     "output_type": "execute_result"
    }
   ],
   "source": [
    "l2"
   ]
  },
  {
   "cell_type": "code",
   "execution_count": 108,
   "id": "a81f8a45",
   "metadata": {},
   "outputs": [],
   "source": [
    "t=(1,2,3,4,5)"
   ]
  },
  {
   "cell_type": "code",
   "execution_count": 110,
   "id": "05a9538c",
   "metadata": {},
   "outputs": [
    {
     "data": {
      "text/plain": [
       "tuple"
      ]
     },
     "execution_count": 110,
     "metadata": {},
     "output_type": "execute_result"
    }
   ],
   "source": [
    "type(t)"
   ]
  },
  {
   "cell_type": "code",
   "execution_count": 145,
   "id": "d56fe989",
   "metadata": {},
   "outputs": [],
   "source": [
    "l=(\"sudh\", 846, 6+78j, 447.87, True)"
   ]
  },
  {
   "cell_type": "code",
   "execution_count": 144,
   "id": "97024360",
   "metadata": {},
   "outputs": [],
   "source": [
    "l=(\"sudh\", 846, (6+78j), 447.87, True)"
   ]
  },
  {
   "cell_type": "code",
   "execution_count": 116,
   "id": "c8e3562d",
   "metadata": {},
   "outputs": [
    {
     "data": {
      "text/plain": [
       "tuple"
      ]
     },
     "execution_count": 116,
     "metadata": {},
     "output_type": "execute_result"
    }
   ],
   "source": [
    "type(t)"
   ]
  },
  {
   "cell_type": "code",
   "execution_count": 118,
   "id": "364b7121",
   "metadata": {},
   "outputs": [
    {
     "data": {
      "text/plain": [
       "list"
      ]
     },
     "execution_count": 118,
     "metadata": {},
     "output_type": "execute_result"
    }
   ],
   "source": [
    "type(l)"
   ]
  },
  {
   "cell_type": "code",
   "execution_count": 119,
   "id": "db88a923",
   "metadata": {},
   "outputs": [],
   "source": [
    "t2=()"
   ]
  },
  {
   "cell_type": "code",
   "execution_count": 123,
   "id": "1be1f1d4",
   "metadata": {},
   "outputs": [
    {
     "data": {
      "text/plain": [
       "tuple"
      ]
     },
     "execution_count": 123,
     "metadata": {},
     "output_type": "execute_result"
    }
   ],
   "source": [
    "type(t2)"
   ]
  },
  {
   "cell_type": "code",
   "execution_count": 142,
   "id": "8fc14779",
   "metadata": {},
   "outputs": [
    {
     "data": {
      "text/plain": [
       "('sudh', 846, (6+78j), 447.87, True)"
      ]
     },
     "execution_count": 142,
     "metadata": {},
     "output_type": "execute_result"
    }
   ],
   "source": [
    "(\"sudh\", 846, 6+78j, 447.87, True)"
   ]
  },
  {
   "cell_type": "code",
   "execution_count": 134,
   "id": "a3535175",
   "metadata": {
    "scrolled": true
   },
   "outputs": [
    {
     "data": {
      "text/plain": [
       "[2, 45, 78, 'sudh', 'kumar', (6+7j), [56, 67, 78, 'dsfdsf']]"
      ]
     },
     "execution_count": 134,
     "metadata": {},
     "output_type": "execute_result"
    }
   ],
   "source": [
    "l"
   ]
  },
  {
   "cell_type": "code",
   "execution_count": 140,
   "id": "0a2da2c8",
   "metadata": {},
   "outputs": [],
   "source": [
    "t1 =(\"sudh\", 846, 6+78j, 447.87, True)"
   ]
  },
  {
   "cell_type": "code",
   "execution_count": 143,
   "id": "eb614be8",
   "metadata": {},
   "outputs": [
    {
     "data": {
      "text/plain": [
       "('sudh', 846)"
      ]
     },
     "execution_count": 143,
     "metadata": {},
     "output_type": "execute_result"
    }
   ],
   "source": [
    "t1[0:2]"
   ]
  },
  {
   "cell_type": "code",
   "execution_count": 146,
   "id": "6dcc541a",
   "metadata": {},
   "outputs": [
    {
     "data": {
      "text/plain": [
       "(True, 447.87, (6+78j), 846, 'sudh')"
      ]
     },
     "execution_count": 146,
     "metadata": {},
     "output_type": "execute_result"
    }
   ],
   "source": [
    "t1[::-1]"
   ]
  },
  {
   "cell_type": "code",
   "execution_count": 147,
   "id": "1fa5433c",
   "metadata": {},
   "outputs": [
    {
     "data": {
      "text/plain": [
       "True"
      ]
     },
     "execution_count": 147,
     "metadata": {},
     "output_type": "execute_result"
    }
   ],
   "source": [
    "t1[-1]"
   ]
  },
  {
   "cell_type": "code",
   "execution_count": 148,
   "id": "dc9f74f6",
   "metadata": {},
   "outputs": [
    {
     "data": {
      "text/plain": [
       "('sudh', 846, (6+78j), 447.87, True)"
      ]
     },
     "execution_count": 148,
     "metadata": {},
     "output_type": "execute_result"
    }
   ],
   "source": [
    "t1"
   ]
  },
  {
   "cell_type": "code",
   "execution_count": 149,
   "id": "993cf6db",
   "metadata": {},
   "outputs": [
    {
     "data": {
      "text/plain": [
       "('sudh', (6+78j), True)"
      ]
     },
     "execution_count": 149,
     "metadata": {},
     "output_type": "execute_result"
    }
   ],
   "source": [
    "t1[0::2]"
   ]
  },
  {
   "cell_type": "code",
   "execution_count": 150,
   "id": "5e59ac4e",
   "metadata": {},
   "outputs": [
    {
     "data": {
      "text/plain": [
       "('sudh', 846, (6+78j), 447.87, True)"
      ]
     },
     "execution_count": 150,
     "metadata": {},
     "output_type": "execute_result"
    }
   ],
   "source": [
    "l"
   ]
  },
  {
   "cell_type": "code",
   "execution_count": 151,
   "id": "33ea777d",
   "metadata": {},
   "outputs": [
    {
     "data": {
      "text/plain": [
       "'sudh'"
      ]
     },
     "execution_count": 151,
     "metadata": {},
     "output_type": "execute_result"
    }
   ],
   "source": [
    "l[0]"
   ]
  },
  {
   "cell_type": "code",
   "execution_count": 152,
   "id": "7b220876",
   "metadata": {},
   "outputs": [
    {
     "data": {
      "text/plain": [
       "('sudh', 846, (6+78j), 447.87, True)"
      ]
     },
     "execution_count": 152,
     "metadata": {},
     "output_type": "execute_result"
    }
   ],
   "source": [
    "l"
   ]
  },
  {
   "cell_type": "code",
   "execution_count": 153,
   "id": "506dd6da",
   "metadata": {},
   "outputs": [
    {
     "data": {
      "text/plain": [
       "('sudh', 846, (6+78j), 447.87, True)"
      ]
     },
     "execution_count": 153,
     "metadata": {},
     "output_type": "execute_result"
    }
   ],
   "source": [
    "t1"
   ]
  },
  {
   "cell_type": "code",
   "execution_count": 154,
   "id": "4b199f7a",
   "metadata": {},
   "outputs": [
    {
     "data": {
      "text/plain": [
       "'sudh'"
      ]
     },
     "execution_count": 154,
     "metadata": {},
     "output_type": "execute_result"
    }
   ],
   "source": [
    "t1[0]"
   ]
  },
  {
   "cell_type": "code",
   "execution_count": 155,
   "id": "80bcff23",
   "metadata": {},
   "outputs": [],
   "source": [
    "t2= (65, 76, \"kumar\", True)"
   ]
  },
  {
   "cell_type": "code",
   "execution_count": 156,
   "id": "0c7c3b99",
   "metadata": {},
   "outputs": [
    {
     "data": {
      "text/plain": [
       "('sudh', 846, (6+78j), 447.87, True, 65, 76, 'kumar', True)"
      ]
     },
     "execution_count": 156,
     "metadata": {},
     "output_type": "execute_result"
    }
   ],
   "source": [
    "t1+t2"
   ]
  },
  {
   "cell_type": "code",
   "execution_count": 157,
   "id": "75db0fec",
   "metadata": {},
   "outputs": [
    {
     "data": {
      "text/plain": [
       "('sudh', 846, (6+78j), 447.87, True, 'sudh', 846, (6+78j), 447.87, True)"
      ]
     },
     "execution_count": 157,
     "metadata": {},
     "output_type": "execute_result"
    }
   ],
   "source": [
    "t1*2"
   ]
  },
  {
   "cell_type": "code",
   "execution_count": 161,
   "id": "12989c11",
   "metadata": {},
   "outputs": [],
   "source": [
    "l= (3,5,3,3,3,3,3,3,3,4,5,5,6,6,3,3,5,6,6,9,8,7)"
   ]
  },
  {
   "cell_type": "code",
   "execution_count": 163,
   "id": "d419f501",
   "metadata": {},
   "outputs": [
    {
     "data": {
      "text/plain": [
       "{3, 4, 5, 6, 7, 8, 9}"
      ]
     },
     "execution_count": 163,
     "metadata": {},
     "output_type": "execute_result"
    }
   ],
   "source": [
    "set(l)"
   ]
  },
  {
   "cell_type": "code",
   "execution_count": 165,
   "id": "5dc93b53",
   "metadata": {},
   "outputs": [],
   "source": [
    "s={}"
   ]
  },
  {
   "cell_type": "code",
   "execution_count": 166,
   "id": "1a724913",
   "metadata": {},
   "outputs": [
    {
     "data": {
      "text/plain": [
       "dict"
      ]
     },
     "execution_count": 166,
     "metadata": {},
     "output_type": "execute_result"
    }
   ],
   "source": [
    "type(s)"
   ]
  },
  {
   "cell_type": "code",
   "execution_count": 169,
   "id": "f29f032d",
   "metadata": {},
   "outputs": [],
   "source": [
    "s1= {5,67,7}"
   ]
  },
  {
   "cell_type": "code",
   "execution_count": 170,
   "id": "dd73bcac",
   "metadata": {},
   "outputs": [
    {
     "data": {
      "text/plain": [
       "set"
      ]
     },
     "execution_count": 170,
     "metadata": {},
     "output_type": "execute_result"
    }
   ],
   "source": [
    "type(s1)"
   ]
  },
  {
   "cell_type": "code",
   "execution_count": 173,
   "id": "c87a8c01",
   "metadata": {},
   "outputs": [],
   "source": [
    "s2 = {4,5,5,7,7,35,5,46,6,76,5,5,4,5,6}"
   ]
  },
  {
   "cell_type": "code",
   "execution_count": 176,
   "id": "a7c8bacb",
   "metadata": {},
   "outputs": [
    {
     "data": {
      "text/plain": [
       "[35, 4, 5, 6, 7, 76, 46]"
      ]
     },
     "execution_count": 176,
     "metadata": {},
     "output_type": "execute_result"
    }
   ],
   "source": [
    "list(s2)"
   ]
  },
  {
   "cell_type": "code",
   "execution_count": 177,
   "id": "61fd4cf0",
   "metadata": {},
   "outputs": [],
   "source": [
    "s2.add(75677827)"
   ]
  },
  {
   "cell_type": "code",
   "execution_count": 178,
   "id": "a8bef4bb",
   "metadata": {},
   "outputs": [
    {
     "data": {
      "text/plain": [
       "{4, 5, 6, 7, 35, 46, 76, 75677827}"
      ]
     },
     "execution_count": 178,
     "metadata": {},
     "output_type": "execute_result"
    }
   ],
   "source": [
    "s2"
   ]
  },
  {
   "cell_type": "code",
   "execution_count": 179,
   "id": "97e22b25",
   "metadata": {},
   "outputs": [],
   "source": [
    "s2.add(\"sudh\")"
   ]
  },
  {
   "cell_type": "code",
   "execution_count": 180,
   "id": "938ea4d4",
   "metadata": {},
   "outputs": [
    {
     "data": {
      "text/plain": [
       "{35, 4, 46, 5, 6, 7, 75677827, 76, 'sudh'}"
      ]
     },
     "execution_count": 180,
     "metadata": {},
     "output_type": "execute_result"
    }
   ],
   "source": [
    "s2"
   ]
  },
  {
   "cell_type": "code",
   "execution_count": 181,
   "id": "137c2324",
   "metadata": {},
   "outputs": [
    {
     "ename": "TypeError",
     "evalue": "unhashable type: 'list'",
     "output_type": "error",
     "traceback": [
      "\u001b[1;31m---------------------------------------------------------------------------\u001b[0m",
      "\u001b[1;31mTypeError\u001b[0m                                 Traceback (most recent call last)",
      "\u001b[1;32m<ipython-input-181-d1abf6aadd38>\u001b[0m in \u001b[0;36m<module>\u001b[1;34m\u001b[0m\n\u001b[1;32m----> 1\u001b[1;33m \u001b[0ms2\u001b[0m\u001b[1;33m.\u001b[0m\u001b[0madd\u001b[0m\u001b[1;33m(\u001b[0m\u001b[1;33m[\u001b[0m\u001b[1;36m4\u001b[0m\u001b[1;33m,\u001b[0m\u001b[1;36m55\u001b[0m\u001b[1;33m,\u001b[0m\u001b[1;36m34\u001b[0m\u001b[1;33m,\u001b[0m\u001b[1;36m5\u001b[0m\u001b[1;33m]\u001b[0m\u001b[1;33m)\u001b[0m\u001b[1;33m\u001b[0m\u001b[1;33m\u001b[0m\u001b[0m\n\u001b[0m",
      "\u001b[1;31mTypeError\u001b[0m: unhashable type: 'list'"
     ]
    }
   ],
   "source": [
    "s2.add([4,55,34,5])"
   ]
  },
  {
   "cell_type": "code",
   "execution_count": 183,
   "id": "b3a49d5a",
   "metadata": {},
   "outputs": [],
   "source": [
    "d = {6,8}"
   ]
  },
  {
   "cell_type": "code",
   "execution_count": 184,
   "id": "a84a08f5",
   "metadata": {},
   "outputs": [
    {
     "data": {
      "text/plain": [
       "set"
      ]
     },
     "execution_count": 184,
     "metadata": {},
     "output_type": "execute_result"
    }
   ],
   "source": [
    "type(d)"
   ]
  },
  {
   "cell_type": "code",
   "execution_count": 185,
   "id": "b7c31280",
   "metadata": {},
   "outputs": [],
   "source": [
    "d={4:\"sudh\"}"
   ]
  },
  {
   "cell_type": "code",
   "execution_count": 189,
   "id": "eca8f78f",
   "metadata": {},
   "outputs": [],
   "source": [
    "d1= {\"key1\":667, \"key2\":\"sudh\",45:[2,3,4,5]}"
   ]
  },
  {
   "cell_type": "code",
   "execution_count": 192,
   "id": "64b12b78",
   "metadata": {},
   "outputs": [
    {
     "data": {
      "text/plain": [
       "(3, 5, 3, 3, 3, 3, 3, 3, 3, 4, 5, 5, 6, 6, 3, 3, 5, 6, 6, 9, 8, 7)"
      ]
     },
     "execution_count": 192,
     "metadata": {},
     "output_type": "execute_result"
    }
   ],
   "source": [
    "l"
   ]
  },
  {
   "cell_type": "code",
   "execution_count": 194,
   "id": "68bc1def",
   "metadata": {},
   "outputs": [
    {
     "data": {
      "text/plain": [
       "{'key1': 667, 'key2': 'sudh', 45: [2, 3, 4, 5]}"
      ]
     },
     "execution_count": 194,
     "metadata": {},
     "output_type": "execute_result"
    }
   ],
   "source": [
    "d1"
   ]
  },
  {
   "cell_type": "code",
   "execution_count": 195,
   "id": "0f0d12a7",
   "metadata": {},
   "outputs": [
    {
     "data": {
      "text/plain": [
       "3"
      ]
     },
     "execution_count": 195,
     "metadata": {},
     "output_type": "execute_result"
    }
   ],
   "source": [
    "l[0]"
   ]
  },
  {
   "cell_type": "code",
   "execution_count": 197,
   "id": "8f691719",
   "metadata": {
    "scrolled": true
   },
   "outputs": [
    {
     "data": {
      "text/plain": [
       "667"
      ]
     },
     "execution_count": 197,
     "metadata": {},
     "output_type": "execute_result"
    }
   ],
   "source": [
    "d1[\"key1\"]"
   ]
  },
  {
   "cell_type": "code",
   "execution_count": null,
   "id": "2a5dbacc",
   "metadata": {},
   "outputs": [],
   "source": [
    "i= len(s)-1\n",
    "while(i>=0):\n",
    "    printt(s[i],end=\" \")\n",
    "    i=i-1"
   ]
  },
  {
   "cell_type": "code",
   "execution_count": 6,
   "id": "678746e2",
   "metadata": {},
   "outputs": [],
   "source": [
    "s= \"ineuron\"\n",
    "v=\"AaEeIiOoUu\""
   ]
  },
  {
   "cell_type": "code",
   "execution_count": null,
   "id": "daf74ec7",
   "metadata": {},
   "outputs": [],
   "source": [
    "for i in s:\n",
    "    if i in v:\n",
    "        print(\"vowel\",i)\n",
    "else:\n",
    "        print(\"not vowel\",i)"
   ]
  },
  {
   "cell_type": "code",
   "execution_count": null,
   "id": "6632ef9c",
   "metadata": {},
   "outputs": [],
   "source": []
  },
  {
   "cell_type": "code",
   "execution_count": null,
   "id": "72203663",
   "metadata": {},
   "outputs": [],
   "source": []
  }
 ],
 "metadata": {
  "kernelspec": {
   "display_name": "Python 3",
   "language": "python",
   "name": "python3"
  },
  "language_info": {
   "codemirror_mode": {
    "name": "ipython",
    "version": 3
   },
   "file_extension": ".py",
   "mimetype": "text/x-python",
   "name": "python",
   "nbconvert_exporter": "python",
   "pygments_lexer": "ipython3",
   "version": "3.8.8"
  }
 },
 "nbformat": 4,
 "nbformat_minor": 5
}
