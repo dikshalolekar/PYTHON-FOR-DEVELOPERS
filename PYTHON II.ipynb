{
 "cells": [
  {
   "cell_type": "code",
   "execution_count": 1,
   "id": "e127117d",
   "metadata": {},
   "outputs": [],
   "source": [
    "def test(a,b,c,d,e):\n",
    "    return a,b,c,d,e\n"
   ]
  },
  {
   "cell_type": "code",
   "execution_count": 3,
   "id": "864485b9",
   "metadata": {},
   "outputs": [
    {
     "data": {
      "text/plain": [
       "(43, 54, 54, 886, 255)"
      ]
     },
     "execution_count": 3,
     "metadata": {},
     "output_type": "execute_result"
    }
   ],
   "source": [
    "test (43,54,54,886,255)"
   ]
  },
  {
   "cell_type": "code",
   "execution_count": 5,
   "id": "eb57d19c",
   "metadata": {},
   "outputs": [],
   "source": [
    "def test1 (*args):\n",
    "    return args"
   ]
  },
  {
   "cell_type": "code",
   "execution_count": 7,
   "id": "92ebfe4e",
   "metadata": {},
   "outputs": [
    {
     "data": {
      "text/plain": [
       "(24, 58, 24)"
      ]
     },
     "execution_count": 7,
     "metadata": {},
     "output_type": "execute_result"
    }
   ],
   "source": [
    "test1 (24,58,24)"
   ]
  },
  {
   "cell_type": "code",
   "execution_count": 11,
   "id": "9d56d2a8",
   "metadata": {},
   "outputs": [
    {
     "data": {
      "text/plain": [
       "(57, 554, 555, 25)"
      ]
     },
     "execution_count": 11,
     "metadata": {},
     "output_type": "execute_result"
    }
   ],
   "source": [
    "test1 (57,554,555,25)"
   ]
  },
  {
   "cell_type": "code",
   "execution_count": 17,
   "id": "3d739b1b",
   "metadata": {},
   "outputs": [],
   "source": [
    "def test2 (*sudh):\n",
    "    return sudh"
   ]
  },
  {
   "cell_type": "code",
   "execution_count": 19,
   "id": "8e4e53a6",
   "metadata": {},
   "outputs": [
    {
     "data": {
      "text/plain": [
       "(54, 25, 5451, 54)"
      ]
     },
     "execution_count": 19,
     "metadata": {},
     "output_type": "execute_result"
    }
   ],
   "source": [
    "test2(54,25,5451,54)"
   ]
  },
  {
   "cell_type": "code",
   "execution_count": 21,
   "id": "5f8d91e1",
   "metadata": {},
   "outputs": [],
   "source": [
    "def test3 (*sudh , a):\n",
    "        return sudh, a"
   ]
  },
  {
   "cell_type": "code",
   "execution_count": 24,
   "id": "36a946e9",
   "metadata": {},
   "outputs": [
    {
     "data": {
      "text/plain": [
       "((55, 55, 55), 55332)"
      ]
     },
     "execution_count": 24,
     "metadata": {},
     "output_type": "execute_result"
    }
   ],
   "source": [
    "test3 (55,55,55, a=55332)"
   ]
  },
  {
   "cell_type": "code",
   "execution_count": 28,
   "id": "c5cd5686",
   "metadata": {},
   "outputs": [],
   "source": [
    "def test4 (*sudh, a,b,c,d):\n",
    "    return sudh , a,b,c,d"
   ]
  },
  {
   "cell_type": "code",
   "execution_count": 30,
   "id": "496f4d0c",
   "metadata": {},
   "outputs": [
    {
     "data": {
      "text/plain": [
       "((54, 55, 28521, 245), 24, 554, 5, 245)"
      ]
     },
     "execution_count": 30,
     "metadata": {},
     "output_type": "execute_result"
    }
   ],
   "source": [
    "test4(54,55,28521,245, a=24, b=554, c=5, d=245)"
   ]
  },
  {
   "cell_type": "code",
   "execution_count": 32,
   "id": "cdbf81c8",
   "metadata": {},
   "outputs": [],
   "source": [
    "def test5(a, *sudh, b, c):\n",
    "    return a, sudh, b, c"
   ]
  },
  {
   "cell_type": "code",
   "execution_count": 59,
   "id": "64d3491a",
   "metadata": {},
   "outputs": [],
   "source": [
    "def test6(*args):\n",
    "    list=[]\n",
    "    for i in agrs:\n",
    "        if type(i)==list:\n",
    "            l.append(i)\n",
    "    return l"
   ]
  },
  {
   "cell_type": "code",
   "execution_count": 62,
   "id": "58218596",
   "metadata": {},
   "outputs": [],
   "source": [
    "def test7(**kwargs):\n",
    "    return kwargs"
   ]
  },
  {
   "cell_type": "code",
   "execution_count": 64,
   "id": "b5700a51",
   "metadata": {},
   "outputs": [
    {
     "data": {
      "text/plain": [
       "{'a': 684, 'b': [5, 55, 8, 5]}"
      ]
     },
     "execution_count": 64,
     "metadata": {},
     "output_type": "execute_result"
    }
   ],
   "source": [
    "test7(a=684, b=[5,55,8,5])"
   ]
  },
  {
   "cell_type": "code",
   "execution_count": 65,
   "id": "f6f110f1",
   "metadata": {},
   "outputs": [],
   "source": [
    "def test8(**sudh):\n",
    "    return sudh"
   ]
  },
  {
   "cell_type": "code",
   "execution_count": 67,
   "id": "d1a467ba",
   "metadata": {},
   "outputs": [
    {
     "data": {
      "text/plain": [
       "{'b': 587, 'g': 2585, 'f': [254, 25, 68, 88]}"
      ]
     },
     "execution_count": 67,
     "metadata": {},
     "output_type": "execute_result"
    }
   ],
   "source": [
    "test8(b=587, g=2585, f=[254,25,68,88])"
   ]
  },
  {
   "cell_type": "code",
   "execution_count": 69,
   "id": "cb013326",
   "metadata": {},
   "outputs": [],
   "source": [
    "def test9(**sudh):\n",
    "    return sudh"
   ]
  },
  {
   "cell_type": "code",
   "execution_count": 76,
   "id": "38726830",
   "metadata": {},
   "outputs": [
    {
     "data": {
      "text/plain": [
       "{'name': 'sudh',\n",
       " 'age': 31,\n",
       " 'mob_no': '56454',\n",
       " 'mail_id': 'bdcgchcagch.com',\n",
       " 'addr': 'nefh'}"
      ]
     },
     "execution_count": 76,
     "metadata": {},
     "output_type": "execute_result"
    }
   ],
   "source": [
    "test9(name= \"sudh\", age=31, mob_no= \"56454\", mail_id= \"bdcgchcagch.com\", addr= \"nefh\")"
   ]
  },
  {
   "cell_type": "code",
   "execution_count": 82,
   "id": "2f79dbb2",
   "metadata": {},
   "outputs": [],
   "source": [
    "def test10(a, *args, **kwargs):\n",
    "    return a, args, kwargs"
   ]
  },
  {
   "cell_type": "code",
   "execution_count": 84,
   "id": "881fa181",
   "metadata": {},
   "outputs": [
    {
     "data": {
      "text/plain": [
       "(565, (2, 989, 2, 54, 5), {'g': 855, 'l': 55})"
      ]
     },
     "execution_count": 84,
     "metadata": {},
     "output_type": "execute_result"
    }
   ],
   "source": [
    "test10(565,2,989,2,54,5, g= 855, l=55)"
   ]
  },
  {
   "cell_type": "code",
   "execution_count": 88,
   "id": "6916ffa9",
   "metadata": {},
   "outputs": [],
   "source": [
    "def test11(a,b):\n",
    "    return a*b"
   ]
  },
  {
   "cell_type": "code",
   "execution_count": 90,
   "id": "030eaa6b",
   "metadata": {},
   "outputs": [
    {
     "data": {
      "text/plain": [
       "120"
      ]
     },
     "execution_count": 90,
     "metadata": {},
     "output_type": "execute_result"
    }
   ],
   "source": [
    "test11(24,5)"
   ]
  },
  {
   "cell_type": "code",
   "execution_count": 93,
   "id": "e983d6a6",
   "metadata": {},
   "outputs": [],
   "source": [
    "a=lambda a,b: a*b"
   ]
  },
  {
   "cell_type": "code",
   "execution_count": 95,
   "id": "5fa1b153",
   "metadata": {},
   "outputs": [
    {
     "data": {
      "text/plain": [
       "125"
      ]
     },
     "execution_count": 95,
     "metadata": {},
     "output_type": "execute_result"
    }
   ],
   "source": [
    "a(5,25)"
   ]
  },
  {
   "cell_type": "code",
   "execution_count": 97,
   "id": "19856608",
   "metadata": {},
   "outputs": [],
   "source": [
    "a=10\n",
    "def test12(c,d):\n",
    "    a=5\n",
    "    return c*d"
   ]
  },
  {
   "cell_type": "code",
   "execution_count": 99,
   "id": "55b85a71",
   "metadata": {},
   "outputs": [
    {
     "data": {
      "text/plain": [
       "500"
      ]
     },
     "execution_count": 99,
     "metadata": {},
     "output_type": "execute_result"
    }
   ],
   "source": [
    "test12(a,50)"
   ]
  },
  {
   "cell_type": "code",
   "execution_count": 101,
   "id": "12f969f1",
   "metadata": {},
   "outputs": [],
   "source": [
    "l=[1,2,3,4,5,6,7,8,9]\n",
    "l1=[]\n",
    "for i in l:\n",
    "    l1.append(i+2)"
   ]
  },
  {
   "cell_type": "code",
   "execution_count": 103,
   "id": "e3dc133c",
   "metadata": {},
   "outputs": [
    {
     "data": {
      "text/plain": [
       "[3, 4, 5, 6, 7, 8, 9, 10, 11]"
      ]
     },
     "execution_count": 103,
     "metadata": {},
     "output_type": "execute_result"
    }
   ],
   "source": [
    "l1"
   ]
  },
  {
   "cell_type": "code",
   "execution_count": 105,
   "id": "26975795",
   "metadata": {},
   "outputs": [],
   "source": [
    "a=lambda a:[i+2 for i in a]"
   ]
  },
  {
   "cell_type": "code",
   "execution_count": 107,
   "id": "1710fed4",
   "metadata": {},
   "outputs": [
    {
     "data": {
      "text/plain": [
       "[3, 4, 5, 6, 7, 8, 9, 10, 11]"
      ]
     },
     "execution_count": 107,
     "metadata": {},
     "output_type": "execute_result"
    }
   ],
   "source": [
    "a(l)"
   ]
  },
  {
   "cell_type": "code",
   "execution_count": 109,
   "id": "0c48975f",
   "metadata": {},
   "outputs": [],
   "source": [
    "l1=[]\n",
    "for i in l:\n",
    "    if i< 4:\n",
    "        l1.append((i**2, i+i))"
   ]
  },
  {
   "cell_type": "code",
   "execution_count": 111,
   "id": "5191a4df",
   "metadata": {},
   "outputs": [
    {
     "data": {
      "text/plain": [
       "[(1, 2), (4, 4), (9, 6)]"
      ]
     },
     "execution_count": 111,
     "metadata": {},
     "output_type": "execute_result"
    }
   ],
   "source": [
    "l1"
   ]
  },
  {
   "cell_type": "code",
   "execution_count": 113,
   "id": "17991e4f",
   "metadata": {},
   "outputs": [],
   "source": [
    "d={1:1, 2:4, 3:9}"
   ]
  },
  {
   "cell_type": "code",
   "execution_count": 115,
   "id": "999b644f",
   "metadata": {},
   "outputs": [
    {
     "data": {
      "text/plain": [
       "{0: 0, 1: 1, 2: 4, 3: 9, 4: 16, 5: 25, 6: 36, 7: 49, 8: 64, 9: 81}"
      ]
     },
     "execution_count": 115,
     "metadata": {},
     "output_type": "execute_result"
    }
   ],
   "source": [
    "{i:i**2 for i in range(10)}"
   ]
  },
  {
   "cell_type": "code",
   "execution_count": 119,
   "id": "e76dad51",
   "metadata": {},
   "outputs": [],
   "source": [
    "d1={}\n",
    "for i in range (10):\n",
    "    d1[i]=i**2"
   ]
  },
  {
   "cell_type": "code",
   "execution_count": 121,
   "id": "4b980fa6",
   "metadata": {},
   "outputs": [
    {
     "data": {
      "text/plain": [
       "{0: 0, 1: 1, 2: 4, 3: 9, 4: 16, 5: 25, 6: 36, 7: 49, 8: 64, 9: 81}"
      ]
     },
     "execution_count": 121,
     "metadata": {},
     "output_type": "execute_result"
    }
   ],
   "source": [
    "d1"
   ]
  },
  {
   "cell_type": "code",
   "execution_count": 123,
   "id": "942c060a",
   "metadata": {},
   "outputs": [
    {
     "data": {
      "text/plain": [
       "<generator object <genexpr> at 0x000002EAB58893C0>"
      ]
     },
     "execution_count": 123,
     "metadata": {},
     "output_type": "execute_result"
    }
   ],
   "source": [
    "(i for i in range(10))"
   ]
  },
  {
   "cell_type": "code",
   "execution_count": 125,
   "id": "99b21f83",
   "metadata": {},
   "outputs": [
    {
     "data": {
      "text/plain": [
       "(0, 1, 2, 3, 4, 5, 6, 7, 8, 9)"
      ]
     },
     "execution_count": 125,
     "metadata": {},
     "output_type": "execute_result"
    }
   ],
   "source": [
    "tuple(i for i in range(10))"
   ]
  },
  {
   "cell_type": "code",
   "execution_count": 130,
   "id": "3f8c3d5b",
   "metadata": {},
   "outputs": [
    {
     "name": "stdout",
     "output_type": "stream",
     "text": [
      "s\n",
      "u\n",
      "d\n",
      "h\n"
     ]
    }
   ],
   "source": [
    "s= \"sudh\"\n",
    "for i in s:\n",
    "    print(i)"
   ]
  },
  {
   "cell_type": "code",
   "execution_count": 132,
   "id": "571eab6e",
   "metadata": {},
   "outputs": [],
   "source": [
    "b= iter(s)"
   ]
  },
  {
   "cell_type": "code",
   "execution_count": 134,
   "id": "804bb454",
   "metadata": {},
   "outputs": [
    {
     "data": {
      "text/plain": [
       "<str_iterator at 0x2eab5877970>"
      ]
     },
     "execution_count": 134,
     "metadata": {},
     "output_type": "execute_result"
    }
   ],
   "source": [
    "b"
   ]
  },
  {
   "cell_type": "code",
   "execution_count": 136,
   "id": "e6b217bf",
   "metadata": {},
   "outputs": [
    {
     "data": {
      "text/plain": [
       "'u'"
      ]
     },
     "execution_count": 136,
     "metadata": {},
     "output_type": "execute_result"
    }
   ],
   "source": [
    "next(b)"
   ]
  },
  {
   "cell_type": "code",
   "execution_count": 138,
   "id": "92f6fe22",
   "metadata": {},
   "outputs": [
    {
     "data": {
      "text/plain": [
       "'h'"
      ]
     },
     "execution_count": 138,
     "metadata": {},
     "output_type": "execute_result"
    }
   ],
   "source": [
    "next(b)"
   ]
  },
  {
   "cell_type": "code",
   "execution_count": 142,
   "id": "2767bc7a",
   "metadata": {},
   "outputs": [
    {
     "name": "stdout",
     "output_type": "stream",
     "text": [
      "j\n",
      "h\n",
      "v\n",
      "h\n",
      "j\n",
      "f\n",
      "s\n",
      "b\n",
      "v\n",
      "j\n",
      "h\n",
      "g\n",
      "s\n"
     ]
    }
   ],
   "source": [
    "s=\"jhvhjfsbvjhgs\"\n",
    "for i in s:\n",
    "    print(i)"
   ]
  },
  {
   "cell_type": "raw",
   "id": "06c9f27b",
   "metadata": {},
   "source": [
    "s = iter(s)"
   ]
  },
  {
   "cell_type": "code",
   "execution_count": null,
   "id": "3b5bdb6b",
   "metadata": {},
   "outputs": [],
   "source": [
    "l=[1,2,3,4,5]\n",
    "\n",
    "l=iter(l)\n",
    "\n",
    "next(l)\n",
    "\n",
    "next(l)\n",
    "\n",
    "a=56\n",
    "\n",
    "t=(5,4,3,2,1)\n",
    "\n",
    "t= iter(t)\n",
    "\n",
    "next(t)\n",
    "\n",
    "next(t)\n",
    "\n",
    "next(t)\n",
    "\n",
    "next(t)\n",
    "\n",
    "next(t)\n",
    "\n",
    "next(t)\n",
    "\n",
    "range(8)\n",
    "\n",
    "next(r)\n",
    "\n",
    "r= iter(r)\n",
    "\n",
    "list(range(0,45,3))\n",
    "\n",
    "def gencube(n):\n",
    "    for i in range(n):\n",
    "        return n**3\n",
    "\n",
    "gencube(6)\n",
    "\n",
    "def gencube(n):\n",
    "    for i in range(n):\n",
    "        return i**3\n",
    "\n",
    "gencube(6)\n",
    "\n",
    "def gencube(n):\n",
    "    l=[]\n",
    "    for i in range(n):\n",
    "        l.append(i**3)\n",
    "    return l\n",
    "\n",
    "gencube(6)\n",
    "\n",
    "gencube(60)\n",
    "\n",
    "range(955566871254793198)\n",
    "\n",
    "def gencube(n):\n",
    "    \n",
    "    for i in range(n):\n",
    "        yield i**3\n",
    "\n",
    "\n",
    "gencube(10)\n",
    "\n",
    "for i in gencube (18676):\n",
    "    print(i)\n",
    "\n",
    "for i in range (186769):\n",
    "    print(i)\n",
    "\n",
    "def fib(n):\n",
    "    a=1\n",
    "    b=1\n",
    "    for i in range(n):\n",
    "        yield a,i\n",
    "        a,b= b, a+b\n",
    "\n",
    "for i in fib(10):\n",
    "    print(i)\n",
    "\n",
    "def fib(n):\n",
    "    a=1\n",
    "    b=1\n",
    "    for i in range(n):\n",
    "        yield a,i\n",
    "        a,b= b, a+b\n",
    "\n",
    "type(fib(10))"
   ]
  },
  {
   "cell_type": "code",
   "execution_count": null,
   "id": "bcadfac9",
   "metadata": {},
   "outputs": [],
   "source": [
    "class xyz:\n",
    "    def __init__(self, a, b, c):\n",
    "        felf.a = a\n",
    "        self.b = b\n",
    "        self.c = c\n",
    "        \n",
    "    def test(self):\n",
    "        print(\"this is my test method of xyz class\")\n",
    "        \n",
    "    def test1(self):\n",
    "        print(\"this is my test1 method of xyz class\")\n",
    "        \n",
    "    def test2(self):\n",
    "        print(\"this is my test2 method of xyz class\")\n",
    "        \n",
    "\n",
    "p = xyz(1,2,3)\n",
    "\n",
    "p.test1()\n",
    "\n",
    "class xyz(xyz):\n",
    "    def test(self):\n",
    "        print (\"this is a test method available in xyz1\")\n",
    "\n",
    "g= xyz1(4,5,6)\n",
    "\n",
    "class xyz():\n",
    "    def __init__(self, a,b,c):\n",
    "        self.a=a\n",
    "        self.b=b\n",
    "        self.c=c\n",
    "        \n",
    "    def test(self):\n",
    "        print(\"this is a method from class\")\n",
    "        \n",
    "class xyz1:\n",
    "    \n",
    "    def __init__(self, p,q,v):\n",
    "        self.p=p\n",
    "        self.q=q\n",
    "        self.v=v\n",
    "        \n",
    "    def test1(self):\n",
    "        print(\"this is a method from class xyz1\")\n",
    "         \n",
    "class child(xyz, xyz1):\n",
    "    def __init__(self, *args, **kwargs):\n",
    "        xyz.__init(self,*args)\n",
    "        xyz.__init(self,**kwargs)\n",
    "    \n",
    "\n",
    "n = child(4,5,6)\n",
    "\n",
    "n= child(4,5,6, p=3, q=4, v=5)\n",
    "\n",
    "class test :\n",
    "    def __init__(self):\n",
    "        self._a =4\n",
    "        \n",
    "class test1(test):\n",
    "    def __init__(self):\n",
    "        self._a= 7\n",
    "                \n",
    "u =test()\n",
    "\n",
    "u._a"
   ]
  },
  {
   "cell_type": "code",
   "execution_count": 5,
   "id": "1c86f186",
   "metadata": {},
   "outputs": [],
   "source": [
    "from abc import abstractmethod\n",
    "class data_project:\n",
    "    \n",
    "    def read_file(self):\n",
    "        pass\n",
    "    \n",
    "    def validate_file_name(self):\n",
    "        pass\n",
    "    \n",
    "    def validate_datatype(self):\n",
    "        pass\n",
    "    \n",
    "    def validate_db_conn(self):\n",
    "        pass\n",
    "    \n",
    "    def create_conn(self):\n",
    "        pass\n",
    "    \n",
    "    def insert_data(self):\n",
    "        pass\n",
    "    \n",
    "    def delete_data(self):\n",
    "        pass\n",
    "    \n",
    "    def update_data(self):\n",
    "        pass\n",
    "    \n",
    "    def perform_status(self):\n",
    "        pass\n",
    "    \n",
    "    def perform_eda(self):\n",
    "        pass"
   ]
  },
  {
   "cell_type": "code",
   "execution_count": null,
   "id": "be43c616",
   "metadata": {},
   "outputs": [],
   "source": [
    "class db_ops(data_project):\n",
    "    "
   ]
  },
  {
   "cell_type": "code",
   "execution_count": null,
   "id": "bd4683c7",
   "metadata": {},
   "outputs": [],
   "source": [
    "class abc :\n",
    "    pass"
   ]
  },
  {
   "cell_type": "code",
   "execution_count": 13,
   "id": "66026453",
   "metadata": {},
   "outputs": [],
   "source": [
    "class test:\n",
    "    def fun(self):\n",
    "        print(\"this is my sample class\")\n",
    "        \n",
    "    def __str__(self):\n",
    "        return str(\"this is a fun called at a time of object print\")"
   ]
  },
  {
   "cell_type": "code",
   "execution_count": 14,
   "id": "ead67a0c",
   "metadata": {},
   "outputs": [],
   "source": [
    "t= test()"
   ]
  },
  {
   "cell_type": "code",
   "execution_count": 15,
   "id": "f11847e0",
   "metadata": {},
   "outputs": [
    {
     "name": "stdout",
     "output_type": "stream",
     "text": [
      "this is a fun called at a time of object print\n"
     ]
    }
   ],
   "source": [
    "print (t)"
   ]
  },
  {
   "cell_type": "code",
   "execution_count": 16,
   "id": "3cae8937",
   "metadata": {},
   "outputs": [
    {
     "data": {
      "text/plain": [
       "<__main__.test at 0x152cf3149a0>"
      ]
     },
     "execution_count": 16,
     "metadata": {},
     "output_type": "execute_result"
    }
   ],
   "source": [
    "t"
   ]
  },
  {
   "cell_type": "code",
   "execution_count": null,
   "id": "6464c575",
   "metadata": {},
   "outputs": [],
   "source": []
  }
 ],
 "metadata": {
  "kernelspec": {
   "display_name": "Python 3",
   "language": "python",
   "name": "python3"
  },
  "language_info": {
   "codemirror_mode": {
    "name": "ipython",
    "version": 3
   },
   "file_extension": ".py",
   "mimetype": "text/x-python",
   "name": "python",
   "nbconvert_exporter": "python",
   "pygments_lexer": "ipython3",
   "version": "3.8.8"
  }
 },
 "nbformat": 4,
 "nbformat_minor": 5
}
