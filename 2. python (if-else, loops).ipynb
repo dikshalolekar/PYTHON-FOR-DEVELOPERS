{
 "cells": [
  {
   "cell_type": "code",
   "execution_count": 2,
   "id": "8ea3e506",
   "metadata": {},
   "outputs": [],
   "source": [
    "a = 10"
   ]
  },
  {
   "cell_type": "code",
   "execution_count": 5,
   "id": "3d6ca194",
   "metadata": {},
   "outputs": [
    {
     "data": {
      "text/plain": [
       "True"
      ]
     },
     "execution_count": 5,
     "metadata": {},
     "output_type": "execute_result"
    }
   ],
   "source": [
    "# if a< 15:\n",
    "a < 15 "
   ]
  },
  {
   "cell_type": "code",
   "execution_count": 7,
   "id": "3e307cdd",
   "metadata": {},
   "outputs": [
    {
     "name": "stdout",
     "output_type": "stream",
     "text": [
      "My name is Diksha\n"
     ]
    }
   ],
   "source": [
    "if a< 15:\n",
    "    print(\"My name is Diksha\")"
   ]
  },
  {
   "cell_type": "code",
   "execution_count": 9,
   "id": "d149336c",
   "metadata": {},
   "outputs": [],
   "source": [
    "if a< 15:\n",
    "    pass  # dead code"
   ]
  },
  {
   "cell_type": "code",
   "execution_count": 11,
   "id": "65fc43d3",
   "metadata": {},
   "outputs": [
    {
     "name": "stdout",
     "output_type": "stream",
     "text": [
      "True\n"
     ]
    }
   ],
   "source": [
    "if a < 15:\n",
    "    print(\"True\")\n",
    "else:\n",
    "    print(\"False\")"
   ]
  },
  {
   "cell_type": "code",
   "execution_count": 14,
   "id": "ebf6a647",
   "metadata": {},
   "outputs": [],
   "source": [
    "if 24 < 15: \n",
    "    Print(\"Diksha\")"
   ]
  },
  {
   "cell_type": "code",
   "execution_count": 17,
   "id": "d3d454ab",
   "metadata": {},
   "outputs": [
    {
     "name": "stdout",
     "output_type": "stream",
     "text": [
      "wrong statement\n"
     ]
    }
   ],
   "source": [
    "if 10 < 3:\n",
    "    print(\"10 is < 3\")\n",
    "else:\n",
    "    print(\"wrong statement\")"
   ]
  },
  {
   "cell_type": "code",
   "execution_count": 18,
   "id": "9f0fb160",
   "metadata": {},
   "outputs": [
    {
     "name": "stdout",
     "output_type": "stream",
     "text": [
      "right statement\n"
     ]
    }
   ],
   "source": [
    "if 5<10:\n",
    "    print(\"right statement\")\n",
    "else:\n",
    "    print(\"wrong statement\")"
   ]
  },
  {
   "cell_type": "code",
   "execution_count": 22,
   "id": "2f603710",
   "metadata": {},
   "outputs": [
    {
     "name": "stdout",
     "output_type": "stream",
     "text": [
      "90\n",
      "I won't be able to buy anything\n"
     ]
    }
   ],
   "source": [
    "income = int(input())\n",
    "if income < 50:\n",
    "    print(\"I will be able to buy phone\")\n",
    "elif income < 70:\n",
    "    print(\"I will be able to rent a house\")\n",
    "elif income < 90:\n",
    "    print(\"I will be able to buy a car\")\n",
    "else:\n",
    "    print(\"I won't be able to buy anything\")\n",
    "    "
   ]
  },
  {
   "cell_type": "code",
   "execution_count": 30,
   "id": "bda85865",
   "metadata": {},
   "outputs": [
    {
     "name": "stdout",
     "output_type": "stream",
     "text": [
      "4565\n",
      "Discount will be 228.25\n"
     ]
    }
   ],
   "source": [
    "Total_price = int(input())\n",
    "if Total_price > 20000:\n",
    "    discount = Total_price * .20\n",
    "    print(\"Discount will be\", discount)\n",
    "elif Total_price <= 7000:\n",
    "    discount = Total_price * .05\n",
    "    print(\"Discount will be\", discount)\n",
    "else:\n",
    "    print(\"won't be able to give any discount\")\n",
    "    "
   ]
  },
  {
   "cell_type": "code",
   "execution_count": 40,
   "id": "7d5c65ef",
   "metadata": {},
   "outputs": [
    {
     "name": "stdout",
     "output_type": "stream",
     "text": [
      "DIKSHA04\n",
      "You will be able to give a discount of 5%\n",
      "You will be able to get Neuron with this amount 17100.0\n"
     ]
    }
   ],
   "source": [
    "coup = input()\n",
    "if coup == \"DIKSHA04\":\n",
    "    print(\"You will be able to give a discount of 5%\")\n",
    "    paid_amount = 18000 - 18000*.05\n",
    "    print(\"You will be able to get Neuron with this amount\", paid_amount)\n",
    "else :\n",
    "    print(\"Kindly use a valid coupon code\")"
   ]
  },
  {
   "cell_type": "code",
   "execution_count": 44,
   "id": "0b5356f2",
   "metadata": {},
   "outputs": [
    {
     "name": "stdout",
     "output_type": "stream",
     "text": [
      "2\n",
      "It may take 6 month of time to make a transition\n"
     ]
    }
   ],
   "source": [
    "study_hour = int(input())\n",
    "if study_hour < 1:\n",
    "    print(\"It may take 8-9 month of time to make a transition\")\n",
    "elif study_hour < 4 and study_hour >1:\n",
    "    print(\"It may take 6 month of time to make a transition\")\n",
    "elif study_hour < 4 and study_hour >1:\n",
    "    print(\"It may take 4 month of time to make a transition\")\n",
    "else:\n",
    "    print(\"It will be difficult\")"
   ]
  },
  {
   "cell_type": "code",
   "execution_count": 45,
   "id": "1aa14cb8",
   "metadata": {},
   "outputs": [
    {
     "name": "stdout",
     "output_type": "stream",
     "text": [
      "valid\n"
     ]
    }
   ],
   "source": [
    "a = 9\n",
    "if a == 9:\n",
    "    print(\"valid\")"
   ]
  },
  {
   "cell_type": "code",
   "execution_count": 56,
   "id": "d2b65f75",
   "metadata": {},
   "outputs": [
    {
     "name": "stdout",
     "output_type": "stream",
     "text": [
      "enter inputoneneuron\n",
      "enter inputenter inputFSDS\n",
      "enter inputdoubt\n",
      "Job prepration is available\n"
     ]
    }
   ],
   "source": [
    "s = input(\"enter input\")\n",
    "course = input(\"enter input\"\"enter input\")\n",
    "service = input(\"enter input\")\n",
    "if s == \"oneneuron\":\n",
    "    if course == \"DSA\":\n",
    "        print(\"Job prepration is available\")\n",
    "    elif course == \"Blockchain\":\n",
    "        print(\"not available\")\n",
    "    elif course == \"FSDS\":\n",
    "        print(\"Job prepration is available\")\n",
    "    else: \n",
    "        print(\"not availabe, raise demand\")\n",
    "elif s == \"oneneuronservice\":\n",
    "    if service == \"courserequest\":\n",
    "        print(\"working on it\")\n",
    "    elif service == \"doubt\":\n",
    "        print(\"get in touch with you soon\")\n",
    "    elif service == \"module\":\n",
    "        print(\"get in touch with you soon\")\n",
    "    elif service == \"workwithus\":\n",
    "        print(\"get in touch with you soon\")\n",
    "    else:\n",
    "        print(\"give us feedback\")\n",
    "else:\n",
    "    print(\"Kindly connect with team\")"
   ]
  },
  {
   "cell_type": "code",
   "execution_count": 58,
   "id": "994996de",
   "metadata": {},
   "outputs": [
    {
     "name": "stdout",
     "output_type": "stream",
     "text": [
      "1\n",
      "2\n",
      "3\n",
      "4\n",
      "5\n",
      "6\n",
      "7\n"
     ]
    }
   ],
   "source": [
    "l= [1,2,3,4,5,6,7]\n",
    "for i in l:\n",
    "    print(i)"
   ]
  },
  {
   "cell_type": "code",
   "execution_count": 62,
   "id": "b373f743",
   "metadata": {},
   "outputs": [
    {
     "name": "stdout",
     "output_type": "stream",
     "text": [
      "D\n",
      "i\n",
      "k\n",
      "s\n",
      "h\n",
      "a\n"
     ]
    }
   ],
   "source": [
    "for i in \"Diksha\":\n",
    "    print(i)"
   ]
  },
  {
   "cell_type": "code",
   "execution_count": 63,
   "id": "f2db7612",
   "metadata": {},
   "outputs": [],
   "source": [
    "t = (1,2,3,4,5,6,7,7)"
   ]
  },
  {
   "cell_type": "code",
   "execution_count": 64,
   "id": "a0068c08",
   "metadata": {},
   "outputs": [
    {
     "name": "stdout",
     "output_type": "stream",
     "text": [
      "1\n",
      "2\n",
      "3\n",
      "4\n",
      "5\n",
      "6\n",
      "7\n",
      "7\n"
     ]
    }
   ],
   "source": [
    "for i in t:\n",
    "    print(i)"
   ]
  },
  {
   "cell_type": "code",
   "execution_count": 65,
   "id": "e5158801",
   "metadata": {},
   "outputs": [],
   "source": [
    "l =[1,2,3,4.5,4+7j, \"Diksha\"]"
   ]
  },
  {
   "cell_type": "code",
   "execution_count": 66,
   "id": "99ee7db8",
   "metadata": {},
   "outputs": [
    {
     "name": "stdout",
     "output_type": "stream",
     "text": [
      "1\n",
      "2\n",
      "3\n",
      "4.5\n",
      "(4+7j)\n",
      "Diksha\n"
     ]
    }
   ],
   "source": [
    "for i in l:\n",
    "    print(i)"
   ]
  },
  {
   "cell_type": "code",
   "execution_count": 70,
   "id": "731aaac6",
   "metadata": {},
   "outputs": [
    {
     "name": "stdout",
     "output_type": "stream",
     "text": [
      "<class 'int'> type of 1\n",
      "<class 'int'> type of 2\n",
      "<class 'int'> type of 3\n",
      "<class 'float'> type of 4.5\n",
      "<class 'complex'> type of (4+7j)\n",
      "<class 'str'> type of Diksha\n"
     ]
    }
   ],
   "source": [
    "for i in l:\n",
    "    print(type(i), \"type of\" ,i)"
   ]
  },
  {
   "cell_type": "code",
   "execution_count": 68,
   "id": "d157d93e",
   "metadata": {},
   "outputs": [
    {
     "data": {
      "text/plain": [
       "int"
      ]
     },
     "execution_count": 68,
     "metadata": {},
     "output_type": "execute_result"
    }
   ],
   "source": [
    "type(1)"
   ]
  },
  {
   "cell_type": "code",
   "execution_count": 73,
   "id": "f1d597d8",
   "metadata": {},
   "outputs": [
    {
     "name": "stdout",
     "output_type": "stream",
     "text": [
      "3\n",
      "6\n",
      "7.6\n"
     ]
    }
   ],
   "source": [
    "l = [1,4,5.6]\n",
    "l1 = []\n",
    "for i in l:\n",
    "    print(i+2)\n",
    "    l1.append(i+2)"
   ]
  },
  {
   "cell_type": "code",
   "execution_count": 74,
   "id": "6fa23b0b",
   "metadata": {},
   "outputs": [
    {
     "data": {
      "text/plain": [
       "[3, 6, 7.6]"
      ]
     },
     "execution_count": 74,
     "metadata": {},
     "output_type": "execute_result"
    }
   ],
   "source": [
    "l1"
   ]
  },
  {
   "cell_type": "code",
   "execution_count": 75,
   "id": "eaec913a",
   "metadata": {},
   "outputs": [],
   "source": [
    "l = [2,45,78,12, \"Diksha\", 6+7j, [56,67,78]]"
   ]
  },
  {
   "cell_type": "code",
   "execution_count": 76,
   "id": "a9ff2ce6",
   "metadata": {},
   "outputs": [
    {
     "name": "stdout",
     "output_type": "stream",
     "text": [
      "2\n",
      "45\n",
      "78\n",
      "12\n"
     ]
    }
   ],
   "source": [
    "for i in l:\n",
    "    if type (i)==int:\n",
    "        print(i)"
   ]
  },
  {
   "cell_type": "code",
   "execution_count": 77,
   "id": "2cf453ad",
   "metadata": {},
   "outputs": [
    {
     "name": "stdout",
     "output_type": "stream",
     "text": [
      "2\n",
      "45\n",
      "78\n",
      "12\n",
      "56\n",
      "67\n",
      "78\n"
     ]
    }
   ],
   "source": [
    "for i in l:\n",
    "    if type (i)==int:\n",
    "        print(i)\n",
    "    elif type(i)== list:\n",
    "        for j in i:\n",
    "            print(j)"
   ]
  },
  {
   "cell_type": "code",
   "execution_count": 110,
   "id": "9183647d",
   "metadata": {},
   "outputs": [],
   "source": [
    "l = [2,45,78,12,\"Diksha\", 6+7j, [56,67,78,\"dsfdsf\"]]"
   ]
  },
  {
   "cell_type": "code",
   "execution_count": 87,
   "id": "787e529c",
   "metadata": {},
   "outputs": [
    {
     "name": "stdout",
     "output_type": "stream",
     "text": [
      "index 0 for an element 2\n",
      "index 1 for an element 45\n",
      "index 2 for an element 78\n",
      "index 3 for an element 12\n",
      "index 4 for an element Diksha\n",
      "index 5 for an element (6+7j)\n",
      "index 6 for an element [56, 67, 78, 'dsfdsf']\n"
     ]
    }
   ],
   "source": [
    "#print index of all the element\n",
    "for i in range(len(l)):\n",
    "    print(\"index\", i, \"for an element\", l[i])"
   ]
  },
  {
   "cell_type": "code",
   "execution_count": 93,
   "id": "208b6e88",
   "metadata": {},
   "outputs": [
    {
     "name": "stdout",
     "output_type": "stream",
     "text": [
      "0 2\n",
      "1 45\n",
      "2 78\n",
      "3 12\n",
      "4 Diksha\n",
      "5 (6+7j)\n",
      "6 [56, 67, 78, 'dsfdsf']\n"
     ]
    }
   ],
   "source": [
    "for i,j in enumerate(l):\n",
    "    print(i,j)"
   ]
  },
  {
   "cell_type": "code",
   "execution_count": 115,
   "id": "0a2cd672",
   "metadata": {},
   "outputs": [
    {
     "data": {
      "text/plain": [
       "[2, 45, 78, 12, 'Diksha', (6+7j), [56, 67, 78, 'dsfdsf']]"
      ]
     },
     "execution_count": 115,
     "metadata": {},
     "output_type": "execute_result"
    }
   ],
   "source": [
    "l"
   ]
  },
  {
   "cell_type": "code",
   "execution_count": 116,
   "id": "857b20fa",
   "metadata": {},
   "outputs": [
    {
     "name": "stdout",
     "output_type": "stream",
     "text": [
      "['D', 'i', 'k', 's', 'h', 'a']\n"
     ]
    }
   ],
   "source": [
    "#extract all the list of char if element is string\n",
    "for i in l:\n",
    "    if type(i) == str :\n",
    "        l1 = []\n",
    "        for j in i :\n",
    "            l1.append(j)\n",
    "        print(l1)"
   ]
  },
  {
   "cell_type": "code",
   "execution_count": 117,
   "id": "0fe3ccab",
   "metadata": {},
   "outputs": [
    {
     "data": {
      "text/plain": [
       "[2, 45, 78, 12, 'Diksha', (6+7j), [56, 67, 78, 'dsfdsf']]"
      ]
     },
     "execution_count": 117,
     "metadata": {},
     "output_type": "execute_result"
    }
   ],
   "source": [
    "l"
   ]
  },
  {
   "cell_type": "code",
   "execution_count": 118,
   "id": "527d8f2b",
   "metadata": {},
   "outputs": [],
   "source": [
    "#try to return a list after squaring of all the int element\n",
    "l2 = []\n",
    "for i in l:\n",
    "    if type(i) == int:\n",
    "        l2.append(i**2)\n",
    "    "
   ]
  },
  {
   "cell_type": "code",
   "execution_count": 119,
   "id": "d260217b",
   "metadata": {},
   "outputs": [
    {
     "data": {
      "text/plain": [
       "[4, 2025, 6084, 144]"
      ]
     },
     "execution_count": 119,
     "metadata": {},
     "output_type": "execute_result"
    }
   ],
   "source": [
    "l2"
   ]
  },
  {
   "cell_type": "code",
   "execution_count": 120,
   "id": "bc268535",
   "metadata": {},
   "outputs": [],
   "source": [
    "l= [\"name\", \"emailid\", \"phoneno\", \"address\"]"
   ]
  },
  {
   "cell_type": "code",
   "execution_count": 121,
   "id": "a21eb1d0",
   "metadata": {},
   "outputs": [
    {
     "name": "stdout",
     "output_type": "stream",
     "text": [
      "name\n",
      "emailid\n",
      "phoneno\n",
      "address\n"
     ]
    }
   ],
   "source": [
    "for i in l:\n",
    "    print(i)"
   ]
  },
  {
   "cell_type": "code",
   "execution_count": 122,
   "id": "06dff214",
   "metadata": {},
   "outputs": [
    {
     "name": "stdout",
     "output_type": "stream",
     "text": [
      "i\n",
      "n\n",
      "e\n",
      "u\n",
      "r\n",
      "o\n",
      "n\n"
     ]
    }
   ],
   "source": [
    "s = \"ineuron\"\n",
    "for i in s:\n",
    "    print(i)"
   ]
  },
  {
   "cell_type": "code",
   "execution_count": 123,
   "id": "1c50f9c1",
   "metadata": {},
   "outputs": [
    {
     "name": "stdout",
     "output_type": "stream",
     "text": [
      "name\n",
      "emailid\n",
      "phoneno\n",
      "address\n",
      "If for loop is going to complete itself then it will come to else\n"
     ]
    }
   ],
   "source": [
    "for i in l:\n",
    "    print(i)\n",
    "else:\n",
    "    print(\"If for loop is going to complete itself then it will come to else\")"
   ]
  },
  {
   "cell_type": "code",
   "execution_count": 124,
   "id": "a2279f7c",
   "metadata": {},
   "outputs": [
    {
     "data": {
      "text/plain": [
       "['name', 'emailid', 'phoneno', 'address']"
      ]
     },
     "execution_count": 124,
     "metadata": {},
     "output_type": "execute_result"
    }
   ],
   "source": [
    "l"
   ]
  },
  {
   "cell_type": "code",
   "execution_count": 127,
   "id": "8acfe2f0",
   "metadata": {},
   "outputs": [
    {
     "name": "stdout",
     "output_type": "stream",
     "text": [
      "name\n"
     ]
    }
   ],
   "source": [
    "for i in l:\n",
    "    if i ==\"emailid\":\n",
    "        break\n",
    "    print(i)\n",
    "else :\n",
    "    print(\"check this statement\")\n",
    "        \n",
    "    "
   ]
  },
  {
   "cell_type": "code",
   "execution_count": 129,
   "id": "26a865c9",
   "metadata": {},
   "outputs": [],
   "source": [
    "s = \"dikshslolekar\"\n",
    "for i in s:\n",
    "    if i == \"l\":\n",
    "        break\n",
    "else:\n",
    "    print(\"don't execute it unless and untill it is printing my name\")"
   ]
  },
  {
   "cell_type": "code",
   "execution_count": 130,
   "id": "d782b247",
   "metadata": {},
   "outputs": [
    {
     "name": "stdout",
     "output_type": "stream",
     "text": [
      "1\n",
      "2\n",
      "3\n",
      "4\n",
      "5\n"
     ]
    }
   ],
   "source": [
    "a = 1\n",
    "while a < 6:\n",
    "    print(a)\n",
    "    a = a+1"
   ]
  },
  {
   "cell_type": "code",
   "execution_count": 131,
   "id": "38a0ea22",
   "metadata": {},
   "outputs": [
    {
     "name": "stdout",
     "output_type": "stream",
     "text": [
      "1\n",
      "2\n",
      "3\n",
      "4\n"
     ]
    }
   ],
   "source": [
    "a = 1\n",
    "while a < 5:\n",
    "    print(a)\n",
    "    if a == 4:\n",
    "        break\n",
    "    a = a+1"
   ]
  },
  {
   "cell_type": "code",
   "execution_count": 134,
   "id": "7fbe82df",
   "metadata": {},
   "outputs": [
    {
     "name": "stdout",
     "output_type": "stream",
     "text": [
      "1\n",
      "2\n",
      "3\n",
      "4\n"
     ]
    }
   ],
   "source": [
    "a = 1\n",
    "while a < 5:\n",
    "    print(a)\n",
    "    a= a+1\n",
    "    if a == 3:\n",
    "        continue\n",
    "        a=a+1\n",
    "    "
   ]
  },
  {
   "cell_type": "code",
   "execution_count": 139,
   "id": "9d761a35",
   "metadata": {},
   "outputs": [
    {
     "data": {
      "text/plain": [
       "range(0, 6)"
      ]
     },
     "execution_count": 139,
     "metadata": {},
     "output_type": "execute_result"
    }
   ],
   "source": [
    "range(6)"
   ]
  },
  {
   "cell_type": "code",
   "execution_count": 141,
   "id": "71a04223",
   "metadata": {},
   "outputs": [
    {
     "data": {
      "text/plain": [
       "[0, 1, 2, 3, 4, 5]"
      ]
     },
     "execution_count": 141,
     "metadata": {},
     "output_type": "execute_result"
    }
   ],
   "source": [
    "list(range(6))"
   ]
  },
  {
   "cell_type": "code",
   "execution_count": 142,
   "id": "ffd3e83a",
   "metadata": {},
   "outputs": [
    {
     "data": {
      "text/plain": [
       "range(0, 7)"
      ]
     },
     "execution_count": 142,
     "metadata": {},
     "output_type": "execute_result"
    }
   ],
   "source": [
    "range(0,7)"
   ]
  },
  {
   "cell_type": "code",
   "execution_count": 146,
   "id": "0971b8f7",
   "metadata": {},
   "outputs": [
    {
     "data": {
      "text/plain": [
       "[4,\n",
       " 5,\n",
       " 6,\n",
       " 7,\n",
       " 8,\n",
       " 9,\n",
       " 10,\n",
       " 11,\n",
       " 12,\n",
       " 13,\n",
       " 14,\n",
       " 15,\n",
       " 16,\n",
       " 17,\n",
       " 18,\n",
       " 19,\n",
       " 20,\n",
       " 21,\n",
       " 22,\n",
       " 23,\n",
       " 24,\n",
       " 25,\n",
       " 26,\n",
       " 27,\n",
       " 28,\n",
       " 29,\n",
       " 30,\n",
       " 31,\n",
       " 32,\n",
       " 33,\n",
       " 34,\n",
       " 35,\n",
       " 36,\n",
       " 37,\n",
       " 38,\n",
       " 39,\n",
       " 40,\n",
       " 41,\n",
       " 42,\n",
       " 43,\n",
       " 44,\n",
       " 45,\n",
       " 46,\n",
       " 47,\n",
       " 48,\n",
       " 49]"
      ]
     },
     "execution_count": 146,
     "metadata": {},
     "output_type": "execute_result"
    }
   ],
   "source": [
    "list(range(4,50))"
   ]
  },
  {
   "cell_type": "code",
   "execution_count": 147,
   "id": "bf3e99ab",
   "metadata": {},
   "outputs": [
    {
     "data": {
      "text/plain": [
       "[3, 7, 11, 15, 19, 23, 27, 31, 35, 39]"
      ]
     },
     "execution_count": 147,
     "metadata": {},
     "output_type": "execute_result"
    }
   ],
   "source": [
    "list(range(3,40,4))"
   ]
  },
  {
   "cell_type": "code",
   "execution_count": 148,
   "id": "820fe23c",
   "metadata": {},
   "outputs": [
    {
     "data": {
      "text/plain": [
       "[]"
      ]
     },
     "execution_count": 148,
     "metadata": {},
     "output_type": "execute_result"
    }
   ],
   "source": [
    "list(range(3,10,-1))"
   ]
  },
  {
   "cell_type": "code",
   "execution_count": 149,
   "id": "4d58d6ba",
   "metadata": {},
   "outputs": [
    {
     "data": {
      "text/plain": [
       "[10, 9, 8, 7]"
      ]
     },
     "execution_count": 149,
     "metadata": {},
     "output_type": "execute_result"
    }
   ],
   "source": [
    "list(range(10,6,-1))"
   ]
  },
  {
   "cell_type": "code",
   "execution_count": 150,
   "id": "f3231a82",
   "metadata": {},
   "outputs": [
    {
     "data": {
      "text/plain": [
       "[10, 8, 6, 4, 2, 0, -2, -4]"
      ]
     },
     "execution_count": 150,
     "metadata": {},
     "output_type": "execute_result"
    }
   ],
   "source": [
    "list(range(10,-5,-2))"
   ]
  },
  {
   "cell_type": "code",
   "execution_count": 153,
   "id": "eea80551",
   "metadata": {},
   "outputs": [
    {
     "name": "stdout",
     "output_type": "stream",
     "text": [
      "0\n",
      "1\n",
      "2\n",
      "3\n",
      "4\n",
      "5\n",
      "6\n"
     ]
    }
   ],
   "source": [
    "for i in range(7):\n",
    "    print(i)"
   ]
  },
  {
   "cell_type": "code",
   "execution_count": 154,
   "id": "e7fd8d06",
   "metadata": {},
   "outputs": [
    {
     "name": "stdout",
     "output_type": "stream",
     "text": [
      "10\n",
      "8\n",
      "6\n",
      "4\n",
      "2\n",
      "0\n",
      "-2\n",
      "-4\n"
     ]
    }
   ],
   "source": [
    "for i in range(10,-5,-2):\n",
    "    print(i)"
   ]
  },
  {
   "cell_type": "code",
   "execution_count": 165,
   "id": "2c85a89f",
   "metadata": {},
   "outputs": [
    {
     "name": "stdout",
     "output_type": "stream",
     "text": [
      "Diksha \r\n",
      "Diksha Diksha \r\n",
      "Diksha Diksha Diksha \r\n",
      "Diksha Diksha Diksha Diksha \r\n",
      "Diksha Diksha Diksha Diksha Diksha \r\n"
     ]
    }
   ],
   "source": [
    "n = 5\n",
    "for i in range(0,n):\n",
    "    for j in range(0,i+1):\n",
    "        print(\"Diksha\" , end= \" \")\n",
    "    print(\"\\r\")"
   ]
  },
  {
   "cell_type": "code",
   "execution_count": 171,
   "id": "7fcf4922",
   "metadata": {},
   "outputs": [
    {
     "data": {
      "text/plain": [
       "(1, 2, 3, 4, 5, 6, 7, 7)"
      ]
     },
     "execution_count": 171,
     "metadata": {},
     "output_type": "execute_result"
    }
   ],
   "source": [
    "t"
   ]
  },
  {
   "cell_type": "code",
   "execution_count": 172,
   "id": "56e375b4",
   "metadata": {},
   "outputs": [
    {
     "data": {
      "text/plain": [
       "(7, 7, 6, 5, 4, 3, 2, 1)"
      ]
     },
     "execution_count": 172,
     "metadata": {},
     "output_type": "execute_result"
    }
   ],
   "source": [
    "t[::-1]"
   ]
  },
  {
   "cell_type": "code",
   "execution_count": 181,
   "id": "e38435ec",
   "metadata": {},
   "outputs": [
    {
     "name": "stdout",
     "output_type": "stream",
     "text": [
      "7\n",
      "7\n",
      "6\n",
      "5\n",
      "4\n",
      "3\n",
      "2\n",
      "1\n"
     ]
    }
   ],
   "source": [
    "for i in range(len(t)-1,-1,-1):\n",
    "    print(t[i])"
   ]
  },
  {
   "cell_type": "code",
   "execution_count": 183,
   "id": "47a18d4c",
   "metadata": {},
   "outputs": [],
   "source": [
    "d = {\"a\": \"Diksha\" ,\"b\": \"Sanjay\", \"c\": \"Lolekar\"}"
   ]
  },
  {
   "cell_type": "code",
   "execution_count": 185,
   "id": "d8d717f0",
   "metadata": {},
   "outputs": [
    {
     "name": "stdout",
     "output_type": "stream",
     "text": [
      "a {'a': 'Diksha', 'b': 'Sanjay', 'c': 'Lolekar'}\n",
      "b {'a': 'Diksha', 'b': 'Sanjay', 'c': 'Lolekar'}\n",
      "c {'a': 'Diksha', 'b': 'Sanjay', 'c': 'Lolekar'}\n"
     ]
    }
   ],
   "source": [
    "for i in d:\n",
    "    print(i,)"
   ]
  },
  {
   "cell_type": "code",
   "execution_count": 187,
   "id": "62e77b92",
   "metadata": {},
   "outputs": [
    {
     "data": {
      "text/plain": [
       "'Lolekar'"
      ]
     },
     "execution_count": 187,
     "metadata": {},
     "output_type": "execute_result"
    }
   ],
   "source": [
    "d['c']"
   ]
  },
  {
   "cell_type": "code",
   "execution_count": 188,
   "id": "7866da57",
   "metadata": {},
   "outputs": [
    {
     "data": {
      "text/plain": [
       "dict_items([('a', 'Diksha'), ('b', 'Sanjay'), ('c', 'Lolekar')])"
      ]
     },
     "execution_count": 188,
     "metadata": {},
     "output_type": "execute_result"
    }
   ],
   "source": [
    "d.items()"
   ]
  },
  {
   "cell_type": "code",
   "execution_count": 189,
   "id": "bb227cc4",
   "metadata": {},
   "outputs": [
    {
     "name": "stdout",
     "output_type": "stream",
     "text": [
      "('a', 'Diksha')\n",
      "('b', 'Sanjay')\n",
      "('c', 'Lolekar')\n"
     ]
    }
   ],
   "source": [
    "for i in d.items():\n",
    "    print(i)"
   ]
  },
  {
   "cell_type": "code",
   "execution_count": 191,
   "id": "f66b1e18",
   "metadata": {},
   "outputs": [],
   "source": [
    "s ={34,56,24,8,24,87,66,6,8,34,77,35,7876,466,355,355}"
   ]
  },
  {
   "cell_type": "code",
   "execution_count": 192,
   "id": "0273281f",
   "metadata": {},
   "outputs": [
    {
     "data": {
      "text/plain": [
       "{6, 8, 24, 34, 35, 56, 66, 77, 87, 355, 466, 7876}"
      ]
     },
     "execution_count": 192,
     "metadata": {},
     "output_type": "execute_result"
    }
   ],
   "source": [
    "s"
   ]
  },
  {
   "cell_type": "code",
   "execution_count": 193,
   "id": "5595258b",
   "metadata": {},
   "outputs": [
    {
     "name": "stdout",
     "output_type": "stream",
     "text": [
      "34\n",
      "66\n",
      "35\n",
      "7876\n",
      "6\n",
      "355\n",
      "8\n",
      "77\n",
      "466\n",
      "87\n",
      "56\n",
      "24\n"
     ]
    }
   ],
   "source": [
    "for i in s:\n",
    "    print(i)"
   ]
  }
 ],
 "metadata": {
  "kernelspec": {
   "display_name": "Python 3",
   "language": "python",
   "name": "python3"
  },
  "language_info": {
   "codemirror_mode": {
    "name": "ipython",
    "version": 3
   },
   "file_extension": ".py",
   "mimetype": "text/x-python",
   "name": "python",
   "nbconvert_exporter": "python",
   "pygments_lexer": "ipython3",
   "version": "3.8.8"
  }
 },
 "nbformat": 4,
 "nbformat_minor": 5
}
