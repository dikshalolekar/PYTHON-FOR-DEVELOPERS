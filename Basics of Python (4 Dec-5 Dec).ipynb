{
 "cells": [
  {
   "cell_type": "code",
   "execution_count": 2,
   "id": "d68e08de",
   "metadata": {},
   "outputs": [
    {
     "name": "stdout",
     "output_type": "stream",
     "text": [
      "The Zen of Python, by Tim Peters\n",
      "\n",
      "Beautiful is better than ugly.\n",
      "Explicit is better than implicit.\n",
      "Simple is better than complex.\n",
      "Complex is better than complicated.\n",
      "Flat is better than nested.\n",
      "Sparse is better than dense.\n",
      "Readability counts.\n",
      "Special cases aren't special enough to break the rules.\n",
      "Although practicality beats purity.\n",
      "Errors should never pass silently.\n",
      "Unless explicitly silenced.\n",
      "In the face of ambiguity, refuse the temptation to guess.\n",
      "There should be one-- and preferably only one --obvious way to do it.\n",
      "Although that way may not be obvious at first unless you're Dutch.\n",
      "Now is better than never.\n",
      "Although never is often better than *right* now.\n",
      "If the implementation is hard to explain, it's a bad idea.\n",
      "If the implementation is easy to explain, it may be a good idea.\n",
      "Namespaces are one honking great idea -- let's do more of those!\n"
     ]
    }
   ],
   "source": [
    "import this"
   ]
  },
  {
   "cell_type": "code",
   "execution_count": 3,
   "id": "57a5ff3a",
   "metadata": {},
   "outputs": [
    {
     "name": "stdout",
     "output_type": "stream",
     "text": [
      "This is my first programme\n"
     ]
    }
   ],
   "source": [
    "print('This is my first programme')"
   ]
  },
  {
   "cell_type": "code",
   "execution_count": 4,
   "id": "13dfa4ce",
   "metadata": {},
   "outputs": [],
   "source": [
    "a = 10"
   ]
  },
  {
   "cell_type": "code",
   "execution_count": 5,
   "id": "01f5351c",
   "metadata": {},
   "outputs": [
    {
     "data": {
      "text/plain": [
       "int"
      ]
     },
     "execution_count": 5,
     "metadata": {},
     "output_type": "execute_result"
    }
   ],
   "source": [
    "type(a)"
   ]
  },
  {
   "cell_type": "code",
   "execution_count": 6,
   "id": "7aceb4bd",
   "metadata": {},
   "outputs": [],
   "source": [
    "b = 10.5"
   ]
  },
  {
   "cell_type": "code",
   "execution_count": 7,
   "id": "00e9e42e",
   "metadata": {},
   "outputs": [
    {
     "data": {
      "text/plain": [
       "float"
      ]
     },
     "execution_count": 7,
     "metadata": {},
     "output_type": "execute_result"
    }
   ],
   "source": [
    "type(b)"
   ]
  },
  {
   "cell_type": "code",
   "execution_count": 8,
   "id": "b16b2e3f",
   "metadata": {},
   "outputs": [],
   "source": [
    "c = 'Diksha'"
   ]
  },
  {
   "cell_type": "code",
   "execution_count": 9,
   "id": "a5f32eb1",
   "metadata": {},
   "outputs": [
    {
     "data": {
      "text/plain": [
       "str"
      ]
     },
     "execution_count": 9,
     "metadata": {},
     "output_type": "execute_result"
    }
   ],
   "source": [
    "type(c)"
   ]
  },
  {
   "cell_type": "code",
   "execution_count": 10,
   "id": "089c7312",
   "metadata": {},
   "outputs": [],
   "source": [
    "d = [1,2,3,4]"
   ]
  },
  {
   "cell_type": "code",
   "execution_count": 11,
   "id": "794e179b",
   "metadata": {},
   "outputs": [
    {
     "data": {
      "text/plain": [
       "list"
      ]
     },
     "execution_count": 11,
     "metadata": {},
     "output_type": "execute_result"
    }
   ],
   "source": [
    "type(d)"
   ]
  },
  {
   "cell_type": "code",
   "execution_count": 12,
   "id": "e15fb808",
   "metadata": {},
   "outputs": [],
   "source": [
    "e = 5+ 6j"
   ]
  },
  {
   "cell_type": "code",
   "execution_count": 13,
   "id": "2416f56c",
   "metadata": {},
   "outputs": [
    {
     "data": {
      "text/plain": [
       "complex"
      ]
     },
     "execution_count": 13,
     "metadata": {},
     "output_type": "execute_result"
    }
   ],
   "source": [
    "type(e)"
   ]
  },
  {
   "cell_type": "code",
   "execution_count": 14,
   "id": "6695ce1e",
   "metadata": {},
   "outputs": [],
   "source": [
    "f = True"
   ]
  },
  {
   "cell_type": "code",
   "execution_count": 15,
   "id": "8bb96b88",
   "metadata": {},
   "outputs": [
    {
     "data": {
      "text/plain": [
       "bool"
      ]
     },
     "execution_count": 15,
     "metadata": {},
     "output_type": "execute_result"
    }
   ],
   "source": [
    "type(f)"
   ]
  },
  {
   "cell_type": "code",
   "execution_count": 16,
   "id": "8b74bd60",
   "metadata": {},
   "outputs": [],
   "source": [
    "a = 10\n",
    "b = 'diksha'\n",
    "c = 10.5\n",
    "d = 4+5j\n",
    "e = False"
   ]
  },
  {
   "cell_type": "code",
   "execution_count": 17,
   "id": "3767b7d8",
   "metadata": {},
   "outputs": [],
   "source": [
    "a,b,c,d,e = 10, 'diksha', 10.5, 4+5j, False"
   ]
  },
  {
   "cell_type": "code",
   "execution_count": 18,
   "id": "f169dd48",
   "metadata": {},
   "outputs": [
    {
     "data": {
      "text/plain": [
       "10.5"
      ]
     },
     "execution_count": 18,
     "metadata": {},
     "output_type": "execute_result"
    }
   ],
   "source": [
    "c.real"
   ]
  },
  {
   "cell_type": "code",
   "execution_count": 19,
   "id": "c7934be8",
   "metadata": {},
   "outputs": [],
   "source": [
    "# Concatination\n",
    "\n",
    "a='diksha'\n",
    "b='4'"
   ]
  },
  {
   "cell_type": "code",
   "execution_count": 20,
   "id": "d949a6c1",
   "metadata": {},
   "outputs": [
    {
     "data": {
      "text/plain": [
       "'diksha4'"
      ]
     },
     "execution_count": 20,
     "metadata": {},
     "output_type": "execute_result"
    }
   ],
   "source": [
    "a+b"
   ]
  },
  {
   "cell_type": "code",
   "execution_count": 28,
   "id": "597d7dd6",
   "metadata": {},
   "outputs": [],
   "source": [
    "a=True+True\n",
    "b=True+False\n",
    "c=True-False\n",
    "d=False+False\n",
    "e=1+True"
   ]
  },
  {
   "cell_type": "code",
   "execution_count": 24,
   "id": "0b0550d1",
   "metadata": {},
   "outputs": [
    {
     "data": {
      "text/plain": [
       "2"
      ]
     },
     "execution_count": 24,
     "metadata": {},
     "output_type": "execute_result"
    }
   ],
   "source": [
    "a"
   ]
  },
  {
   "cell_type": "code",
   "execution_count": 25,
   "id": "d1d50c55",
   "metadata": {},
   "outputs": [
    {
     "data": {
      "text/plain": [
       "1"
      ]
     },
     "execution_count": 25,
     "metadata": {},
     "output_type": "execute_result"
    }
   ],
   "source": [
    "b"
   ]
  },
  {
   "cell_type": "code",
   "execution_count": 26,
   "id": "f5291b5f",
   "metadata": {},
   "outputs": [
    {
     "data": {
      "text/plain": [
       "1"
      ]
     },
     "execution_count": 26,
     "metadata": {},
     "output_type": "execute_result"
    }
   ],
   "source": [
    "c"
   ]
  },
  {
   "cell_type": "code",
   "execution_count": 27,
   "id": "212a16d6",
   "metadata": {},
   "outputs": [
    {
     "data": {
      "text/plain": [
       "0"
      ]
     },
     "execution_count": 27,
     "metadata": {},
     "output_type": "execute_result"
    }
   ],
   "source": [
    "d"
   ]
  },
  {
   "cell_type": "code",
   "execution_count": 29,
   "id": "e407f99f",
   "metadata": {},
   "outputs": [
    {
     "data": {
      "text/plain": [
       "2"
      ]
     },
     "execution_count": 29,
     "metadata": {},
     "output_type": "execute_result"
    }
   ],
   "source": [
    "e"
   ]
  },
  {
   "cell_type": "code",
   "execution_count": 31,
   "id": "39a72368",
   "metadata": {},
   "outputs": [
    {
     "name": "stdout",
     "output_type": "stream",
     "text": [
      "Diksha Lolekar\n"
     ]
    }
   ],
   "source": [
    "a=input()"
   ]
  },
  {
   "cell_type": "code",
   "execution_count": 46,
   "id": "54bf815f",
   "metadata": {
    "scrolled": false
   },
   "outputs": [
    {
     "name": "stdout",
     "output_type": "stream",
     "text": [
      "75475475\n"
     ]
    }
   ],
   "source": [
    "b=input()"
   ]
  },
  {
   "cell_type": "code",
   "execution_count": 47,
   "id": "fd4316f8",
   "metadata": {},
   "outputs": [
    {
     "data": {
      "text/plain": [
       "'75475475'"
      ]
     },
     "execution_count": 47,
     "metadata": {},
     "output_type": "execute_result"
    }
   ],
   "source": [
    "b"
   ]
  },
  {
   "cell_type": "code",
   "execution_count": 42,
   "id": "734728e6",
   "metadata": {},
   "outputs": [],
   "source": [
    "c=45"
   ]
  },
  {
   "cell_type": "code",
   "execution_count": 48,
   "id": "053696b8",
   "metadata": {},
   "outputs": [
    {
     "data": {
      "text/plain": [
       "75475520"
      ]
     },
     "execution_count": 48,
     "metadata": {},
     "output_type": "execute_result"
    }
   ],
   "source": [
    "int(b)+c"
   ]
  },
  {
   "cell_type": "code",
   "execution_count": 49,
   "id": "d606568a",
   "metadata": {},
   "outputs": [],
   "source": [
    "# Datatype\n",
    "\n",
    "d = \"Diksha\""
   ]
  },
  {
   "cell_type": "code",
   "execution_count": 50,
   "id": "d1a0b0c7",
   "metadata": {},
   "outputs": [
    {
     "data": {
      "text/plain": [
       "str"
      ]
     },
     "execution_count": 50,
     "metadata": {},
     "output_type": "execute_result"
    }
   ],
   "source": [
    "type(d)"
   ]
  },
  {
   "cell_type": "code",
   "execution_count": 52,
   "id": "ee28a56d",
   "metadata": {},
   "outputs": [
    {
     "data": {
      "text/plain": [
       "'D'"
      ]
     },
     "execution_count": 52,
     "metadata": {},
     "output_type": "execute_result"
    }
   ],
   "source": [
    "d[0]"
   ]
  },
  {
   "cell_type": "code",
   "execution_count": 55,
   "id": "3bbed0be",
   "metadata": {},
   "outputs": [
    {
     "data": {
      "text/plain": [
       "'a'"
      ]
     },
     "execution_count": 55,
     "metadata": {},
     "output_type": "execute_result"
    }
   ],
   "source": [
    "d[5]"
   ]
  },
  {
   "cell_type": "code",
   "execution_count": 56,
   "id": "4034519f",
   "metadata": {},
   "outputs": [
    {
     "data": {
      "text/plain": [
       "'a'"
      ]
     },
     "execution_count": 56,
     "metadata": {},
     "output_type": "execute_result"
    }
   ],
   "source": [
    "d[-1]"
   ]
  },
  {
   "cell_type": "code",
   "execution_count": 57,
   "id": "d549e94d",
   "metadata": {},
   "outputs": [],
   "source": [
    "a= 'my name is Diksha'"
   ]
  },
  {
   "cell_type": "code",
   "execution_count": 58,
   "id": "c12c0023",
   "metadata": {},
   "outputs": [
    {
     "data": {
      "text/plain": [
       "' '"
      ]
     },
     "execution_count": 58,
     "metadata": {},
     "output_type": "execute_result"
    }
   ],
   "source": [
    "a[-10]"
   ]
  },
  {
   "cell_type": "code",
   "execution_count": 59,
   "id": "b29371c2",
   "metadata": {},
   "outputs": [
    {
     "data": {
      "text/plain": [
       "'m'"
      ]
     },
     "execution_count": 59,
     "metadata": {},
     "output_type": "execute_result"
    }
   ],
   "source": [
    "a[-12]"
   ]
  },
  {
   "cell_type": "code",
   "execution_count": 61,
   "id": "c50d29c4",
   "metadata": {},
   "outputs": [
    {
     "data": {
      "text/plain": [
       "'D'"
      ]
     },
     "execution_count": 61,
     "metadata": {},
     "output_type": "execute_result"
    }
   ],
   "source": [
    "a[11]"
   ]
  },
  {
   "cell_type": "code",
   "execution_count": 64,
   "id": "553f8b35",
   "metadata": {},
   "outputs": [
    {
     "data": {
      "text/plain": [
       "'my name'"
      ]
     },
     "execution_count": 64,
     "metadata": {},
     "output_type": "execute_result"
    }
   ],
   "source": [
    "a[0:7]"
   ]
  },
  {
   "cell_type": "code",
   "execution_count": 71,
   "id": "17029cce",
   "metadata": {},
   "outputs": [
    {
     "data": {
      "text/plain": [
       "'is Diks'"
      ]
     },
     "execution_count": 71,
     "metadata": {},
     "output_type": "execute_result"
    }
   ],
   "source": [
    "a[8:-2]"
   ]
  },
  {
   "cell_type": "code",
   "execution_count": 72,
   "id": "393ad13a",
   "metadata": {},
   "outputs": [
    {
     "data": {
      "text/plain": [
       "'my name is Diksha'"
      ]
     },
     "execution_count": 72,
     "metadata": {},
     "output_type": "execute_result"
    }
   ],
   "source": [
    "a[0:300]"
   ]
  },
  {
   "cell_type": "code",
   "execution_count": 75,
   "id": "eb549bda",
   "metadata": {},
   "outputs": [
    {
     "data": {
      "text/plain": [
       "''"
      ]
     },
     "execution_count": 75,
     "metadata": {},
     "output_type": "execute_result"
    }
   ],
   "source": [
    "a[-1:-4] #Positive Jump"
   ]
  },
  {
   "cell_type": "code",
   "execution_count": 76,
   "id": "932f0870",
   "metadata": {},
   "outputs": [
    {
     "data": {
      "text/plain": [
       "'my name is Diksha'"
      ]
     },
     "execution_count": 76,
     "metadata": {},
     "output_type": "execute_result"
    }
   ],
   "source": [
    "a[0:300:1]"
   ]
  },
  {
   "cell_type": "code",
   "execution_count": 81,
   "id": "d9b23996",
   "metadata": {},
   "outputs": [
    {
     "data": {
      "text/plain": [
       "'m aei isa'"
      ]
     },
     "execution_count": 81,
     "metadata": {},
     "output_type": "execute_result"
    }
   ],
   "source": [
    "a[0:300:2]"
   ]
  },
  {
   "cell_type": "code",
   "execution_count": 88,
   "id": "da6fce24",
   "metadata": {},
   "outputs": [
    {
     "data": {
      "text/plain": [
       "'asi iea m'"
      ]
     },
     "execution_count": 88,
     "metadata": {},
     "output_type": "execute_result"
    }
   ],
   "source": [
    "a[-1:-100:-2]"
   ]
  },
  {
   "cell_type": "code",
   "execution_count": 90,
   "id": "835282dd",
   "metadata": {},
   "outputs": [
    {
     "data": {
      "text/plain": [
       "''"
      ]
     },
     "execution_count": 90,
     "metadata": {},
     "output_type": "execute_result"
    }
   ],
   "source": [
    "a[-1:-4] \n",
    "# not defined jump size so it will consider default (+1) "
   ]
  },
  {
   "cell_type": "code",
   "execution_count": 95,
   "id": "dc44285b",
   "metadata": {},
   "outputs": [
    {
     "data": {
      "text/plain": [
       "'m'"
      ]
     },
     "execution_count": 95,
     "metadata": {},
     "output_type": "execute_result"
    }
   ],
   "source": [
    "a[0:-20:-1]"
   ]
  },
  {
   "cell_type": "code",
   "execution_count": 96,
   "id": "ccc868d7",
   "metadata": {},
   "outputs": [
    {
     "data": {
      "text/plain": [
       "'my name is Diksha'"
      ]
     },
     "execution_count": 96,
     "metadata": {},
     "output_type": "execute_result"
    }
   ],
   "source": [
    "a[::]"
   ]
  },
  {
   "cell_type": "code",
   "execution_count": 97,
   "id": "935a8bea",
   "metadata": {},
   "outputs": [
    {
     "data": {
      "text/plain": [
       "'my name '"
      ]
     },
     "execution_count": 97,
     "metadata": {},
     "output_type": "execute_result"
    }
   ],
   "source": [
    "a[:8]"
   ]
  },
  {
   "cell_type": "code",
   "execution_count": 98,
   "id": "149ef40d",
   "metadata": {},
   "outputs": [
    {
     "data": {
      "text/plain": [
       "'ha'"
      ]
     },
     "execution_count": 98,
     "metadata": {},
     "output_type": "execute_result"
    }
   ],
   "source": [
    "a[-2:]"
   ]
  },
  {
   "cell_type": "code",
   "execution_count": 99,
   "id": "5062176d",
   "metadata": {},
   "outputs": [
    {
     "data": {
      "text/plain": [
       "'h'"
      ]
     },
     "execution_count": 99,
     "metadata": {},
     "output_type": "execute_result"
    }
   ],
   "source": [
    "a[-2:-1]"
   ]
  },
  {
   "cell_type": "code",
   "execution_count": 100,
   "id": "c9132b14",
   "metadata": {},
   "outputs": [
    {
     "data": {
      "text/plain": [
       "'ahskiD si eman ym'"
      ]
     },
     "execution_count": 100,
     "metadata": {},
     "output_type": "execute_result"
    }
   ],
   "source": [
    "a[::-1]"
   ]
  },
  {
   "cell_type": "code",
   "execution_count": 101,
   "id": "b8fc2460",
   "metadata": {},
   "outputs": [
    {
     "data": {
      "text/plain": [
       "'iD si e'"
      ]
     },
     "execution_count": 101,
     "metadata": {},
     "output_type": "execute_result"
    }
   ],
   "source": [
    "a[-5:5:-1]"
   ]
  },
  {
   "cell_type": "code",
   "execution_count": 102,
   "id": "3017ddbe",
   "metadata": {
    "scrolled": true
   },
   "outputs": [
    {
     "data": {
      "text/plain": [
       "'hskiD si'"
      ]
     },
     "execution_count": 102,
     "metadata": {},
     "output_type": "execute_result"
    }
   ],
   "source": [
    "a[-2:-10:-1]"
   ]
  },
  {
   "cell_type": "code",
   "execution_count": 105,
   "id": "2308157b",
   "metadata": {},
   "outputs": [
    {
     "data": {
      "text/plain": [
       "'Diksha Lolekar'"
      ]
     },
     "execution_count": 105,
     "metadata": {},
     "output_type": "execute_result"
    }
   ],
   "source": [
    "\"Diksha \" + \"Lolekar\""
   ]
  },
  {
   "cell_type": "code",
   "execution_count": 108,
   "id": "90e94af9",
   "metadata": {},
   "outputs": [
    {
     "data": {
      "text/plain": [
       "'Diksha Diksha '"
      ]
     },
     "execution_count": 108,
     "metadata": {},
     "output_type": "execute_result"
    }
   ],
   "source": [
    "\"Diksha \"*2"
   ]
  },
  {
   "cell_type": "code",
   "execution_count": 110,
   "id": "3822af88",
   "metadata": {},
   "outputs": [
    {
     "data": {
      "text/plain": [
       "'my name is Diksha'"
      ]
     },
     "execution_count": 110,
     "metadata": {},
     "output_type": "execute_result"
    }
   ],
   "source": [
    "a"
   ]
  },
  {
   "cell_type": "code",
   "execution_count": 109,
   "id": "14d476e0",
   "metadata": {},
   "outputs": [
    {
     "data": {
      "text/plain": [
       "17"
      ]
     },
     "execution_count": 109,
     "metadata": {},
     "output_type": "execute_result"
    }
   ],
   "source": [
    "len(a)"
   ]
  },
  {
   "cell_type": "code",
   "execution_count": 111,
   "id": "b84c0cab",
   "metadata": {},
   "outputs": [
    {
     "data": {
      "text/plain": [
       "4"
      ]
     },
     "execution_count": 111,
     "metadata": {},
     "output_type": "execute_result"
    }
   ],
   "source": [
    "a.find('a')"
   ]
  },
  {
   "cell_type": "code",
   "execution_count": 113,
   "id": "20a35361",
   "metadata": {},
   "outputs": [
    {
     "data": {
      "text/plain": [
       "11"
      ]
     },
     "execution_count": 113,
     "metadata": {},
     "output_type": "execute_result"
    }
   ],
   "source": [
    "a.find('D')"
   ]
  },
  {
   "cell_type": "code",
   "execution_count": 115,
   "id": "ed0c3732",
   "metadata": {},
   "outputs": [
    {
     "data": {
      "text/plain": [
       "12"
      ]
     },
     "execution_count": 115,
     "metadata": {},
     "output_type": "execute_result"
    }
   ],
   "source": [
    "a.find('ik')"
   ]
  },
  {
   "cell_type": "code",
   "execution_count": 116,
   "id": "8dbdb39c",
   "metadata": {},
   "outputs": [
    {
     "data": {
      "text/plain": [
       "1"
      ]
     },
     "execution_count": 116,
     "metadata": {},
     "output_type": "execute_result"
    }
   ],
   "source": [
    "a.count(a)"
   ]
  },
  {
   "cell_type": "code",
   "execution_count": 117,
   "id": "8f7ce44e",
   "metadata": {},
   "outputs": [
    {
     "data": {
      "text/plain": [
       "2"
      ]
     },
     "execution_count": 117,
     "metadata": {},
     "output_type": "execute_result"
    }
   ],
   "source": [
    "a.count('i')"
   ]
  },
  {
   "cell_type": "code",
   "execution_count": 118,
   "id": "9eb0e01d",
   "metadata": {},
   "outputs": [
    {
     "data": {
      "text/plain": [
       "'my name is Diksha'"
      ]
     },
     "execution_count": 118,
     "metadata": {},
     "output_type": "execute_result"
    }
   ],
   "source": [
    "a"
   ]
  },
  {
   "cell_type": "code",
   "execution_count": 125,
   "id": "17e33e90",
   "metadata": {},
   "outputs": [
    {
     "data": {
      "text/plain": [
       "str"
      ]
     },
     "execution_count": 125,
     "metadata": {},
     "output_type": "execute_result"
    }
   ],
   "source": [
    "type(a)"
   ]
  },
  {
   "cell_type": "code",
   "execution_count": 122,
   "id": "75ecc531",
   "metadata": {},
   "outputs": [],
   "source": [
    "l= a.split()"
   ]
  },
  {
   "cell_type": "code",
   "execution_count": 123,
   "id": "f3946c6c",
   "metadata": {},
   "outputs": [
    {
     "data": {
      "text/plain": [
       "['my', 'name', 'is', 'Diksha']"
      ]
     },
     "execution_count": 123,
     "metadata": {},
     "output_type": "execute_result"
    }
   ],
   "source": [
    "l"
   ]
  },
  {
   "cell_type": "code",
   "execution_count": 124,
   "id": "f92f8f67",
   "metadata": {},
   "outputs": [
    {
     "data": {
      "text/plain": [
       "list"
      ]
     },
     "execution_count": 124,
     "metadata": {},
     "output_type": "execute_result"
    }
   ],
   "source": [
    "type(l)"
   ]
  },
  {
   "cell_type": "code",
   "execution_count": 126,
   "id": "8403214a",
   "metadata": {},
   "outputs": [
    {
     "data": {
      "text/plain": [
       "['my', 'name', 'is']"
      ]
     },
     "execution_count": 126,
     "metadata": {},
     "output_type": "execute_result"
    }
   ],
   "source": [
    "l[0:3]"
   ]
  },
  {
   "cell_type": "code",
   "execution_count": 127,
   "id": "a3723374",
   "metadata": {},
   "outputs": [
    {
     "data": {
      "text/plain": [
       "'my'"
      ]
     },
     "execution_count": 127,
     "metadata": {},
     "output_type": "execute_result"
    }
   ],
   "source": [
    "l[0]"
   ]
  },
  {
   "cell_type": "code",
   "execution_count": 128,
   "id": "e658a85e",
   "metadata": {},
   "outputs": [
    {
     "data": {
      "text/plain": [
       "['my name is ', 'iksha']"
      ]
     },
     "execution_count": 128,
     "metadata": {},
     "output_type": "execute_result"
    }
   ],
   "source": [
    "a.split('D')"
   ]
  },
  {
   "cell_type": "code",
   "execution_count": 129,
   "id": "90af72e5",
   "metadata": {},
   "outputs": [
    {
     "data": {
      "text/plain": [
       "'MY NAME IS DIKSHA'"
      ]
     },
     "execution_count": 129,
     "metadata": {},
     "output_type": "execute_result"
    }
   ],
   "source": [
    "a.upper()"
   ]
  },
  {
   "cell_type": "code",
   "execution_count": 130,
   "id": "75cf364f",
   "metadata": {},
   "outputs": [
    {
     "data": {
      "text/plain": [
       "'my name is diksha'"
      ]
     },
     "execution_count": 130,
     "metadata": {},
     "output_type": "execute_result"
    }
   ],
   "source": [
    "a.lower()"
   ]
  },
  {
   "cell_type": "code",
   "execution_count": 132,
   "id": "e6d2f0f8",
   "metadata": {},
   "outputs": [
    {
     "data": {
      "text/plain": [
       "'MY NAME IS dIKSHA'"
      ]
     },
     "execution_count": 132,
     "metadata": {},
     "output_type": "execute_result"
    }
   ],
   "source": [
    "a.swapcase()"
   ]
  },
  {
   "cell_type": "code",
   "execution_count": 133,
   "id": "f802b5d3",
   "metadata": {},
   "outputs": [
    {
     "data": {
      "text/plain": [
       "'My Name Is Diksha'"
      ]
     },
     "execution_count": 133,
     "metadata": {},
     "output_type": "execute_result"
    }
   ],
   "source": [
    "a.title()"
   ]
  },
  {
   "cell_type": "code",
   "execution_count": 134,
   "id": "2de1ed8d",
   "metadata": {},
   "outputs": [
    {
     "data": {
      "text/plain": [
       "'My name is diksha'"
      ]
     },
     "execution_count": 134,
     "metadata": {},
     "output_type": "execute_result"
    }
   ],
   "source": [
    "a.capitalize()"
   ]
  },
  {
   "cell_type": "code",
   "execution_count": 136,
   "id": "6dd6a721",
   "metadata": {},
   "outputs": [],
   "source": [
    "b= \"Diksha\"\n",
    "c= \"Lolekar\""
   ]
  },
  {
   "cell_type": "code",
   "execution_count": 137,
   "id": "902d0b27",
   "metadata": {},
   "outputs": [
    {
     "data": {
      "text/plain": [
       "'LDikshaoDikshalDikshaeDikshakDikshaaDikshar'"
      ]
     },
     "execution_count": 137,
     "metadata": {},
     "output_type": "execute_result"
    }
   ],
   "source": [
    "b.join(c)"
   ]
  },
  {
   "cell_type": "code",
   "execution_count": 138,
   "id": "88695725",
   "metadata": {},
   "outputs": [
    {
     "data": {
      "text/plain": [
       "'D i k s h a'"
      ]
     },
     "execution_count": 138,
     "metadata": {},
     "output_type": "execute_result"
    }
   ],
   "source": [
    "\" \".join(\"Diksha\")"
   ]
  },
  {
   "cell_type": "code",
   "execution_count": 141,
   "id": "dd0560a9",
   "metadata": {},
   "outputs": [
    {
     "name": "stdout",
     "output_type": "stream",
     "text": [
      "a\n",
      "h\n",
      "s\n",
      "k\n",
      "i\n",
      "D\n"
     ]
    }
   ],
   "source": [
    "for i in reversed(\"Diksha\"):\n",
    "      print(i)"
   ]
  },
  {
   "cell_type": "code",
   "execution_count": 142,
   "id": "edc8d3a0",
   "metadata": {},
   "outputs": [
    {
     "data": {
      "text/plain": [
       "'uhskiD'"
      ]
     },
     "execution_count": 142,
     "metadata": {},
     "output_type": "execute_result"
    }
   ],
   "source": [
    "d = \"Dikshu\"\n",
    "d[::-1]"
   ]
  },
  {
   "cell_type": "code",
   "execution_count": 143,
   "id": "585e3ee3",
   "metadata": {},
   "outputs": [],
   "source": [
    "d = \" Dikshu \""
   ]
  },
  {
   "cell_type": "code",
   "execution_count": 144,
   "id": "adbe774b",
   "metadata": {},
   "outputs": [
    {
     "data": {
      "text/plain": [
       "'Dikshu'"
      ]
     },
     "execution_count": 144,
     "metadata": {},
     "output_type": "execute_result"
    }
   ],
   "source": [
    "d.strip()"
   ]
  },
  {
   "cell_type": "code",
   "execution_count": 146,
   "id": "bc0a7081",
   "metadata": {},
   "outputs": [
    {
     "data": {
      "text/plain": [
       "'Dikshu '"
      ]
     },
     "execution_count": 146,
     "metadata": {},
     "output_type": "execute_result"
    }
   ],
   "source": [
    "d.lstrip()"
   ]
  },
  {
   "cell_type": "code",
   "execution_count": 149,
   "id": "af343116",
   "metadata": {},
   "outputs": [
    {
     "data": {
      "text/plain": [
       "' Aikshu '"
      ]
     },
     "execution_count": 149,
     "metadata": {},
     "output_type": "execute_result"
    }
   ],
   "source": [
    "d.replace(\"D\", \"A\")"
   ]
  },
  {
   "cell_type": "code",
   "execution_count": 151,
   "id": "f5813a17",
   "metadata": {},
   "outputs": [
    {
     "data": {
      "text/plain": [
       "'Diksha\\\\Lolekar'"
      ]
     },
     "execution_count": 151,
     "metadata": {},
     "output_type": "execute_result"
    }
   ],
   "source": [
    "\"Diksha\\Lolekar\".expandtabs()"
   ]
  },
  {
   "cell_type": "code",
   "execution_count": 152,
   "id": "20d063cc",
   "metadata": {},
   "outputs": [],
   "source": [
    "d= \"Diksha\""
   ]
  },
  {
   "cell_type": "code",
   "execution_count": 153,
   "id": "5be5395f",
   "metadata": {},
   "outputs": [
    {
     "data": {
      "text/plain": [
       "'#################Diksha#################'"
      ]
     },
     "execution_count": 153,
     "metadata": {},
     "output_type": "execute_result"
    }
   ],
   "source": [
    "d.center(40, '#')"
   ]
  },
  {
   "cell_type": "code",
   "execution_count": 156,
   "id": "a8e9eac2",
   "metadata": {},
   "outputs": [
    {
     "data": {
      "text/plain": [
       "'Indians are the best in worlds'"
      ]
     },
     "execution_count": 156,
     "metadata": {},
     "output_type": "execute_result"
    }
   ],
   "source": [
    "f= \"             Indians are the best in worlds\"\n",
    "f.strip()"
   ]
  },
  {
   "cell_type": "code",
   "execution_count": 157,
   "id": "b050533d",
   "metadata": {},
   "outputs": [
    {
     "data": {
      "text/plain": [
       "'             Indians are the best in worlds'"
      ]
     },
     "execution_count": 157,
     "metadata": {},
     "output_type": "execute_result"
    }
   ],
   "source": [
    "f= \"             Indians are the best in worlds\"\n",
    "f.strip('are')"
   ]
  },
  {
   "cell_type": "code",
   "execution_count": 158,
   "id": "757271ce",
   "metadata": {},
   "outputs": [
    {
     "data": {
      "text/plain": [
       "'Diksha'"
      ]
     },
     "execution_count": 158,
     "metadata": {},
     "output_type": "execute_result"
    }
   ],
   "source": [
    "d"
   ]
  },
  {
   "cell_type": "code",
   "execution_count": 159,
   "id": "f8970756",
   "metadata": {},
   "outputs": [
    {
     "data": {
      "text/plain": [
       "False"
      ]
     },
     "execution_count": 159,
     "metadata": {},
     "output_type": "execute_result"
    }
   ],
   "source": [
    "d.isupper()"
   ]
  },
  {
   "cell_type": "code",
   "execution_count": 161,
   "id": "772c8829",
   "metadata": {},
   "outputs": [
    {
     "data": {
      "text/plain": [
       "False"
      ]
     },
     "execution_count": 161,
     "metadata": {},
     "output_type": "execute_result"
    }
   ],
   "source": [
    "d.islower()"
   ]
  },
  {
   "cell_type": "code",
   "execution_count": 162,
   "id": "fffe7f54",
   "metadata": {},
   "outputs": [],
   "source": [
    "g='INDIA'"
   ]
  },
  {
   "cell_type": "code",
   "execution_count": 163,
   "id": "2f21ce34",
   "metadata": {},
   "outputs": [
    {
     "data": {
      "text/plain": [
       "True"
      ]
     },
     "execution_count": 163,
     "metadata": {},
     "output_type": "execute_result"
    }
   ],
   "source": [
    "g.isupper()"
   ]
  },
  {
   "cell_type": "code",
   "execution_count": 164,
   "id": "18f448f1",
   "metadata": {},
   "outputs": [
    {
     "data": {
      "text/plain": [
       "False"
      ]
     },
     "execution_count": 164,
     "metadata": {},
     "output_type": "execute_result"
    }
   ],
   "source": [
    "g.islower()"
   ]
  },
  {
   "cell_type": "code",
   "execution_count": 165,
   "id": "e43c5252",
   "metadata": {},
   "outputs": [
    {
     "data": {
      "text/plain": [
       "False"
      ]
     },
     "execution_count": 165,
     "metadata": {},
     "output_type": "execute_result"
    }
   ],
   "source": [
    "g.isspace()"
   ]
  },
  {
   "cell_type": "code",
   "execution_count": 168,
   "id": "b16ab7dd",
   "metadata": {},
   "outputs": [],
   "source": [
    "h= \"    \""
   ]
  },
  {
   "cell_type": "code",
   "execution_count": 169,
   "id": "923cb97f",
   "metadata": {},
   "outputs": [
    {
     "data": {
      "text/plain": [
       "True"
      ]
     },
     "execution_count": 169,
     "metadata": {},
     "output_type": "execute_result"
    }
   ],
   "source": [
    "h.isspace()"
   ]
  },
  {
   "cell_type": "code",
   "execution_count": 170,
   "id": "a217a4c0",
   "metadata": {},
   "outputs": [
    {
     "data": {
      "text/plain": [
       "False"
      ]
     },
     "execution_count": 170,
     "metadata": {},
     "output_type": "execute_result"
    }
   ],
   "source": [
    "g.isdigit()"
   ]
  },
  {
   "cell_type": "code",
   "execution_count": 173,
   "id": "9008ab64",
   "metadata": {},
   "outputs": [],
   "source": [
    "i= \"65458\""
   ]
  },
  {
   "cell_type": "code",
   "execution_count": 174,
   "id": "8807919a",
   "metadata": {},
   "outputs": [
    {
     "data": {
      "text/plain": [
       "True"
      ]
     },
     "execution_count": 174,
     "metadata": {},
     "output_type": "execute_result"
    }
   ],
   "source": [
    "i.isdigit()"
   ]
  },
  {
   "cell_type": "code",
   "execution_count": 175,
   "id": "77077b9a",
   "metadata": {},
   "outputs": [
    {
     "data": {
      "text/plain": [
       "'Diksha'"
      ]
     },
     "execution_count": 175,
     "metadata": {},
     "output_type": "execute_result"
    }
   ],
   "source": [
    "d"
   ]
  },
  {
   "cell_type": "code",
   "execution_count": 177,
   "id": "975e321e",
   "metadata": {},
   "outputs": [
    {
     "data": {
      "text/plain": [
       "True"
      ]
     },
     "execution_count": 177,
     "metadata": {},
     "output_type": "execute_result"
    }
   ],
   "source": [
    "d.endswith('a')"
   ]
  },
  {
   "cell_type": "code",
   "execution_count": 180,
   "id": "ca0f73b7",
   "metadata": {},
   "outputs": [
    {
     "data": {
      "text/plain": [
       "True"
      ]
     },
     "execution_count": 180,
     "metadata": {},
     "output_type": "execute_result"
    }
   ],
   "source": [
    "d.startswith('D')"
   ]
  },
  {
   "cell_type": "code",
   "execution_count": 181,
   "id": "ea4e415f",
   "metadata": {},
   "outputs": [
    {
     "data": {
      "text/plain": [
       "True"
      ]
     },
     "execution_count": 181,
     "metadata": {},
     "output_type": "execute_result"
    }
   ],
   "source": [
    "d.istitle()"
   ]
  },
  {
   "cell_type": "code",
   "execution_count": 182,
   "id": "d103d0ec",
   "metadata": {},
   "outputs": [
    {
     "data": {
      "text/plain": [
       "b'Diksha'"
      ]
     },
     "execution_count": 182,
     "metadata": {},
     "output_type": "execute_result"
    }
   ],
   "source": [
    "d.encode()"
   ]
  },
  {
   "cell_type": "code",
   "execution_count": 183,
   "id": "71c07475",
   "metadata": {},
   "outputs": [],
   "source": [
    "l = ['Diksha', 'Lolekar', 765, 4+5j, True, 76.53]"
   ]
  },
  {
   "cell_type": "code",
   "execution_count": 185,
   "id": "dc3f5da5",
   "metadata": {},
   "outputs": [
    {
     "data": {
      "text/plain": [
       "['Diksha', 'Lolekar', 765, (4+5j)]"
      ]
     },
     "execution_count": 185,
     "metadata": {},
     "output_type": "execute_result"
    }
   ],
   "source": [
    "l[0:4]"
   ]
  },
  {
   "cell_type": "code",
   "execution_count": 186,
   "id": "ec75e304",
   "metadata": {},
   "outputs": [
    {
     "data": {
      "text/plain": [
       "[76.53, True, (4+5j), 765, 'Lolekar', 'Diksha']"
      ]
     },
     "execution_count": 186,
     "metadata": {},
     "output_type": "execute_result"
    }
   ],
   "source": [
    "l[::-1]"
   ]
  },
  {
   "cell_type": "code",
   "execution_count": 187,
   "id": "f1e57d74",
   "metadata": {},
   "outputs": [
    {
     "data": {
      "text/plain": [
       "list"
      ]
     },
     "execution_count": 187,
     "metadata": {},
     "output_type": "execute_result"
    }
   ],
   "source": [
    "type(l)"
   ]
  },
  {
   "cell_type": "code",
   "execution_count": 188,
   "id": "37760786",
   "metadata": {},
   "outputs": [
    {
     "data": {
      "text/plain": [
       "'Diksha'"
      ]
     },
     "execution_count": 188,
     "metadata": {},
     "output_type": "execute_result"
    }
   ],
   "source": [
    "l[0]"
   ]
  },
  {
   "cell_type": "code",
   "execution_count": 189,
   "id": "8cdb1d1c",
   "metadata": {},
   "outputs": [
    {
     "data": {
      "text/plain": [
       "76.53"
      ]
     },
     "execution_count": 189,
     "metadata": {},
     "output_type": "execute_result"
    }
   ],
   "source": [
    "l[-1]"
   ]
  },
  {
   "cell_type": "code",
   "execution_count": 190,
   "id": "cc39b232",
   "metadata": {},
   "outputs": [
    {
     "data": {
      "text/plain": [
       "'Lolekar'"
      ]
     },
     "execution_count": 190,
     "metadata": {},
     "output_type": "execute_result"
    }
   ],
   "source": [
    "l[-5]"
   ]
  },
  {
   "cell_type": "code",
   "execution_count": 191,
   "id": "5e59446d",
   "metadata": {},
   "outputs": [
    {
     "data": {
      "text/plain": [
       "['Diksha', 'Lolekar', 765, (4+5j), True, 76.53]"
      ]
     },
     "execution_count": 191,
     "metadata": {},
     "output_type": "execute_result"
    }
   ],
   "source": [
    "l"
   ]
  },
  {
   "cell_type": "code",
   "execution_count": 192,
   "id": "29d8c7a7",
   "metadata": {},
   "outputs": [
    {
     "data": {
      "text/plain": [
       "['Diksha', 'Lolekar', 765, (4+5j)]"
      ]
     },
     "execution_count": 192,
     "metadata": {},
     "output_type": "execute_result"
    }
   ],
   "source": [
    "l[0:4]"
   ]
  },
  {
   "cell_type": "code",
   "execution_count": 193,
   "id": "20740e64",
   "metadata": {},
   "outputs": [
    {
     "data": {
      "text/plain": [
       "[76.53, True, (4+5j), 765, 'Lolekar', 'Diksha']"
      ]
     },
     "execution_count": 193,
     "metadata": {},
     "output_type": "execute_result"
    }
   ],
   "source": [
    "l[::-1]"
   ]
  },
  {
   "cell_type": "code",
   "execution_count": 194,
   "id": "d4bed682",
   "metadata": {},
   "outputs": [
    {
     "data": {
      "text/plain": [
       "[76.53]"
      ]
     },
     "execution_count": 194,
     "metadata": {},
     "output_type": "execute_result"
    }
   ],
   "source": [
    "l[-1:6]"
   ]
  },
  {
   "cell_type": "code",
   "execution_count": 196,
   "id": "80287b39",
   "metadata": {},
   "outputs": [
    {
     "data": {
      "text/plain": [
       "'Diksha'"
      ]
     },
     "execution_count": 196,
     "metadata": {},
     "output_type": "execute_result"
    }
   ],
   "source": [
    "l[0]"
   ]
  },
  {
   "cell_type": "code",
   "execution_count": 197,
   "id": "2ea14919",
   "metadata": {},
   "outputs": [
    {
     "data": {
      "text/plain": [
       "str"
      ]
     },
     "execution_count": 197,
     "metadata": {},
     "output_type": "execute_result"
    }
   ],
   "source": [
    "type(l[0])"
   ]
  },
  {
   "cell_type": "code",
   "execution_count": 199,
   "id": "84d807a5",
   "metadata": {},
   "outputs": [
    {
     "data": {
      "text/plain": [
       "'i'"
      ]
     },
     "execution_count": 199,
     "metadata": {},
     "output_type": "execute_result"
    }
   ],
   "source": [
    "l[0][1]"
   ]
  },
  {
   "cell_type": "code",
   "execution_count": 198,
   "id": "36e9a924",
   "metadata": {},
   "outputs": [
    {
     "data": {
      "text/plain": [
       "bool"
      ]
     },
     "execution_count": 198,
     "metadata": {},
     "output_type": "execute_result"
    }
   ],
   "source": [
    "type(l[4])"
   ]
  },
  {
   "cell_type": "code",
   "execution_count": 200,
   "id": "a80d6e83",
   "metadata": {},
   "outputs": [],
   "source": [
    "l1=['Diksha','Lolekar', 6675]\n",
    "l2=['abc', 'pqr', 765.757]"
   ]
  },
  {
   "cell_type": "code",
   "execution_count": 201,
   "id": "2083de49",
   "metadata": {},
   "outputs": [
    {
     "data": {
      "text/plain": [
       "['Diksha', 'Lolekar', 6675, 'abc', 'pqr', 765.757]"
      ]
     },
     "execution_count": 201,
     "metadata": {},
     "output_type": "execute_result"
    }
   ],
   "source": [
    "l1+l2"
   ]
  },
  {
   "cell_type": "code",
   "execution_count": 202,
   "id": "b3d8d066",
   "metadata": {},
   "outputs": [
    {
     "data": {
      "text/plain": [
       "['Diksha', 'Lolekar', 6675, 'Diksha']"
      ]
     },
     "execution_count": 202,
     "metadata": {},
     "output_type": "execute_result"
    }
   ],
   "source": [
    "l1+ ['Diksha']"
   ]
  },
  {
   "cell_type": "code",
   "execution_count": 203,
   "id": "c363fca9",
   "metadata": {},
   "outputs": [
    {
     "data": {
      "text/plain": [
       "['Diksha',\n",
       " 'Lolekar',\n",
       " 6675,\n",
       " 'Diksha',\n",
       " 'Lolekar',\n",
       " 6675,\n",
       " 'Diksha',\n",
       " 'Lolekar',\n",
       " 6675,\n",
       " 'Diksha',\n",
       " 'Lolekar',\n",
       " 6675]"
      ]
     },
     "execution_count": 203,
     "metadata": {},
     "output_type": "execute_result"
    }
   ],
   "source": [
    "l1*4"
   ]
  },
  {
   "cell_type": "code",
   "execution_count": 204,
   "id": "6bb5bc8d",
   "metadata": {},
   "outputs": [
    {
     "data": {
      "text/plain": [
       "['Diksha', 'Lolekar', 6675]"
      ]
     },
     "execution_count": 204,
     "metadata": {},
     "output_type": "execute_result"
    }
   ],
   "source": [
    "l1"
   ]
  },
  {
   "cell_type": "code",
   "execution_count": 207,
   "id": "8a54af29",
   "metadata": {},
   "outputs": [],
   "source": [
    "l1[0]= 'YourName'"
   ]
  },
  {
   "cell_type": "code",
   "execution_count": 208,
   "id": "a58edb29",
   "metadata": {},
   "outputs": [
    {
     "data": {
      "text/plain": [
       "['YourName', 'Lolekar', 6675]"
      ]
     },
     "execution_count": 208,
     "metadata": {},
     "output_type": "execute_result"
    }
   ],
   "source": [
    "l1"
   ]
  },
  {
   "cell_type": "code",
   "execution_count": 209,
   "id": "c87f5dcc",
   "metadata": {},
   "outputs": [],
   "source": [
    "l1[0]= 666464"
   ]
  },
  {
   "cell_type": "code",
   "execution_count": 210,
   "id": "ed1ae428",
   "metadata": {},
   "outputs": [
    {
     "data": {
      "text/plain": [
       "[666464, 'Lolekar', 6675]"
      ]
     },
     "execution_count": 210,
     "metadata": {},
     "output_type": "execute_result"
    }
   ],
   "source": [
    "l1"
   ]
  },
  {
   "cell_type": "code",
   "execution_count": 211,
   "id": "14dd9a31",
   "metadata": {},
   "outputs": [],
   "source": [
    "l[1]= 'Diksha'"
   ]
  },
  {
   "cell_type": "code",
   "execution_count": 212,
   "id": "c5c23311",
   "metadata": {},
   "outputs": [
    {
     "data": {
      "text/plain": [
       "[666464, 'Lolekar', 6675]"
      ]
     },
     "execution_count": 212,
     "metadata": {},
     "output_type": "execute_result"
    }
   ],
   "source": [
    "l1"
   ]
  },
  {
   "cell_type": "code",
   "execution_count": 213,
   "id": "a52ca8f9",
   "metadata": {},
   "outputs": [
    {
     "data": {
      "text/plain": [
       "3"
      ]
     },
     "execution_count": 213,
     "metadata": {},
     "output_type": "execute_result"
    }
   ],
   "source": [
    "len(l1)"
   ]
  },
  {
   "cell_type": "code",
   "execution_count": 214,
   "id": "771dd617",
   "metadata": {},
   "outputs": [
    {
     "data": {
      "text/plain": [
       "False"
      ]
     },
     "execution_count": 214,
     "metadata": {},
     "output_type": "execute_result"
    }
   ],
   "source": [
    "755 in l1"
   ]
  },
  {
   "cell_type": "code",
   "execution_count": 215,
   "id": "6fbb5d40",
   "metadata": {},
   "outputs": [
    {
     "data": {
      "text/plain": [
       "['abc', 'pqr', 765.757]"
      ]
     },
     "execution_count": 215,
     "metadata": {},
     "output_type": "execute_result"
    }
   ],
   "source": [
    "l2"
   ]
  },
  {
   "cell_type": "code",
   "execution_count": 216,
   "id": "f1b7a647",
   "metadata": {},
   "outputs": [],
   "source": [
    "l2.append('Diksha')"
   ]
  },
  {
   "cell_type": "code",
   "execution_count": 218,
   "id": "b2cc776e",
   "metadata": {},
   "outputs": [
    {
     "data": {
      "text/plain": [
       "['abc', 'pqr', 765.757, 'Diksha']"
      ]
     },
     "execution_count": 218,
     "metadata": {},
     "output_type": "execute_result"
    }
   ],
   "source": [
    "l2"
   ]
  },
  {
   "cell_type": "code",
   "execution_count": 219,
   "id": "c1f1d930",
   "metadata": {},
   "outputs": [
    {
     "data": {
      "text/plain": [
       "'Diksha'"
      ]
     },
     "execution_count": 219,
     "metadata": {},
     "output_type": "execute_result"
    }
   ],
   "source": [
    "l2.pop()"
   ]
  },
  {
   "cell_type": "code",
   "execution_count": 220,
   "id": "20d1817b",
   "metadata": {},
   "outputs": [
    {
     "data": {
      "text/plain": [
       "765.757"
      ]
     },
     "execution_count": 220,
     "metadata": {},
     "output_type": "execute_result"
    }
   ],
   "source": [
    "l2.pop(2)"
   ]
  },
  {
   "cell_type": "code",
   "execution_count": 221,
   "id": "1a574a53",
   "metadata": {},
   "outputs": [
    {
     "data": {
      "text/plain": [
       "['abc', 'pqr']"
      ]
     },
     "execution_count": 221,
     "metadata": {},
     "output_type": "execute_result"
    }
   ],
   "source": [
    "l2"
   ]
  },
  {
   "cell_type": "code",
   "execution_count": 222,
   "id": "0ffd9d9c",
   "metadata": {},
   "outputs": [],
   "source": [
    "l2.append(75454)"
   ]
  },
  {
   "cell_type": "code",
   "execution_count": 224,
   "id": "b5f6569e",
   "metadata": {},
   "outputs": [
    {
     "data": {
      "text/plain": [
       "['abc', 'pqr', 75454]"
      ]
     },
     "execution_count": 224,
     "metadata": {},
     "output_type": "execute_result"
    }
   ],
   "source": [
    "l2"
   ]
  },
  {
   "cell_type": "code",
   "execution_count": 227,
   "id": "df5e409f",
   "metadata": {},
   "outputs": [],
   "source": [
    "l2.insert(1,\"hfvhbj\")"
   ]
  },
  {
   "cell_type": "code",
   "execution_count": 229,
   "id": "533af04c",
   "metadata": {},
   "outputs": [
    {
     "data": {
      "text/plain": [
       "['abc', 'hfvhbj', 'pqr', 75454]"
      ]
     },
     "execution_count": 229,
     "metadata": {},
     "output_type": "execute_result"
    }
   ],
   "source": [
    "l2"
   ]
  },
  {
   "cell_type": "code",
   "execution_count": 230,
   "id": "698ff6c5",
   "metadata": {},
   "outputs": [],
   "source": [
    "l2.insert(3,[23,4,55,434,34,3])"
   ]
  },
  {
   "cell_type": "code",
   "execution_count": 231,
   "id": "9c63400e",
   "metadata": {},
   "outputs": [
    {
     "data": {
      "text/plain": [
       "['abc', 'hfvhbj', 'pqr', [23, 4, 55, 434, 34, 3], 75454]"
      ]
     },
     "execution_count": 231,
     "metadata": {},
     "output_type": "execute_result"
    }
   ],
   "source": [
    "l2"
   ]
  },
  {
   "cell_type": "code",
   "execution_count": 234,
   "id": "9e4d105b",
   "metadata": {},
   "outputs": [
    {
     "data": {
      "text/plain": [
       "55"
      ]
     },
     "execution_count": 234,
     "metadata": {},
     "output_type": "execute_result"
    }
   ],
   "source": [
    "l2[3][2]"
   ]
  },
  {
   "cell_type": "code",
   "execution_count": 237,
   "id": "604265bf",
   "metadata": {},
   "outputs": [],
   "source": [
    "l2.append([54,65,75])"
   ]
  },
  {
   "cell_type": "code",
   "execution_count": 238,
   "id": "08d4cc03",
   "metadata": {},
   "outputs": [
    {
     "data": {
      "text/plain": [
       "['abc', 'hfvhbj', 'pqr', [23, 4, 55, 434, 34, 3], 75454, [54, 65, 75]]"
      ]
     },
     "execution_count": 238,
     "metadata": {},
     "output_type": "execute_result"
    }
   ],
   "source": [
    "l2"
   ]
  },
  {
   "cell_type": "code",
   "execution_count": 239,
   "id": "142297ed",
   "metadata": {},
   "outputs": [],
   "source": [
    "l1.extend([23,44,33,55,66])"
   ]
  },
  {
   "cell_type": "code",
   "execution_count": 241,
   "id": "01c29ae0",
   "metadata": {},
   "outputs": [
    {
     "data": {
      "text/plain": [
       "[666464, 'Lolekar', 6675, 23, 44, 33, 55, 66]"
      ]
     },
     "execution_count": 241,
     "metadata": {},
     "output_type": "execute_result"
    }
   ],
   "source": [
    "l1"
   ]
  }
 ],
 "metadata": {
  "kernelspec": {
   "display_name": "Python 3",
   "language": "python",
   "name": "python3"
  },
  "language_info": {
   "codemirror_mode": {
    "name": "ipython",
    "version": 3
   },
   "file_extension": ".py",
   "mimetype": "text/x-python",
   "name": "python",
   "nbconvert_exporter": "python",
   "pygments_lexer": "ipython3",
   "version": "3.8.8"
  }
 },
 "nbformat": 4,
 "nbformat_minor": 5
}
