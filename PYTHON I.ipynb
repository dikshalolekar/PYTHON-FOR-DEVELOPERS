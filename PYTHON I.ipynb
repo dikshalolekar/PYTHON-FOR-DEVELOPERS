{
 "cells": [
  {
   "cell_type": "code",
   "execution_count": null,
   "id": "4c45d21d",
   "metadata": {},
   "outputs": [],
   "source": [
    "a = 10"
   ]
  },
  {
   "cell_type": "code",
   "execution_count": 24,
   "id": "ebfd8fd6",
   "metadata": {},
   "outputs": [],
   "source": [
    "if a < 15:\n",
    "    pass"
   ]
  },
  {
   "cell_type": "code",
   "execution_count": 20,
   "id": "085d550f",
   "metadata": {
    "scrolled": false
   },
   "outputs": [
    {
     "data": {
      "text/plain": [
       "True"
      ]
     },
     "execution_count": 20,
     "metadata": {},
     "output_type": "execute_result"
    }
   ],
   "source": [
    "a < 15"
   ]
  },
  {
   "cell_type": "code",
   "execution_count": 23,
   "id": "b9add660",
   "metadata": {},
   "outputs": [
    {
     "name": "stdout",
     "output_type": "stream",
     "text": [
      "my name is diksha\n"
     ]
    }
   ],
   "source": [
    "if a < 15:\n",
    "    print(\"my name is diksha\")"
   ]
  },
  {
   "cell_type": "code",
   "execution_count": null,
   "id": "8f359a7e",
   "metadata": {},
   "outputs": [],
   "source": [
    "24 < 15"
   ]
  },
  {
   "cell_type": "code",
   "execution_count": null,
   "id": "26d50e1f",
   "metadata": {},
   "outputs": [],
   "source": [
    "if 5<10:\n",
    "        print(\"10 is lesser then 3\")\n",
    "else:\n",
    "        print(\"statement is wrong\")\n",
    "    "
   ]
  },
  {
   "cell_type": "code",
   "execution_count": null,
   "id": "ab35773b",
   "metadata": {
    "scrolled": true
   },
   "outputs": [],
   "source": [
    "income = int(input()) \n",
    "if income < 50 :\n",
    "    print(\"i will be able to buy phone\")\n",
    "elif income < 70:\n",
    "        print(\"i will be able to buy car\")\n",
    "elif income < 90:\n",
    "      print (\"i wil be able to rent house\")\n",
    "else:\n",
    "     print(\"i wont be able to buy anything\")"
   ]
  },
  {
   "cell_type": "code",
   "execution_count": null,
   "id": "4b2822a2",
   "metadata": {},
   "outputs": [],
   "source": [
    "Total_price= int(input())\n",
    "if Total_price > 20000:\n",
    "    discount= Total_price * .20\n",
    "    print(\"Discount will be\", discount)\n",
    "elif Total_price <= 7000:\n",
    "        discount= Total_price * .05\n",
    "else:\n",
    "    print(\"wont be able to give any discount\")"
   ]
  },
  {
   "cell_type": "code",
   "execution_count": null,
   "id": "8b005ec8",
   "metadata": {},
   "outputs": [],
   "source": [
    "coup = \"DIKSHA5\"\n",
    "if coup ==\"DIKSHA5\"\n",
    "   print(\"get discount of 5 %\")\n",
    "    paid_amount = 7000 - 7000* .05\n",
    "    print(\"get oneneuron with this amount\", paid_amount )\n",
    "else:\n",
    "    print(\"use a valid coupon\")"
   ]
  },
  {
   "cell_type": "code",
   "execution_count": null,
   "id": "b56fc573",
   "metadata": {},
   "outputs": [],
   "source": [
    "\"diksh\" == \"diksh\" "
   ]
  },
  {
   "cell_type": "code",
   "execution_count": null,
   "id": "b803f990",
   "metadata": {},
   "outputs": [],
   "source": [
    "study_hour= int(input())\n",
    "if study_hour < 1:\n",
    "    print(\"8-9 month duration\")\n",
    "elif study_hour < 4 and study_hour\n",
    "\n",
    "\n",
    "      \n",
    "        "
   ]
  },
  {
   "cell_type": "code",
   "execution_count": null,
   "id": "66d733c7",
   "metadata": {},
   "outputs": [],
   "source": [
    "a=9 \n",
    "if a==9:\n",
    "    print(\"valid\")"
   ]
  },
  {
   "cell_type": "code",
   "execution_count": null,
   "id": "c35db3e5",
   "metadata": {},
   "outputs": [],
   "source": [
    "s=input()\n",
    "course input()\n",
    "service input()\n",
    "if s == \"oneneuron\":\n",
    "    if course == \"DSA\"\n",
    "    print(\"available\")\n",
    "elif course == \"Blockchain\":\n",
    "    print(\"not available\")\n",
    "elif course == \"FDA\"    \n",
    "    print(\"available\")\n",
    "else:\n",
    "    print(\"not available\")\n",
    "elif s ==\"oneneuronservice\" :\n",
    "    if service ==\"oneneuronrequest\":\n",
    "        print(\"demand for courses\")\n",
    "else:\n",
    "    print(\"provide feedback\")\n",
    "else:\n",
    "    print(\"connect to our team\")\n",
    "    \n"
   ]
  },
  {
   "cell_type": "code",
   "execution_count": 1,
   "id": "436f9df2",
   "metadata": {},
   "outputs": [
    {
     "name": "stdout",
     "output_type": "stream",
     "text": [
      "The Zen of Python, by Tim Peters\n",
      "\n",
      "Beautiful is better than ugly.\n",
      "Explicit is better than implicit.\n",
      "Simple is better than complex.\n",
      "Complex is better than complicated.\n",
      "Flat is better than nested.\n",
      "Sparse is better than dense.\n",
      "Readability counts.\n",
      "Special cases aren't special enough to break the rules.\n",
      "Although practicality beats purity.\n",
      "Errors should never pass silently.\n",
      "Unless explicitly silenced.\n",
      "In the face of ambiguity, refuse the temptation to guess.\n",
      "There should be one-- and preferably only one --obvious way to do it.\n",
      "Although that way may not be obvious at first unless you're Dutch.\n",
      "Now is better than never.\n",
      "Although never is often better than *right* now.\n",
      "If the implementation is hard to explain, it's a bad idea.\n",
      "If the implementation is easy to explain, it may be a good idea.\n",
      "Namespaces are one honking great idea -- let's do more of those!\n"
     ]
    }
   ],
   "source": [
    "import this"
   ]
  },
  {
   "cell_type": "code",
   "execution_count": null,
   "id": "b8079a23",
   "metadata": {},
   "outputs": [],
   "source": [
    "print(\"DIKSHA\")\n",
    "\n",
    "d= 5+6j\n",
    "\n",
    "d\n",
    "\n",
    "type(d)\n",
    "\n",
    "True + True\n",
    "\n",
    "1 + True\n",
    "\n",
    "True + False\n",
    "\n",
    "True - False\n",
    "\n",
    "input()\n",
    "\n",
    "a =35443453\n",
    "\n",
    "b = 45\n",
    "\n",
    "\n",
    "int(a)+b\n",
    "\n",
    "\n",
    "a = input()\n",
    "\n",
    "pwd()  \n",
    "\n",
    "s=\"Diksha\"\n",
    "\n",
    "type(s)"
   ]
  }
 ],
 "metadata": {
  "kernelspec": {
   "display_name": "Python 3",
   "language": "python",
   "name": "python3"
  },
  "language_info": {
   "codemirror_mode": {
    "name": "ipython",
    "version": 3
   },
   "file_extension": ".py",
   "mimetype": "text/x-python",
   "name": "python",
   "nbconvert_exporter": "python",
   "pygments_lexer": "ipython3",
   "version": "3.8.8"
  }
 },
 "nbformat": 4,
 "nbformat_minor": 5
}
